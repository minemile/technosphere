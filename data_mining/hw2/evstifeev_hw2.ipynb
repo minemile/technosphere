{
 "cells": [
  {
   "cell_type": "markdown",
   "metadata": {},
   "source": [
    "# Алгоритмы интеллектуальной обработки больших объемов данных\n",
    "## Домашнее задание №2 - Дерево решений\n"
   ]
  },
  {
   "cell_type": "markdown",
   "metadata": {},
   "source": [
    "**Общая информация**\n",
    "\n",
    "**Срок сдачи:** до 27 марта 2018, 06:00   \n",
    "**Штраф за опоздание:** -2 балла после 06:00 27 марта, -4 балла после 06:00 3 апреля, -6 баллов после 06:00 10 апреля\n",
    "\n",
    "При отправлении ДЗ указывайте фамилию в названии файла   \n",
    "\n",
    "\n",
    "Присылать ДЗ необходимо в виде ссылки на свой github репозиторий в slack @alkhamush\n",
    "Необходимо в slack создать таск в приватный чат:   \n",
    "/todo Фамилия Имя *ссылка на гитхаб* @alkhamush   \n",
    "Пример:   \n",
    "/todo Ксения Стройкова https://github.com/stroykova/spheremailru/stroykova_hw2.ipynb @alkhamush   \n",
    "\n",
    "Используйте данный Ipython Notebook при оформлении домашнего задания."
   ]
  },
  {
   "cell_type": "markdown",
   "metadata": {},
   "source": [
    "###### Задание 1 (2 баллов)\n",
    "Разберитесь в коде MyDecisionTreeClassifier, который уже частично реализован. В комментариях, где написано \"Что делает этот блок кода?\", ответьте на этот вопрос. Допишите код там, где написано \"Ваш код\". Ваша реализация дерева должна работать по точности не хуже DecisionTreeClassifier из sklearn. Точность проверяется на wine и Speed Dating Data.\n",
    "\n",
    "###### Задание 2 (2 балла)\n",
    "Добиться скорости работы на fit сравнимой со sklearn wine и Speed Dating Data. \n",
    "Для этого используем numpy. \n",
    "\n",
    "###### Задание 3 (2 балла)\n",
    "Продемонстрируйте умение работать с Pipeline на данных Speed Dating Data и DecisionTreeClassifier. Нужно в pipeline произвести все необходимые преобразования данных и в конце обучить модель. Задание реализуйте под пунктом Задание 3 (уже написано ниже)\n",
    "\n",
    "###### Задание 4 (2 балла)\n",
    "Добавьте функционал, который определяет значения feature importance. Выведите 10 главных фичей под пунктом Задание 4 (уже написано ниже) для MyDecisionTreeClassifier и DecisionTreeClassifier так, чтобы сразу были видны выводы и по MyDecisionTreeClassifier, и по DecisionTreeClassifier. Используем данные Speed Dating Data.\n",
    "\n",
    "###### Задание 5 (2 балла)\n",
    "С помощью GridSearchCV или RandomSearchCV подберите наиболее оптимальные параметры для случайного леса (Выберете 2-3 параметра). Используем данные Speed Dating Data. Задание реализуйте под пунктом Задание 5 (уже написано ниже)\n",
    "\n",
    "\n",
    "**Штрафные баллы:**\n",
    "\n",
    "1. Невыполнение PEP8 -1 балл\n",
    "2. Отсутствие фамилии в имени скрипта (скрипт должен называться по аналогии со stroykova_hw2.ipynb) -1 балл\n",
    "3. Все строчки должны быть выполнены. Нужно, чтобы output команды можно было увидеть уже в git'е. В противном случае -1 балл\n",
    "4. При оформлении ДЗ нужно пользоваться данным файлом в качестве шаблона. Не нужно удалять и видоизменять написанный код и текст. В противном случае -1 балл"
   ]
  },
  {
   "cell_type": "code",
   "execution_count": 63,
   "metadata": {},
   "outputs": [
    {
     "name": "stdout",
     "output_type": "stream",
     "text": [
      "The pycodestyle_magic extension is already loaded. To reload it, use:\n",
      "  %reload_ext pycodestyle_magic\n"
     ]
    }
   ],
   "source": [
    "import matplotlib.pyplot as plt\n",
    "import numpy as np\n",
    "import pandas as pd\n",
    "\n",
    "from sklearn.datasets import load_wine\n",
    "from sklearn.ensemble import RandomForestClassifier\n",
    "from sklearn.metrics import accuracy_score, f1_score\n",
    "from sklearn.model_selection import KFold, train_test_split, GridSearchCV, RandomizedSearchCV\n",
    "from sklearn.tree import DecisionTreeClassifier\n",
    "from sklearn.base import TransformerMixin\n",
    "from sklearn.pipeline import Pipeline\n",
    "from sklearn.model_selection import GridSearchCV\n",
    "\n",
    "%matplotlib inline\n",
    "%load_ext pycodestyle_magic"
   ]
  },
  {
   "cell_type": "code",
   "execution_count": 87,
   "metadata": {},
   "outputs": [],
   "source": [
    "#%%pycodestyle\n",
    "\n",
    "\n",
    "class MyDecisionTreeClassifier:\n",
    "    NON_LEAF_TYPE = 0\n",
    "    LEAF_TYPE = 1\n",
    "\n",
    "    def __init__(self, min_samples_split=2, max_depth=None,\n",
    "                 sufficient_share=1.0, criterion='gini', max_features=None):\n",
    "        self.tree = dict()\n",
    "        self.min_samples_split = min_samples_split\n",
    "        self.max_depth = max_depth\n",
    "        self.sufficient_share = sufficient_share\n",
    "        self.num_class = -1\n",
    "        self.feature_importances_ = None\n",
    "        if criterion == 'gini':\n",
    "            self.G_function = self.__gini\n",
    "        elif criterion == 'entropy':\n",
    "            self.G_function = self.__entropy\n",
    "        elif criterion == 'misclass':\n",
    "            self.G_function = self.__misclass\n",
    "        else:\n",
    "            print('invalid criterion name')\n",
    "            raise\n",
    "\n",
    "        if max_features == 'sqrt':\n",
    "            self.get_feature_ids = self.__get_feature_ids_sqrt\n",
    "        elif max_features == 'log2':\n",
    "            self.get_feature_ids = self.__get_feature_ids_log2\n",
    "        elif max_features is None:\n",
    "            self.get_feature_ids = self.__get_feature_ids_N\n",
    "        else:\n",
    "            print('invalid max_features name')\n",
    "            raise\n",
    "\n",
    "    def __gini(self, l_c, l_s, r_c, r_s):\n",
    "        l_s = l_s.astype('float')\n",
    "        r_s = r_s.astype('float')\n",
    "        l_w = l_s / (l_s + r_s)\n",
    "        return l_w * (1 - ((l_c / l_s)**2).sum(axis=1, keepdims=True)) + \\\n",
    "            (1 - l_w) * (1 - ((r_c / r_s)**2).sum(axis=1, keepdims=True))\n",
    "\n",
    "    def __entropy(self, l_c, l_s, r_c, r_s):\n",
    "        p_l = l_c / l_s\n",
    "        p_r = r_c / r_s\n",
    "        h_l = -(p_l * np.nan_to_num(np.log2(p_l))).sum(axis=1, keepdims=True)\n",
    "        h_r = -(p_r * np.nan_to_num(np.log2(p_r))).sum(axis=1, keepdims=True)\n",
    "        l_w = l_s / (l_s + r_s)\n",
    "        return l_w * h_l + (1 - l_w) * h_r\n",
    "\n",
    "    def __misclass(self, l_c, l_s, r_c, r_s):\n",
    "        l_w = l_s / (l_s + r_s)\n",
    "\n",
    "        return l_w * (1 - np.max((l_c / l_s), axis=1, keepdims=True)) + \\\n",
    "            (1 - l_w) * (1 - np.max((r_c / r_s), axis=1, keepdims=True))\n",
    "\n",
    "    def __get_feature_ids_sqrt(self, n_feature):\n",
    "        feature_ids = np.arange(n_feature)\n",
    "        np.random.shuffle(feature_ids)\n",
    "        return feature_ids[:int(np.sqrt(n_feature))]\n",
    "\n",
    "    def __get_feature_ids_log2(self, n_feature):\n",
    "        feature_ids = np.arange(n_feature)\n",
    "        np.random.shuffle(feature_ids)\n",
    "        return feature_ids[:int(np.log2(n_feature))]\n",
    "\n",
    "    def __get_feature_ids_N(self, n_feature):\n",
    "        return np.arange(n_feature)\n",
    "\n",
    "    def __sort_samples(self, x, y):\n",
    "        sorted_idx = x.argsort()\n",
    "        return x[sorted_idx], y[sorted_idx]\n",
    "\n",
    "    def __div_samples(self, x, y, feature_id, threshold):\n",
    "        left_mask = x[:, feature_id] > threshold\n",
    "        right_mask = ~left_mask\n",
    "        return x[left_mask], x[right_mask], y[left_mask], y[right_mask]\n",
    "\n",
    "    def __find_threshold(self, x, y):\n",
    "        # Что делает этот блок кода?\n",
    "        # Сортируем элементы по x, для того, чтобы лучше находить разбиение\n",
    "        # по непрерывному признаку\n",
    "        # class_number - количество уникальных классов\n",
    "        sorted_x, sorted_y = self.__sort_samples(x, y)\n",
    "        # class_number = np.unique(y).shape[0]\n",
    "        class_number = self.num_class\n",
    "        # Slack feature!\n",
    "        cut_size = int(self.min_samples_split / 2) - 1\n",
    "        # Что делает этот блок кода?\n",
    "        # Вырезаем из y середину по минимальному количеству\n",
    "        # элементов разбиения(min_samples_split\\cut_size)\n",
    "        splitted_sorted_y = sorted_y[cut_size:-\n",
    "                                     cut_size] if cut_size != 0 else sorted_y\n",
    "        # Получаем индексы, по которым происходит переход между классами,\n",
    "        # т.е находим индексы порогов\n",
    "        r_border_ids = np.where(splitted_sorted_y[:-1]\n",
    "                                != splitted_sorted_y[1:])[0] + (cut_size + 1)\n",
    "\n",
    "        if len(r_border_ids) == 0:\n",
    "            return float('+inf'), None\n",
    "\n",
    "        # Что делает этот блок кода?\n",
    "        # eq_el_count - расстояния между порогами\n",
    "        eq_el_count = r_border_ids - np.append([cut_size], r_border_ids[:-1])\n",
    "        # Кодируем категориальные переменные\n",
    "        # (например для класса 2 будет 0, 0, 1) для каждой левой части разбиени\n",
    "        one_hot_code = np.zeros((r_border_ids.shape[0], class_number))\n",
    "        one_hot_code[np.arange(r_border_ids.shape[0]),\n",
    "                     sorted_y[r_border_ids - 1]] = 1\n",
    "        # Считаем количество классов в каждой левой части разбиений\n",
    "        class_increments = one_hot_code * eq_el_count.reshape(-1, 1)\n",
    "        # И добавляем оставшуюся, отрезанную крайнюю левую часть\n",
    "        class_increments[0] = class_increments[0] + \\\n",
    "            np.bincount(sorted_y[:cut_size], minlength=class_number)\n",
    "\n",
    "        # Что делает этот блок кода?\n",
    "        # Считаем сумму количеств классов для каждой левой части\n",
    "        l_class_count = np.cumsum(class_increments, axis=0)\n",
    "        # Сумма количеств классов для правой части.\n",
    "        # По сути вычитаем из суммы всех классов суммы количеств\n",
    "        # левой частей разбиений\n",
    "        r_class_count = np.bincount(\n",
    "            sorted_y, minlength=class_number) - l_class_count\n",
    "        # Количество элементов левой и правой частей разбиений\n",
    "        l_sizes = r_border_ids.reshape(l_class_count.shape[0], 1)\n",
    "        r_sizes = sorted_y.shape[0] - l_sizes\n",
    "\n",
    "        # Что делает этот блок кода?\n",
    "        # Вычисление неопределенности по заданному критерию\n",
    "        # для каждой из частей разбиений\n",
    "        gs = self.G_function(l_class_count, l_sizes, r_class_count, r_sizes)\n",
    "        # Ищем индекс наименьшую неопределенность\n",
    "        idx = np.argmin(gs)\n",
    "\n",
    "        # Что делает этот блок кода?\n",
    "        # Получает индекс наилучшего разбиения\n",
    "        left_el_id = l_sizes[idx][0]\n",
    "        # Возвращает из функции значение наименьшей неопределенности и\n",
    "        # медиану разбиения к этой неопределенности\n",
    "        return gs[idx], (sorted_x[left_el_id - 1] + sorted_x[left_el_id]) / 2.0\n",
    "\n",
    "    def __create_leaf(self, y):\n",
    "        classes_count = np.bincount(\n",
    "            y, minlength=self.num_class).astype('float')\n",
    "        probs = classes_count / np.sum(classes_count)\n",
    "        return (self.LEAF_TYPE, classes_count.argmax(), probs)\n",
    "\n",
    "    def __fit_node(self, x, y, node_id, depth, pred_f=-1):\n",
    "        if depth == self.max_depth or np.unique(y).size == 1 or \\\n",
    "                np.bincount(y).max() >= (y.size * self.sufficient_share) \\\n",
    "                or y.size <= self.min_samples_split:\n",
    "            self.tree[node_id] = self.__create_leaf(y)\n",
    "            return\n",
    "        feature_ids = self.get_feature_ids(x.shape[1])\n",
    "        thresholds = np.empty(x.shape[1])\n",
    "        gss = np.empty(x.shape[1])\n",
    "        for feature_id in feature_ids:\n",
    "            gss[feature_id], thresholds[feature_id] = self.__find_threshold(\n",
    "                x[:, feature_id], y)\n",
    "        best_feature_id = gss.argmin()\n",
    "        best_threashold = thresholds[best_feature_id]\n",
    "        l_x, r_x, l_y, r_y = self.__div_samples(\n",
    "            x, y, best_feature_id, best_threashold)\n",
    "        if l_y.size == 0 or r_y.size == 0:\n",
    "            self.tree[node_id] = self.__create_leaf(y)\n",
    "            return\n",
    "        self.feature_importances_[\n",
    "            best_feature_id] = self.info_gain(y, l_y, r_y).max()\n",
    "        self.tree[node_id] = (self.NON_LEAF_TYPE,\n",
    "                              best_feature_id, best_threashold)\n",
    "        # Left subtree\n",
    "        self.__fit_node(l_x, l_y, node_id * 2 + 1, depth + 1)\n",
    "        # Right subtree\n",
    "        self.__fit_node(r_x, r_y, node_id * 2 + 2, depth + 1)\n",
    "\n",
    "    def info_gain(self, y, l_y, r_y):\n",
    "        y_c = np.bincount(y, minlength=self.num_class)\n",
    "        l_y_c = np.bincount(l_y, minlength=self.num_class)\n",
    "        r_y_c = np.bincount(r_y, minlength=self.num_class)\n",
    "        p = l_y.size / (l_y.size + r_y.size)\n",
    "        return (1 - ((y_c / y.size)**2).sum()) - \\\n",
    "            p * (1 - ((l_y_c / l_y.size)**2).sum()) - \\\n",
    "            (1 - p) * (1 - ((r_y_c / r_y.size)**2).sum())\n",
    "\n",
    "    def fit(self, x, y):\n",
    "        self.num_class = np.unique(y).size\n",
    "        self.feature_importances_ = np.empty(x.shape[1])\n",
    "        self.__fit_node(x, y, 0, 0)\n",
    "\n",
    "    def __predict_class(self, x, node_id):\n",
    "        node = self.tree[node_id]\n",
    "        if node[0] == self.__class__.NON_LEAF_TYPE:\n",
    "            _, feature_id, threshold = node\n",
    "            if x[feature_id] > threshold:\n",
    "                return self.__predict_class(x, 2 * node_id + 1)\n",
    "            else:\n",
    "                return self.__predict_class(x, 2 * node_id + 2)\n",
    "        else:\n",
    "            return node[1]\n",
    "\n",
    "    def __predict_probs(self, x, node_id):\n",
    "        node = self.tree[node_id]\n",
    "        if node[0] == self.__class__.NON_LEAF_TYPE:\n",
    "            _, feature_id, threshold = node\n",
    "            if x[feature_id] > threshold:\n",
    "                return self.__predict_probs(x, 2 * node_id + 1)\n",
    "            else:\n",
    "                return self.__predict_probs(x, 2 * node_id + 2)\n",
    "        else:\n",
    "            return node[2]\n",
    "\n",
    "    def predict(self, X):\n",
    "        return np.array([self.__predict_class(x, 0) for x in X])\n",
    "\n",
    "    def predict_probs(self, X):\n",
    "        return np.array([self.__predict_probs(x, 0) for x in X])\n",
    "\n",
    "    def fit_predict(self, x_train, y_train, predicted_x):\n",
    "        self.fit(x_train, y_train)\n",
    "        return self.predict(predicted_x)\n"
   ]
  },
  {
   "cell_type": "code",
   "execution_count": 65,
   "metadata": {},
   "outputs": [],
   "source": [
    "my_clf = MyDecisionTreeClassifier(min_samples_split=2)\n",
    "clf = DecisionTreeClassifier(min_samples_split=2)"
   ]
  },
  {
   "cell_type": "code",
   "execution_count": 66,
   "metadata": {},
   "outputs": [],
   "source": [
    "wine = load_wine()\n",
    "X_train, X_test, y_train, y_test = train_test_split(wine.data, wine.target, test_size=0.1, stratify=wine.target)"
   ]
  },
  {
   "cell_type": "markdown",
   "metadata": {},
   "source": [
    "## Проверка скорости работы на wine"
   ]
  },
  {
   "cell_type": "code",
   "execution_count": 67,
   "metadata": {
    "scrolled": true
   },
   "outputs": [
    {
     "name": "stdout",
     "output_type": "stream",
     "text": [
      "CPU times: user 2.59 ms, sys: 1.67 ms, total: 4.26 ms\n",
      "Wall time: 2.6 ms\n"
     ]
    },
    {
     "data": {
      "text/plain": [
       "DecisionTreeClassifier(class_weight=None, criterion='gini', max_depth=None,\n",
       "            max_features=None, max_leaf_nodes=None,\n",
       "            min_impurity_decrease=0.0, min_impurity_split=None,\n",
       "            min_samples_leaf=1, min_samples_split=2,\n",
       "            min_weight_fraction_leaf=0.0, presort=False, random_state=None,\n",
       "            splitter='best')"
      ]
     },
     "execution_count": 67,
     "metadata": {},
     "output_type": "execute_result"
    }
   ],
   "source": [
    "%time clf.fit(X_train, y_train)"
   ]
  },
  {
   "cell_type": "code",
   "execution_count": 68,
   "metadata": {},
   "outputs": [
    {
     "name": "stdout",
     "output_type": "stream",
     "text": [
      "CPU times: user 22.5 ms, sys: 3.41 ms, total: 25.9 ms\n",
      "Wall time: 23.9 ms\n"
     ]
    }
   ],
   "source": [
    "%time my_clf.fit(X_train, y_train)"
   ]
  },
  {
   "cell_type": "markdown",
   "metadata": {},
   "source": [
    "## Проверка качества работы на wine"
   ]
  },
  {
   "cell_type": "code",
   "execution_count": 69,
   "metadata": {},
   "outputs": [
    {
     "data": {
      "text/plain": [
       "0.6944444444444445"
      ]
     },
     "execution_count": 69,
     "metadata": {},
     "output_type": "execute_result"
    }
   ],
   "source": [
    "f1_score(y_pred=clf.predict(X_test), y_true=y_test, average='macro')"
   ]
  },
  {
   "cell_type": "code",
   "execution_count": 70,
   "metadata": {},
   "outputs": [
    {
     "data": {
      "text/plain": [
       "0.7527657527657529"
      ]
     },
     "execution_count": 70,
     "metadata": {},
     "output_type": "execute_result"
    }
   ],
   "source": [
    "f1_score(y_pred=my_clf.predict(X_test), y_true=y_test, average='macro')"
   ]
  },
  {
   "cell_type": "markdown",
   "metadata": {},
   "source": [
    "## Подготовка данных Speed Dating Data "
   ]
  },
  {
   "cell_type": "code",
   "execution_count": 71,
   "metadata": {},
   "outputs": [],
   "source": [
    "# тут делаете то же самое, что и на семинаре https://github.com/stroykova/spheremailru/blob/master/2018-02/lecture_04_trees/pract-speed-dating-trees-proc.ipynb\n",
    "class Transform_Speed_Dating(TransformerMixin):\n",
    "    def __init__(self):\n",
    "        self.data = None\n",
    "\n",
    "    def fit(self, X):\n",
    "        self.df = X  # It's pandas dataset\n",
    "        return self\n",
    "\n",
    "    def transform(self, X):\n",
    "        df = self.df\n",
    "        df = df.iloc[:, :97]\n",
    "        df.iid.nunique()\n",
    "\n",
    "        df = df.drop(['id'], axis=1)\n",
    "        df = df.drop(['idg'], axis=1)\n",
    "        df.drop_duplicates(subset=['iid']).gender.value_counts()\n",
    "        df.drop_duplicates(subset=['iid']).condtn.value_counts()\n",
    "        df = df.drop(['condtn'], axis=1)\n",
    "\n",
    "        df = df.drop(['round'], axis=1)\n",
    "        df = df.drop(['position', 'positin1'], axis=1)\n",
    "        df = df.drop(['order'], axis=1)\n",
    "        df = df.drop(['partner'], axis=1)\n",
    "        df = df.drop(['age_o', 'race_o', 'pf_o_att',\n",
    "                      'pf_o_sin', 'pf_o_int',\n",
    "                      'pf_o_fun', 'pf_o_amb', 'pf_o_sha',\n",
    "                      'dec_o', 'attr_o', 'sinc_o', 'intel_o', 'fun_o',\n",
    "                      'amb_o', 'shar_o', 'like_o', 'prob_o', 'met_o'],\n",
    "                     axis=1)\n",
    "        df.drop_duplicates(subset=['iid']).age\n",
    "        df.drop_duplicates('iid').age.isnull().sum()\n",
    "        df = df.dropna(subset=['age'])\n",
    "\n",
    "        df.field_cd.isnull().sum()\n",
    "\n",
    "        df.loc[:, 'field_cd'] = df.loc[:, 'field_cd'].fillna(19)\n",
    "\n",
    "        df = df.drop(['field'], axis=1)\n",
    "        df = df.drop(['undergra'], axis=1)\n",
    "\n",
    "        df.loc[:, 'mn_sat'] = df.loc[:, 'mn_sat'].str.replace(\n",
    "            ',', '').astype(np.float)\n",
    "\n",
    "        df.drop_duplicates('iid').mn_sat\n",
    "        df.drop_duplicates('iid').mn_sat.isnull().sum()\n",
    "        df.loc[:, 'mn_sat'] = df.mn_sat.fillna(-999)\n",
    "\n",
    "        df.loc[:, 'tuition'] = df.loc[:, 'tuition'].str.replace(\n",
    "            ',', '').astype(np.float)\n",
    "        df.drop_duplicates('iid').tuition\n",
    "        df.drop_duplicates('iid').tuition.isnull().sum()\n",
    "        df.loc[:, 'tuition'] = df.tuition.fillna(-999)\n",
    "\n",
    "        df.drop_duplicates('iid').race.value_counts()\n",
    "        df.drop_duplicates('iid').age.isnull().sum()\n",
    "        df.drop_duplicates('iid').race\n",
    "        df.drop_duplicates('iid').imprace.isnull().sum()\n",
    "        df.drop_duplicates('iid').imprelig.isnull().sum()\n",
    "\n",
    "        df = df.dropna(subset=['imprelig', 'imprace'])\n",
    "\n",
    "        df = df.drop(['from', 'zipcode'], axis=1)\n",
    "        df.loc[:, 'income'] = df.loc[:, 'income'].str.replace(\n",
    "            ',', '').astype(np.float)\n",
    "\n",
    "        df.drop_duplicates('iid').loc[:, 'income']\n",
    "\n",
    "        df.loc[:, 'income'] = df.loc[:, 'income'].fillna(-999)\n",
    "\n",
    "        df = df.dropna(subset=['date'])\n",
    "\n",
    "        df.loc[:, 'career_c'] = df.loc[:, 'career_c'].fillna(18)\n",
    "\n",
    "        df = df.drop(['career'], axis=1)\n",
    "        df.loc[:, ['sports', 'tvsports', 'exercise', 'dining', 'museums', 'art', 'hiking', 'gaming',\n",
    "                   'clubbing', 'reading', 'tv', 'theater', 'movies', 'concerts', 'music', 'shopping', 'yoga']\n",
    "               ].isnull().sum()\n",
    "\n",
    "        df = df.drop(['sports', 'tvsports', 'exercise', 'dining', 'museums', 'art', 'hiking', 'gaming',\n",
    "                      'clubbing', 'reading', 'tv', 'theater', 'movies', 'concerts', 'music', 'shopping', 'yoga'], axis=1)\n",
    "        df.drop_duplicates('iid').exphappy.isnull().sum()\n",
    "        df.drop_duplicates('iid').expnum.isnull().sum()\n",
    "        df = df.drop(['expnum'], axis=1)\n",
    "\n",
    "        feat = ['iid', 'wave', 'attr1_1', 'sinc1_1',\n",
    "                'intel1_1', 'fun1_1', 'amb1_1', 'shar1_1']\n",
    "        temp = df.drop_duplicates(subset=['iid', 'wave']).loc[:, feat]\n",
    "        temp.loc[:, 'totalsum'] = temp.iloc[:, 2:].sum(axis=1)\n",
    "        idx = ((temp.wave < 6) | (temp.wave > 9)) & (temp.totalsum < 99)\n",
    "        temp.loc[idx, ]\n",
    "        idx = ((temp.wave >= 6) & (temp.wave <= 9))\n",
    "\n",
    "        temp.loc[idx, ]\n",
    "        df.loc[:, 'temp_totalsum'] = df.loc[:, ['attr1_1', 'sinc1_1',\n",
    "                                                'intel1_1', 'fun1_1', 'amb1_1', 'shar1_1']].sum(axis=1)\n",
    "        df.loc[:, ['attr1_1', 'sinc1_1', 'intel1_1', 'fun1_1', 'amb1_1', 'shar1_1']] = \\\n",
    "            (df.loc[:, ['attr1_1', 'sinc1_1', 'intel1_1', 'fun1_1', 'amb1_1', 'shar1_1']].T / df.loc[:,\n",
    "                                                                                                     'temp_totalsum'].T).T * 100\n",
    "        feat = ['iid', 'wave', 'attr2_1', 'sinc2_1',\n",
    "                'intel2_1', 'fun2_1', 'amb2_1', 'shar2_1']\n",
    "\n",
    "        temp = df.drop_duplicates(subset=['iid', 'wave']).loc[:, feat]\n",
    "        temp.loc[:, 'totalsum'] = temp.iloc[:, 2:].sum(axis=1)\n",
    "\n",
    "        idx = ((temp.wave < 6) | (temp.wave > 9)) & (\n",
    "            temp.totalsum < 90) & (temp.totalsum != 0)\n",
    "        temp.loc[idx, ]\n",
    "\n",
    "        idx = ((temp.wave >= 6) & (temp.wave <= 9))\n",
    "        temp.loc[idx, ]\n",
    "\n",
    "        df.loc[:, 'temp_totalsum'] = df.loc[:, ['attr2_1', 'sinc2_1',\n",
    "                                                'intel2_1', 'fun2_1', 'amb2_1', 'shar2_1']].sum(axis=1)\n",
    "        df.loc[:, ['attr2_1', 'sinc2_1', 'intel2_1', 'fun2_1', 'amb2_1', 'shar2_1']] = \\\n",
    "            (df.loc[:, ['attr2_1', 'sinc2_1', 'intel2_1', 'fun2_1', 'amb2_1', 'shar2_1']].T / df.loc[:,\n",
    "                                                                                                     'temp_totalsum'].T).T * 100\n",
    "        df = df.drop(['temp_totalsum'], axis=1)\n",
    "        for i in [4, 5]:\n",
    "            feat = ['attr{}_1'.format(i), 'sinc{}_1'.format(i),\n",
    "                    'intel{}_1'.format(i), 'fun{}_1'.format(i),\n",
    "                    'amb{}_1'.format(i), 'shar{}_1'.format(i)]\n",
    "\n",
    "            if i != 4:\n",
    "                feat.remove('shar{}_1'.format(i))\n",
    "\n",
    "            df = df.drop(feat, axis=1)\n",
    "\n",
    "        df = df.drop(['wave'], axis=1)\n",
    "        df_male = df.query('gender == 1').drop_duplicates(subset=['iid', 'pid']) \\\n",
    "            .drop(['gender'], axis=1) \\\n",
    "            .dropna()\n",
    "        df_female = df.query('gender == 0').drop_duplicates(subset=['iid']) \\\n",
    "            .drop(['gender', 'match', 'int_corr', 'samerace'], axis=1) \\\n",
    "            .dropna()\n",
    "        df_female.columns = df_female.columns + '_f'\n",
    "\n",
    "        df_pair = df_male.join(df_female.set_index(\n",
    "            'iid_f'), on='pid', how='inner')\n",
    "        df_pair = df_pair.drop(['iid', 'pid'], axis=1)\n",
    "        return df_pair\n",
    "\n",
    "\n",
    "# Data prep with pipeline\n",
    "speed_dating_data = pd.read_csv(\n",
    "    'speed-dating-experiment/sdd.csv', encoding='cp1251')\n",
    "pipeline = Pipeline([('transform_speed_dating', Transform_Speed_Dating())])\n",
    "data = pipeline.fit_transform(speed_dating_data)\n",
    "\n",
    "X = data.iloc[:, 1:].values\n",
    "y = data.iloc[:, 0].values\n",
    "X_train, X_test, y_train, y_test = train_test_split(X, y, random_state=33, test_size=0.1)\n"
   ]
  },
  {
   "cell_type": "markdown",
   "metadata": {},
   "source": [
    "## Проверка скорости работы на Speed Dating Data "
   ]
  },
  {
   "cell_type": "code",
   "execution_count": 80,
   "metadata": {},
   "outputs": [
    {
     "name": "stdout",
     "output_type": "stream",
     "text": [
      "CPU times: user 90.8 ms, sys: 2.64 ms, total: 93.4 ms\n",
      "Wall time: 91.1 ms\n"
     ]
    },
    {
     "data": {
      "text/plain": [
       "DecisionTreeClassifier(class_weight=None, criterion='gini', max_depth=None,\n",
       "            max_features=None, max_leaf_nodes=None,\n",
       "            min_impurity_decrease=0.0, min_impurity_split=None,\n",
       "            min_samples_leaf=1, min_samples_split=2,\n",
       "            min_weight_fraction_leaf=0.0, presort=False, random_state=None,\n",
       "            splitter='best')"
      ]
     },
     "execution_count": 80,
     "metadata": {},
     "output_type": "execute_result"
    }
   ],
   "source": [
    "%time clf.fit(X_train, y_train)"
   ]
  },
  {
   "cell_type": "code",
   "execution_count": 79,
   "metadata": {},
   "outputs": [
    {
     "name": "stdout",
     "output_type": "stream",
     "text": [
      "CPU times: user 943 ms, sys: 5.85 ms, total: 948 ms\n",
      "Wall time: 948 ms\n"
     ]
    }
   ],
   "source": [
    "%time my_clf.fit(X_train, y_train) "
   ]
  },
  {
   "cell_type": "markdown",
   "metadata": {},
   "source": [
    "## Проверка качества работы на Speed Dating Data"
   ]
  },
  {
   "cell_type": "code",
   "execution_count": 81,
   "metadata": {},
   "outputs": [
    {
     "data": {
      "text/plain": [
       "0.5359283030515907"
      ]
     },
     "execution_count": 81,
     "metadata": {},
     "output_type": "execute_result"
    }
   ],
   "source": [
    "f1_score(y_pred=clf.predict(X_test), y_true=y_test, average='macro')"
   ]
  },
  {
   "cell_type": "code",
   "execution_count": 82,
   "metadata": {},
   "outputs": [
    {
     "data": {
      "text/plain": [
       "0.5535637631140644"
      ]
     },
     "execution_count": 82,
     "metadata": {},
     "output_type": "execute_result"
    }
   ],
   "source": [
    "f1_score(y_pred=my_clf.predict(X_test), y_true=y_test, average='macro')"
   ]
  },
  {
   "cell_type": "markdown",
   "metadata": {},
   "source": [
    "## Задание 3"
   ]
  },
  {
   "cell_type": "code",
   "execution_count": 83,
   "metadata": {},
   "outputs": [
    {
     "name": "stdout",
     "output_type": "stream",
     "text": [
      "0.5535637631140644\n"
     ]
    }
   ],
   "source": [
    "# Classifier pipeline\n",
    "pipeline = Pipeline([('clf', MyDecisionTreeClassifier())])\n",
    "X = pipeline.fit(X_train, y_train)\n",
    "print(f1_score(y_pred=pipeline.predict(X_test), y_true=y_test, average='macro'))"
   ]
  },
  {
   "cell_type": "markdown",
   "metadata": {},
   "source": [
    "## Задание 4"
   ]
  },
  {
   "cell_type": "code",
   "execution_count": 84,
   "metadata": {},
   "outputs": [
    {
     "name": "stdout",
     "output_type": "stream",
     "text": [
      "Sklearn Feature importance\n",
      "[['race']\n",
      " ['attr3_1_f']\n",
      " ['attr3_1']\n",
      " ['goal']\n",
      " ['samerace']\n",
      " ['intel3_1']\n",
      " ['go_out_f']\n",
      " ['mn_sat']\n",
      " ['tuition']\n",
      " ['intel3_1_f']]\n",
      "My clf Feature importance\n",
      "[['race']\n",
      " ['exphappy']\n",
      " ['attr1_1']\n",
      " ['attr2_1']\n",
      " ['fun2_1']\n",
      " ['shar2_1']\n",
      " ['fun3_1']\n",
      " ['amb3_1']\n",
      " ['pid_f']\n",
      " ['imprelig_f']]\n"
     ]
    }
   ],
   "source": [
    "# Feature importance\n",
    "important_feature_ids_sklearn = clf.feature_importances_.argsort()[:10]\n",
    "print(\"Sklearn Feature importance\")\n",
    "print(data.columns[1:][important_feature_ids_sklearn].values.reshape(-1, 1))\n",
    "important_feature_ids_my_clf = my_clf.feature_importances_.argsort()[:10]\n",
    "print(\"My clf Feature importance\")\n",
    "print(data.columns[1:][important_feature_ids_my_clf].values.reshape(-1, 1))"
   ]
  },
  {
   "cell_type": "markdown",
   "metadata": {},
   "source": [
    "## Задание 5"
   ]
  },
  {
   "cell_type": "code",
   "execution_count": 85,
   "metadata": {},
   "outputs": [
    {
     "name": "stdout",
     "output_type": "stream",
     "text": [
      "Fitting 2 folds for each of 20 candidates, totalling 40 fits\n",
      "Best estimator\n",
      "RandomForestClassifier(bootstrap=True, class_weight=None, criterion='gini',\n",
      "            max_depth=7, max_features='auto', max_leaf_nodes=None,\n",
      "            min_impurity_decrease=0.0, min_impurity_split=None,\n",
      "            min_samples_leaf=1, min_samples_split=2,\n",
      "            min_weight_fraction_leaf=0.0, n_estimators=10, n_jobs=1,\n",
      "            oob_score=False, random_state=None, verbose=0,\n",
      "            warm_start=False)\n",
      "Best score\n",
      "0.837732703528758\n"
     ]
    },
    {
     "name": "stderr",
     "output_type": "stream",
     "text": [
      "[Parallel(n_jobs=-1)]: Done  40 out of  40 | elapsed:    0.9s finished\n"
     ]
    }
   ],
   "source": [
    "# Grid search\n",
    "clf = RandomForestClassifier()\n",
    "params = {\"max_depth\": list(range(1, 10)) + [None], \"criterion\": [\"gini\", \"entropy\"]}\n",
    "\n",
    "grid = GridSearchCV(clf, params, cv=2, n_jobs=-1, verbose=True)\n",
    "\n",
    "grid.fit(X_train, y_train)\n",
    "print(\"Best estimator\")\n",
    "print(grid.best_estimator_)\n",
    "print(\"Best score\")\n",
    "print(grid.best_score_)"
   ]
  },
  {
   "cell_type": "code",
   "execution_count": null,
   "metadata": {},
   "outputs": [],
   "source": []
  }
 ],
 "metadata": {
  "kernelspec": {
   "display_name": "Python 3",
   "language": "python",
   "name": "python3"
  },
  "language_info": {
   "codemirror_mode": {
    "name": "ipython",
    "version": 3
   },
   "file_extension": ".py",
   "mimetype": "text/x-python",
   "name": "python",
   "nbconvert_exporter": "python",
   "pygments_lexer": "ipython3",
   "version": "3.6.4"
  }
 },
 "nbformat": 4,
 "nbformat_minor": 2
}
