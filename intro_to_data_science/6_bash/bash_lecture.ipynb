{
 "cells": [
  {
   "cell_type": "markdown",
   "metadata": {},
   "source": [
    "# План:\n",
    "\n",
    "1) Работа с файлами и директориями\n",
    "\n",
    "2) Работа с содержимым и pipes\n",
    "\n",
    "3) Bash\n",
    "\n",
    "4) Прочее"
   ]
  },
  {
   "cell_type": "markdown",
   "metadata": {},
   "source": [
    "# Работа с файлами и директориями\n",
    "\n",
    "- `.` - текущая директория\n",
    "- `..` - директория на уровень выше\n",
    "- `~` - домашняя директория (обычно это `/home/username`)\n",
    "- `/` - корневая директория\n",
    "\n",
    "Узнать текущую директорию можно командой `pwd`"
   ]
  },
  {
   "cell_type": "code",
   "execution_count": 1,
   "metadata": {},
   "outputs": [
    {
     "name": "stdout",
     "output_type": "stream",
     "text": [
      "/Users/meudon/Technosphere/technosphere/technosphere/intro_to_data_science/6_bash\r\n"
     ]
    }
   ],
   "source": [
    "!pwd"
   ]
  },
  {
   "cell_type": "markdown",
   "metadata": {},
   "source": [
    "Узнать текущего пользователя - `whoami`"
   ]
  },
  {
   "cell_type": "code",
   "execution_count": 2,
   "metadata": {},
   "outputs": [
    {
     "name": "stdout",
     "output_type": "stream",
     "text": [
      "meudon\r\n"
     ]
    }
   ],
   "source": [
    "!whoami"
   ]
  },
  {
   "cell_type": "markdown",
   "metadata": {},
   "source": [
    "Переход в другую директорию осуществляется командой `cd`"
   ]
  },
  {
   "cell_type": "code",
   "execution_count": 3,
   "metadata": {},
   "outputs": [
    {
     "name": "stdout",
     "output_type": "stream",
     "text": [
      "/Users/meudon/Technosphere/technosphere/technosphere/intro_to_data_science/6_bash\r\n"
     ]
    }
   ],
   "source": [
    "!mkdir example_dir\n",
    "!cd example_dir\n",
    "!pwd"
   ]
  },
  {
   "cell_type": "markdown",
   "metadata": {},
   "source": [
    "Команда `mkdir` создаёт директории"
   ]
  },
  {
   "cell_type": "markdown",
   "metadata": {},
   "source": [
    "Посмотреть содержимое директории можно при помощи команды `ls`. Если не указать директорию, то по умолчанию будет использована текущая директория. Пример: `ls /my/awesome/dir`\n",
    "\n",
    "\n",
    "Полезные опции:\n",
    "- `-a` - отобразить все файлы и директории (по умолчанию не оторбажаются названия начинающиеся с точки)\n",
    "- `-l` - отобразить списком\n",
    "- `-h` - for humans\n",
    "- `-t` - отсортировать по времени изменения\n",
    "- `-s` - отсортировать по размеру файлов (размер директорий не учитывается, для этого пользуйтесь командой `du`)\n",
    "\n",
    "Посмотреть список доступных опций можно при помощи команды `man`. Запомните команду `man`. "
   ]
  },
  {
   "cell_type": "code",
   "execution_count": 4,
   "metadata": {
    "scrolled": true
   },
   "outputs": [
    {
     "name": "stdout",
     "output_type": "stream",
     "text": [
      "\n",
      "LS(1)                     BSD General Commands Manual                    LS(1)\n",
      "\n",
      "NAME\n",
      "     ls -- list directory contents\n",
      "\n",
      "SYNOPSIS\n",
      "     ls [-ABCFGHLOPRSTUW@abcdefghiklmnopqrstuwx1] [file ...]\n",
      "\n",
      "DESCRIPTION\n",
      "     For each operand that names a file of a type other than directory, ls\n",
      "     displays its name as well as any requested, associated information.  For\n",
      "     each operand that names a file of type directory, ls displays the names\n",
      "     of files contained within that directory, as well as any requested, asso-\n",
      "     ciated information.\n",
      "\n",
      "     If no operands are given, the contents of the current directory are dis-\n",
      "     played.  If more than one operand is given, non-directory operands are\n",
      "     displayed first; directory and non-directory operands are sorted sepa-\n",
      "     rately and in lexicographical order.\n",
      "\n",
      "     The following options are available:\n",
      "\n",
      "     -@      Display extended attribute keys and sizes in long (-l) output.\n",
      "\n",
      "     -1      (The numeric digit ``one''.)  Force output to be one entry per\n",
      "             line.  This is the default when output is not to a terminal.\n",
      "\n",
      "     -A      List all entries except for . and ...  Always set for the super-\n",
      "             user.\n",
      "\n",
      "     -a      Include directory entries whose names begin with a dot (.).\n",
      "\n",
      "     -B      Force printing of non-printable characters (as defined by\n",
      "             ctype(3) and current locale settings) in file names as \\xxx,\n",
      "             where xxx is the numeric value of the character in octal.\n",
      "\n",
      "     -b      As -B, but use C escape codes whenever possible.\n",
      "\n",
      "     -C      Force multi-column output; this is the default when output is to\n",
      "             a terminal.\n",
      "\n",
      "     -c      Use time when file status was last changed for sorting (-t) or\n",
      "             long printing (-l).\n",
      "\n",
      "     -d      Directories are listed as plain files (not searched recursively).\n",
      "\n",
      "     -e      Print the Access Control List (ACL) associated with the file, if\n",
      "             present, in long (-l) output.\n",
      "\n",
      "     -F      Display a slash (`/') immediately after each pathname that is a\n",
      "             directory, an asterisk (`*') after each that is executable, an at\n",
      "             sign (`@') after each symbolic link, an equals sign (`=') after\n",
      "             each socket, a percent sign (`%') after each whiteout, and a ver-\n",
      "             tical bar (`|') after each that is a FIFO.\n",
      "\n",
      "     -f      Output is not sorted.  This option turns on the -a option.\n",
      "\n",
      "     -G      Enable colorized output.  This option is equivalent to defining\n",
      "             CLICOLOR in the environment.  (See below.)\n",
      "\n",
      "     -g      This option is only available for compatibility with POSIX; it is\n",
      "             used to display the group name in the long (-l) format output\n",
      "             (the owner name is suppressed).\n",
      "\n",
      "     -H      Symbolic links on the command line are followed.  This option is\n",
      "             assumed if none of the -F, -d, or -l options are specified.\n",
      "\n",
      "     -h      When used with the -l option, use unit suffixes: Byte, Kilobyte,\n",
      "             Megabyte, Gigabyte, Terabyte and Petabyte in order to reduce the\n",
      "             number of digits to three or less using base 2 for sizes.\n",
      "\n",
      "     -i      For each file, print the file's file serial number (inode num-\n",
      "             ber).\n",
      "\n",
      "     -k      If the -s option is specified, print the file size allocation in\n",
      "             kilobytes, not blocks.  This option overrides the environment\n",
      "             variable BLOCKSIZE.\n",
      "\n",
      "     -L      Follow all symbolic links to final target and list the file or\n",
      "             directory the link references rather than the link itself.  This\n",
      "             option cancels the -P option.\n",
      "\n",
      "     -l      (The lowercase letter ``ell''.)  List in long format.  (See\n",
      "             below.)  If the output is to a terminal, a total sum for all the\n",
      "             file sizes is output on a line before the long listing.\n",
      "\n",
      "     -m      Stream output format; list files across the page, separated by\n",
      "             commas.\n",
      "\n",
      "     -n      Display user and group IDs numerically, rather than converting to\n",
      "             a user or group name in a long (-l) output.  This option turns on\n",
      "             the -l option.\n",
      "\n",
      "     -O      Include the file flags in a long (-l) output.\n",
      "\n",
      "     -o      List in long format, but omit the group id.\n",
      "\n",
      "     -P      If argument is a symbolic link, list the link itself rather than\n",
      "             the object the link references.  This option cancels the -H and\n",
      "             -L options.\n",
      "\n",
      "     -p      Write a slash (`/') after each filename if that file is a direc-\n",
      "             tory.\n",
      "\n",
      "     -q      Force printing of non-graphic characters in file names as the\n",
      "             character `?'; this is the default when output is to a terminal.\n",
      "\n",
      "     -R      Recursively list subdirectories encountered.\n",
      "\n",
      "     -r      Reverse the order of the sort to get reverse lexicographical\n",
      "             order or the oldest entries first (or largest files last, if com-\n",
      "             bined with sort by size\n",
      "\n",
      "     -S      Sort files by size\n",
      "\n",
      "     -s      Display the number of file system blocks actually used by each\n",
      "             file, in units of 512 bytes, where partial units are rounded up\n",
      "             to the next integer value.  If the output is to a terminal, a\n",
      "             total sum for all the file sizes is output on a line before the\n",
      "             listing.  The environment variable BLOCKSIZE overrides the unit\n",
      "             size of 512 bytes.\n",
      "\n",
      "     -T      When used with the -l (lowercase letter ``ell'') option, display\n",
      "             complete time information for the file, including month, day,\n",
      "             hour, minute, second, and year.\n",
      "\n",
      "     -t      Sort by time modified (most recently modified first) before sort-\n",
      "             ing the operands by lexicographical order.\n",
      "\n",
      "     -u      Use time of last access, instead of last modification of the file\n",
      "             for sorting (-t) or long printing (-l).\n",
      "\n",
      "     -U      Use time of file creation, instead of last modification for sort-\n",
      "             ing (-t) or long output (-l).\n",
      "\n",
      "     -v      Force unedited printing of non-graphic characters; this is the\n",
      "             default when output is not to a terminal.\n",
      "\n",
      "     -W      Display whiteouts when scanning directories.  (-S) flag).\n",
      "\n",
      "     -w      Force raw printing of non-printable characters.  This is the\n",
      "             default when output is not to a terminal.\n",
      "\n",
      "     -x      The same as -C, except that the multi-column output is produced\n",
      "             with entries sorted across, rather than down, the columns.\n",
      "\n",
      "     The -1, -C, -x, and -l options all override each other; the last one\n",
      "     specified determines the format used.\n",
      "\n",
      "     The -c and -u options override each other; the last one specified deter-\n",
      "     mines the file time used.\n",
      "\n",
      "     The -B, -b, -w, and -q options all override each other; the last one\n",
      "     specified determines the format used for non-printable characters.\n",
      "\n",
      "     The -H, -L and -P options all override each other (either partially or\n",
      "     fully); they are applied in the order specified.\n",
      "\n",
      "     By default, ls lists one entry per line to standard output; the excep-\n",
      "     tions are to terminals or when the -C or -x options are specified.\n",
      "\n",
      "     File information is displayed with one or more <blank>s separating the\n",
      "     information associated with the -i, -s, and -l options.\n",
      "\n",
      "   The Long Format\n",
      "     If the -l option is given, the following information is displayed for\n",
      "     each file: file mode, number of links, owner name, group name, number of\n",
      "     bytes in the file, abbreviated month, day-of-month file was last modi-\n",
      "     fied, hour file last modified, minute file last modified, and the path-\n",
      "     name.  In addition, for each directory whose contents are displayed, the\n",
      "     total number of 512-byte blocks used by the files in the directory is\n",
      "     displayed on a line by itself, immediately before the information for the\n",
      "     files in the directory.  If the file or directory has extended\n",
      "     attributes, the permissions field printed by the -l option is followed by\n",
      "     a '@' character.  Otherwise, if the file or directory has extended secu-\n",
      "     rity information (such as an access control list), the permissions field\n",
      "     printed by the -l option is followed by a '+' character.\n",
      "\n",
      "     If the modification time of the file is more than 6 months in the past or\n",
      "     future, then the year of the last modification is displayed in place of\n",
      "     the hour and minute fields.\n",
      "\n",
      "     If the owner or group names are not a known user or group name, or the -n\n",
      "     option is given, the numeric ID's are displayed.\n",
      "\n",
      "     If the file is a character special or block special file, the major and\n",
      "     minor device numbers for the file are displayed in the size field.  If\n",
      "     the file is a symbolic link, the pathname of the linked-to file is pre-\n",
      "     ceded by ``->''.\n",
      "\n",
      "     The file mode printed under the -l option consists of the entry type,\n",
      "     owner permissions, and group permissions.  The entry type character\n",
      "     describes the type of file, as follows:\n",
      "\n",
      "           b     Block special file.\n",
      "           c     Character special file.\n",
      "           d     Directory.\n",
      "           l     Symbolic link.\n",
      "           s     Socket link.\n",
      "           p     FIFO.\n",
      "           -     Regular file.\n",
      "\n",
      "     The next three fields are three characters each: owner permissions, group\n",
      "     permissions, and other permissions.  Each field has three character posi-\n",
      "     tions:\n",
      "\n",
      "           1.   If r, the file is readable; if -, it is not readable.\n",
      "\n",
      "           2.   If w, the file is writable; if -, it is not writable.\n",
      "\n",
      "           3.   The first of the following that applies:\n",
      "\n",
      "                      S     If in the owner permissions, the file is not exe-\n",
      "                            cutable and set-user-ID mode is set.  If in the\n",
      "                            group permissions, the file is not executable and\n",
      "                            set-group-ID mode is set.\n",
      "\n",
      "                      s     If in the owner permissions, the file is exe-\n",
      "                            cutable and set-user-ID mode is set.  If in the\n",
      "                            group permissions, the file is executable and set-\n",
      "                            group-ID mode is set.\n",
      "\n",
      "                      x     The file is executable or the directory is search-\n",
      "                            able.\n",
      "\n",
      "                      -     The file is neither readable, writable, exe-\n",
      "                            cutable, nor set-user-ID nor set-group-ID mode,\n",
      "                            nor sticky.  (See below.)\n",
      "\n",
      "                These next two apply only to the third character in the last\n",
      "                group (other permissions).\n",
      "\n",
      "                      T     The sticky bit is set (mode 1000), but not execute\n",
      "                            or search permission.  (See chmod(1) or\n",
      "                            sticky(8).)\n",
      "\n",
      "                      t     The sticky bit is set (mode 1000), and is search-\n",
      "                            able or executable.  (See chmod(1) or sticky(8).)\n",
      "\n",
      "EXAMPLES\n",
      "     The following is how to do an ls listing sorted by increasing size\n",
      "\n",
      "           ls -lrS\n",
      "\n",
      "DIAGNOSTICS\n",
      "     The ls utility exits 0 on success, and >0 if an error occurs.\n",
      "\n",
      "ENVIRONMENT\n",
      "     The following environment variables affect the execution of ls:\n",
      "\n",
      "     BLOCKSIZE       If the environment variable BLOCKSIZE is set, the block\n",
      "                     counts (see -s) will be displayed in units of that size\n",
      "                     block.\n",
      "\n",
      "     CLICOLOR        Use ANSI color sequences to distinguish file types.  See\n",
      "                     LSCOLORS below.  In addition to the file types mentioned\n",
      "                     in the -F option some extra attributes (setuid bit set,\n",
      "                     etc.) are also displayed.  The colorization is dependent\n",
      "                     on a terminal type with the proper termcap(5) capabili-\n",
      "                     ties.  The default ``cons25'' console has the proper\n",
      "                     capabilities, but to display the colors in an xterm(1),\n",
      "                     for example, the TERM variable must be set to\n",
      "                     ``xterm-color''.  Other terminal types may require simi-\n",
      "                     lar adjustments.  Colorization is silently disabled if\n",
      "                     the output isn't directed to a terminal unless the\n",
      "                     CLICOLOR_FORCE variable is defined.\n",
      "\n",
      "     CLICOLOR_FORCE  Color sequences are normally disabled if the output isn't\n",
      "                     directed to a terminal.  This can be overridden by set-\n",
      "                     ting this flag.  The TERM variable still needs to refer-\n",
      "                     ence a color capable terminal however otherwise it is not\n",
      "                     possible to determine which color sequences to use.\n",
      "\n",
      "     COLUMNS         If this variable contains a string representing a decimal\n",
      "                     integer, it is used as the column position width for dis-\n",
      "                     playing multiple-text-column output.  The ls utility cal-\n",
      "                     culates how many pathname text columns to display based\n",
      "                     on the width provided.  (See -C and -x.)\n",
      "\n",
      "     LANG            The locale to use when determining the order of day and\n",
      "                     month in the long -l format output.  See environ(7) for\n",
      "                     more information.\n",
      "\n",
      "     LSCOLORS        The value of this variable describes what color to use\n",
      "                     for which attribute when colors are enabled with\n",
      "                     CLICOLOR.  This string is a concatenation of pairs of the\n",
      "                     format fb, where f is the foreground color and b is the\n",
      "                     background color.\n",
      "\n",
      "                     The color designators are as follows:\n",
      "\n",
      "                           a     black\n",
      "                           b     red\n",
      "                           c     green\n",
      "                           d     brown\n",
      "                           e     blue\n",
      "                           f     magenta\n",
      "                           g     cyan\n",
      "                           h     light grey\n",
      "                           A     bold black, usually shows up as dark grey\n",
      "                           B     bold red\n",
      "                           C     bold green\n",
      "                           D     bold brown, usually shows up as yellow\n",
      "                           E     bold blue\n",
      "                           F     bold magenta\n",
      "                           G     bold cyan\n",
      "                           H     bold light grey; looks like bright white\n",
      "                           x     default foreground or background\n",
      "\n",
      "                     Note that the above are standard ANSI colors.  The actual\n",
      "                     display may differ depending on the color capabilities of\n",
      "                     the terminal in use.\n",
      "\n",
      "                     The order of the attributes are as follows:\n",
      "\n",
      "                           1.   directory\n",
      "                           2.   symbolic link\n",
      "                           3.   socket\n",
      "                           4.   pipe\n",
      "                           5.   executable\n",
      "                           6.   block special\n",
      "                           7.   character special\n",
      "                           8.   executable with setuid bit set\n",
      "                           9.   executable with setgid bit set\n",
      "                           10.  directory writable to others, with sticky bit\n",
      "                           11.  directory writable to others, without sticky\n",
      "                                bit\n",
      "\n",
      "                     The default is \"exfxcxdxbxegedabagacad\", i.e. blue fore-\n",
      "                     ground and default background for regular directories,\n",
      "                     black foreground and red background for setuid executa-\n",
      "                     bles, etc.\n",
      "\n",
      "     LS_COLWIDTHS    If this variable is set, it is considered to be a colon-\n",
      "                     delimited list of minimum column widths.  Unreasonable\n",
      "                     and insufficient widths are ignored (thus zero signifies\n",
      "                     a dynamically sized column).  Not all columns have\n",
      "                     changeable widths.  The fields are, in order: inode,\n",
      "                     block count, number of links, user name, group name,\n",
      "                     flags, file size, file name.\n",
      "\n",
      "     TERM            The CLICOLOR functionality depends on a terminal type\n",
      "                     with color capabilities.\n",
      "\n",
      "     TZ              The timezone to use when displaying dates.  See\n",
      "                     environ(7) for more information.\n",
      "\n",
      "COMPATIBILITY\n",
      "     The group field is now automatically included in the long listing for\n",
      "     files in order to be compatible with the IEEE Std 1003.2 (``POSIX.2'')\n",
      "     specification.\n",
      "\n",
      "LEGACY DESCRIPTION\n",
      "     In legacy mode, the -f option does not turn on the -a option and the -g,\n",
      "     -n, and -o options do not turn on the -l option.\n",
      "\n",
      "     Also, the -o option causes the file flags to be included in a long (-l)\n",
      "     output; there is no -O option.\n",
      "\n",
      "     When -H is specified (and not overridden by -L or -P) and a file argument\n",
      "     is a symlink that resolves to a non-directory file, the output will\n",
      "     reflect the nature of the link, rather than that of the file.  In legacy\n",
      "     operation, the output will describe the file.\n",
      "\n",
      "     For more information about legacy mode, see compat(5).\n",
      "\n",
      "SEE ALSO\n",
      "     chflags(1), chmod(1), sort(1), xterm(1), compat(5), termcap(5),\n",
      "     symlink(7), sticky(8)\n",
      "\n",
      "STANDARDS\n",
      "     The ls utility conforms to IEEE Std 1003.1-2001 (``POSIX.1'').\n",
      "\n",
      "HISTORY\n",
      "     An ls command appeared in Version 1 AT&T UNIX.\n",
      "\n",
      "BUGS\n",
      "     To maintain backward compatibility, the relationships between the many\n",
      "     options are quite complex.\n",
      "\n",
      "BSD                              May 19, 2002                              BSD\n"
     ]
    }
   ],
   "source": [
    "!man ls"
   ]
  },
  {
   "cell_type": "code",
   "execution_count": 6,
   "metadata": {},
   "outputs": [
    {
     "name": "stdout",
     "output_type": "stream",
     "text": [
      "6.5G\t/Users/meudon/Downloads/\r\n"
     ]
    }
   ],
   "source": [
    "!du -s -h /Users/meudon/Downloads/"
   ]
  },
  {
   "cell_type": "markdown",
   "metadata": {},
   "source": [
    "Поиск по man можно осуществить с помощью команды `apropos`"
   ]
  },
  {
   "cell_type": "code",
   "execution_count": 7,
   "metadata": {},
   "outputs": [
    {
     "name": "stdout",
     "output_type": "stream",
     "text": [
      "File::Copy(3pm)          - Copy files or filehandles\r\n",
      "cp(1)                    - copy files\r\n",
      "cpio(1)                  - copy files to and from archives\r\n",
      "CpMac(1), /usr/bin/CpMac(1) - copy files preserving metadata and forks (DEPRECATED)\r\n",
      "git-checkout-index(1)    - Copy files from the index to the working tree\r\n"
     ]
    }
   ],
   "source": [
    "!apropos \"copy file\""
   ]
  },
  {
   "cell_type": "markdown",
   "metadata": {},
   "source": [
    "Другие полезные команды для работы с файлами и директориями. Для работы с директориями нужно указать флаг `-r`\n",
    "\n",
    "- `cp source_file target_file` \n",
    "- `mv old_path new path` \n",
    "- `rm file_to_remove`\n",
    "\n",
    "Если кто-то советует вам сделать `rm -rf /` - скорее всего, вас разыгрывают</h3>\n",
    "\n",
    "<img src=\"https://ih0.redbubble.net/image.238376101.3327/flat,800x800,075,f.jpg\">"
   ]
  },
  {
   "cell_type": "code",
   "execution_count": 8,
   "metadata": {},
   "outputs": [
    {
     "name": "stdout",
     "output_type": "stream",
     "text": [
      "rm: remove_me_dir: is a directory\r\n"
     ]
    }
   ],
   "source": [
    "!mkdir remove_me_dir\n",
    "!rm remove_me_dir"
   ]
  },
  {
   "cell_type": "code",
   "execution_count": 9,
   "metadata": {},
   "outputs": [],
   "source": [
    "!rm -r remove_me_dir"
   ]
  },
  {
   "cell_type": "markdown",
   "metadata": {},
   "source": [
    "Сообщение `rm: remove_me_dir: is a directory` печатается в `stderr`, но об этом чуть позже.\n",
    "\n",
    "Создать пустой файл можно командой `touch`. Если файл уже существует - то файл не будет модифицироваться"
   ]
  },
  {
   "cell_type": "code",
   "execution_count": null,
   "metadata": {
    "collapsed": true
   },
   "outputs": [],
   "source": [
    "!touch empty_file"
   ]
  },
  {
   "cell_type": "markdown",
   "metadata": {},
   "source": [
    "`echo` - печать аргумента в `stdout`. "
   ]
  },
  {
   "cell_type": "code",
   "execution_count": null,
   "metadata": {
    "collapsed": true
   },
   "outputs": [],
   "source": [
    "!echo \"Hello, world\""
   ]
  },
  {
   "cell_type": "markdown",
   "metadata": {},
   "source": [
    "Узнать какому исполняему файлу соответствует команда"
   ]
  },
  {
   "cell_type": "code",
   "execution_count": null,
   "metadata": {
    "collapsed": true
   },
   "outputs": [],
   "source": [
    "!which python"
   ]
  },
  {
   "cell_type": "markdown",
   "metadata": {},
   "source": [
    "### Globing\n",
    "\n",
    "Позволяет создавать маски для имён файлов и директорий\n",
    "\n",
    "1) `*` - любое количество произвольных символов. Пример: `head *.txt`\n",
    "\n",
    "2) `?` - один призвольный символ. Пример: `ls 0?.txt`\n",
    "\n",
    "3) `{aa,ab,cd,ef}` - один символ из указанной группы. Пример: `rm split_{a,b,c,d}.txt`\n",
    "\n",
    "4) `[0-9]` - один символ из указанного диапазона. Пример: `gzip logs-2017-10-2[0-5].txt`"
   ]
  },
  {
   "cell_type": "markdown",
   "metadata": {},
   "source": [
    "Посмотреть все переменные окружения можно следующей командой"
   ]
  },
  {
   "cell_type": "code",
   "execution_count": 10,
   "metadata": {},
   "outputs": [
    {
     "name": "stdout",
     "output_type": "stream",
     "text": [
      "TERM_PROGRAM=Apple_Terminal\r\n",
      "TERM=xterm-color\r\n",
      "SHELL=/bin/bash\r\n",
      "CLICOLOR=1\r\n",
      "TMPDIR=/var/folders/p5/r6fq9css3md70ysc47_1yrn40000gn/T/\r\n",
      "Apple_PubSub_Socket_Render=/private/tmp/com.apple.launchd.W0Dh0WIF9l/Render\r\n",
      "TERM_PROGRAM_VERSION=400\r\n",
      "TERM_SESSION_ID=54913344-2141-4CE1-AF60-A0D739A8E415\r\n",
      "LC_ALL=en_US.UTF-8\r\n",
      "USER=meudon\r\n",
      "SSH_AUTH_SOCK=/private/tmp/com.apple.launchd.OIbYDfZGPF/Listeners\r\n",
      "__CF_USER_TEXT_ENCODING=0x1F5:0x0:0x0\r\n",
      "JPY_PARENT_PID=5204\r\n",
      "PAGER=cat\r\n",
      "PATH=/Users/meudon/anaconda3/bin:/Library/Java/JavaVirtualMachines/jdk-9.0.4.jdk/Contents/Home/bin:/Users/meudon/anaconda3/bin:/usr/local/bin:/usr/bin:/bin:/usr/sbin:/sbin:/Applications/Wireshark.app/Contents/MacOS\r\n",
      "_=/usr/bin/env\r\n",
      "PWD=/Users/meudon/Technosphere/technosphere/technosphere/intro_to_data_science/6_bash\r\n",
      "DBUS_LAUNCHD_SESSION_BUS_SOCKET=/private/tmp/com.apple.launchd.HyecYXwOwj/unix_domain_listener\r\n",
      "JAVA_HOME=/Library/Java/JavaVirtualMachines/jdk-9.0.4.jdk/Contents/Home\r\n",
      "MPLBACKEND=module://ipykernel.pylab.backend_inline\r\n",
      "LANG=en_US.UTF-8\r\n",
      "XPC_FLAGS=0x0\r\n",
      "XPC_SERVICE_NAME=0\r\n",
      "HOME=/Users/meudon\r\n",
      "SHLVL=2\r\n",
      "LOGNAME=meudon\r\n",
      "LC_CTYPE=UTF-8\r\n",
      "GIT_PAGER=cat\r\n"
     ]
    }
   ],
   "source": [
    "!env"
   ]
  },
  {
   "cell_type": "markdown",
   "metadata": {},
   "source": [
    "Установить переменную окружения можно командой `export`. \n",
    "\n",
    "Например: `export JAVA_HOME=/usr/java/bin; echo $JAVA_HOME`\n",
    "\n",
    "Так же, перемннные окружения можно задать в файле `~/.bash_profile`. После того, как вы изменили  `~/.bash_profile` необходимо его активировать `source ~/.bash_profile` или закрыть и заново открыть терминал"
   ]
  },
  {
   "cell_type": "markdown",
   "metadata": {},
   "source": [
    "# Работа с содержимым и pipes"
   ]
  },
  {
   "cell_type": "markdown",
   "metadata": {},
   "source": [
    "#### head & tail\n",
    "Вывести начало или конец файла или потока - `head` и `tail` соответственно. Полезная опция - `-n`, задаёт сколько строк нужно вывести. По умолчанию 10."
   ]
  },
  {
   "cell_type": "code",
   "execution_count": null,
   "metadata": {
    "collapsed": true
   },
   "outputs": [],
   "source": [
    "!head -3 /my/awesome/file.txt"
   ]
  },
  {
   "cell_type": "code",
   "execution_count": null,
   "metadata": {
    "collapsed": true
   },
   "outputs": [],
   "source": [
    "!tail -3 /my/awesome/file.txt"
   ]
  },
  {
   "cell_type": "code",
   "execution_count": null,
   "metadata": {
    "collapsed": true
   },
   "outputs": [],
   "source": [
    "!tail -F ./watch_me.txt"
   ]
  },
  {
   "cell_type": "markdown",
   "metadata": {},
   "source": [
    "#### grep\n",
    "\n",
    "Команда `grep` служит для фильтрации входного потока.  `grep ERROR very_important_log.txt`. Полезные опции:\n",
    "\n",
    "- `-i` - игнорировать регистр\n",
    "- `-v` - инвертированная фильтрация\n",
    "- `-E` - расширенные регулярные выражения\n",
    "- `-A 2` - выводить по две строчки перед совпавшим шаблоном\n",
    "- `-B 4` - выводить по четыре строчки после совпавшего шаблона\n",
    "- `-C 3` - контекст 3 строчки до 3 после\n",
    "- `--color` - помочь глазам и подсветить совпавший шаблон\n",
    "- `-m 5` - вывести первые 5 совпадений\n",
    "- `-l` - вывести имена совпавших файлов"
   ]
  },
  {
   "cell_type": "markdown",
   "metadata": {},
   "source": [
    "#### awk\n",
    "\n",
    "AWK является отдельным языком программирования, про который можно сделать отдельную лекцию. Пара примеров:\n",
    "\n",
    "`awk -F '\\t' '{print $1}'` - разбить каждую строчку потока по разделителю `-F` и напечатать первое поле\n",
    "\n",
    "`awk -F '\\t' '($3==10)' {print $0}` - разбить каждую строчку потока по разделителю `-F` и напечатать исходные строки, где 3-е поле равно десяти \n",
    "\n",
    "`cat done.* | awk -F '\\t' '{c[$2] += 1} END {d=0; for(key in c){print key, c[key]; d += c[key]}; print \"TOTAL: \",d}'` \n",
    "- Заводим счётчик под каждое уникальное значение второе поле, печатаем значение и счётчик и сумму всех счётчиков\n",
    "\n",
    "https://habrahabr.ru/company/ruvds/blog/327754/"
   ]
  },
  {
   "cell_type": "markdown",
   "metadata": {},
   "source": [
    "#### split\n",
    "\n",
    "Разбивает исходный файл на меньшие файлы с заданными параметрами. Может пригодится при параллельной обработке. Пример:\n",
    "\n",
    "`split -a 4 -l 100 -d my_big_file.txt split_part_` - разобьёт файл my_big_file.txt на файлы по 100 строк, будет использовать 4 символа под суффикс, файлы будут называться split_part_0000, split_part_0001. Опция -d нужна для того, чтобы суффиксы формировались из чисел, по умолчанию буквы латинского алфавита\n",
    "\n",
    "#### tr\n",
    "\n",
    "Утилита нужна для преобразования текста во входном потоке\n",
    "\n",
    "`tr \"[:lower:]\" \"[:upper:]\"` - заменяет все буквы нижнего регистра на соответствующие заглавные буквы \n",
    "\n",
    "`tr \" \" \"\\n\"` - заменяет пробелы на переводы строк\n",
    "\n",
    "#### wc \n",
    "\n",
    "Утилита для подсчтёта символов, слов, строк. Пример: `wc -l my_big_file.txt`\n",
    "\n",
    "#### cut \n",
    "\n",
    "Утилита для вырезания полей или символов из входного потока:\n",
    "\n",
    "`cut -d : -f 1,7 /etc/passwd` \n",
    "\n",
    "`who | cut -c 1-16,26-38`"
   ]
  },
  {
   "cell_type": "markdown",
   "metadata": {},
   "source": [
    "#### uniq\n",
    "\n",
    "Возвращает уникальные элементы из входного потока. Но не совсем. uniq заменяет группу подряд идущих уникальных значений на единичное значение. Предположим, у нас есть файл `uniq_test_1.txt` с содержимым `1 1 1 1 2 2 2` и `uniq_test_2.txt` c содержимым `1 1 2 2 1 1`.\n",
    "\n",
    "`cat uniq_test_1.txt | tr \" \" \"\\n\" | uniq | tr \"\\n\" \" \" ` выдаст `1 2`\n",
    "\n",
    "`cat uniq_test_2.txt | tr \" \" \"\\n\" | uniq | tr \"\\n\" \" \" ` выдаст `1 2 1`\n",
    "\n",
    "Полезные опции:\n",
    "\n",
    "`-c` - подсчитывает количество каждого элемента\n",
    "`-u` - выводит только уникальные элементы\n",
    "`-d` - выводит только дубликаты\n",
    "\n",
    "#### sort\n",
    "\n",
    "Сортирует входной поток данных. Полезные опции:\n",
    "\n",
    "`-k1,3` - сортировать по ключу, начинающемуся с 1-ого поля и заканчивающемся на 3 поле\n",
    "\n",
    "`-n` - воспринимать ключи числами. По умолчанию, числа будут сортироваться, как строки в лексикографическом порядке\n",
    "\n",
    "`-r` - сортировка в обратном порядке\n",
    "\n",
    "`-h` - сортировать по-человечески. То есть, понимать, что 3K это больше 783, а 4K меньше 3M\n",
    "\n",
    "`-p` - сортировать в p процессов. Данная опция может отсутствовать"
   ]
  },
  {
   "cell_type": "markdown",
   "metadata": {},
   "source": [
    "## Pipes.\n",
    "\n",
    "Потоки данных можно перенаправлять через специальный символ - \"|\" (pipe). Тогда stdout одной команды станет stdin следующей команды. Пример: \n",
    "\n",
    "`cat my_file.txt | head | grep awesome_pattern | awk '{print $NF}' > result.txt`\n",
    "\n",
    "Существуют три потока данных `0 — STDIN, 1 — STDOUT и 2 — STDERR`.  Оператор `>` перенаправляет только stdout.  Пример:\n",
    "\n",
    "`magic_script.sh > /dev/null 2>&1` - stdout скрипта летит в `/dev/null`, stderr - в стандартный вывод\n",
    "\n",
    "#### Useless `cat`\n",
    "\n",
    "<img src=\"https://squarewheelscycling.com/uploads/monthly_2015_08/useless-cat.jpg.e67ee19e399ff56da91d778b461a3e1e.jpg\">\n",
    "\n",
    "Многие команды принимают аргументами, как файл, так и stdin. Например, \n",
    "\n",
    "`head file.txt`\n",
    "\n",
    "`cat file.txt | head`. \n",
    "\n",
    "Второе называют антипаттерном useless cat."
   ]
  },
  {
   "cell_type": "markdown",
   "metadata": {},
   "source": [
    "# Bash"
   ]
  },
  {
   "cell_type": "markdown",
   "metadata": {},
   "source": [
    "`#!/bin/bash`\n",
    "Первая строка скрипта - это shebang, который сообщает системе, как исполнять этот скрипт: http://en.wikipedia.org/wiki/Shebang_(Unix) \n",
    "\n",
    "\n",
    "Простой пример hello world:\n",
    "\n",
    "`echo Hello world!`\n",
    "\n",
    "Отдельные команды начинаются с новой строки или разделяются точкой с запятой:\n",
    "\n",
    "`echo 'Это первая строка'; echo 'Это вторая строка'`\n",
    "\n",
    "Вот так объявляется переменная:\n",
    "\n",
    "`VARIABLE=\"Просто строка\"`\n",
    "\n",
    "\n",
    "VARIABLE = \"Просто строка\"\n",
    "\n",
    "\n",
    "Использование переменой:\n",
    "\n",
    "`echo $VARIABLE`\n",
    "`echo \"$VARIABLE\"`\n",
    "`echo '$VARIABLE'`\n",
    "\n",
    "Когда вы используете переменную - присваиваете, экспортируете и т.д. - пишите её имя без `$`. А для получения значения переменной используйте `$`. Заметьте, что ' (одинарные кавычки) не раскрывают переменные в них.\n",
    "\n",
    "В bash есть полезные встроенные переменные, например\n",
    "\n",
    "`echo \"Последнее возвращенное значение: $?\"`\n",
    "\n",
    "`echo \"PID скрипта: $$\"`\n",
    "\n",
    "`echo \"Количество аргументов: $#\"`\n",
    "\n",
    "`echo \"Аргументы скрипта: $@\"`\n",
    "\n",
    "`echo \"Аргументы скрипта, распределённые по отдельным переменным: $1 $2...\"`\n",
    "\n",
    "Чтение аргументов из устройста ввода:\n",
    "\n",
    "`echo \"Как Вас зовут?\"`\n",
    "\n",
    "`read NAME # Обратите внимание, что нам не нужно определять новую переменную`\n",
    "\n",
    "`echo Привет, $NAME!`\n",
    "\n",
    "У нас есть обычная структура if: наберите 'man test' для получения подробной информации о форматах условия\n",
    "\n",
    "`if [ $NAME -ne $USER ]`\n",
    "\n",
    "`then`\n",
    "\n",
    "`    echo \"Имя не совпадает с именем пользователя\"`\n",
    "\n",
    "`else`\n",
    "\n",
    "echo \"Имя совпадает с именем пользователя\"`\n",
    "\n",
    "`fi`\n",
    "\n",
    "Примечание: если `$Name` пустой, bash интерпретирует код как:\n",
    "\n",
    "\n",
    "`if [ -ne $USER ]`\n",
    "\n",
    "`# а это ошибочная команда`\n",
    "\n",
    "`# поэтому такие переменные нужно использовать так:`\n",
    "\n",
    "`if [ \"$Name\" -ne $USER ] ...`\n",
    "\n",
    "`# когда $Name пустой, bash видит код как:`\n",
    "\n",
    "`if [ \"\" -ne $USER ] ...`\n",
    "\n",
    "`# что работает правильно`\n",
    "\n",
    "\n",
    "Также есть условное исполнение\n",
    "\n",
    "`echo \"Исполнится всегда\" || echo \"Исполнится, если первая команда завершится ошибкой\"`\n",
    "\n",
    "`echo \"Исполнится всегда\" && echo \"Исполнится, если первая команда выполнится удачно\"`\n",
    "\n",
    "Можно использовать && и || в выражениях if, когда нужно несколько пар скобок:\n",
    "\n",
    "`if [ $NAME == \"Steve\" ] && [ $AGE -eq 15 ]`\n",
    "\n",
    "`then`\n",
    "\n",
    "`    echo \"Исполнится, если $NAME равно Steve И $AGE равно 15.\"`\n",
    "\n",
    "`fi`\n",
    "\n",
    "Ещё пример\n",
    "\n",
    "`if [ $NAME == \"Daniya\" ] || [ $NAME == \"Zach\" ]`\n",
    "\n",
    "`then`\n",
    "\n",
    "`echo \"Исполнится, если $NAME равно Daniya ИЛИ Zach.\"`\n",
    "\n",
    "`fi`\n"
   ]
  },
  {
   "cell_type": "markdown",
   "metadata": {},
   "source": [
    "Цикл for перебирает элементы переданные в аргументе:\n",
    "\n",
    "`# Содержимое $VARIABLE будет напечатано три раза.\n",
    "\n",
    "`for VARIABLE in {1..3}`\n",
    "\n",
    "`do`\n",
    "\n",
    "`    echo \"$VARIABLE\"`\n",
    "\n",
    "`done`\n",
    "\n",
    "Или с использованием \"традиционного\" синтаксиса цикла for:\n",
    "\n",
    "`for ((a=1; a <= 3; a++))`\n",
    "`do`\n",
    "`    echo $a`\n",
    "`done`\n",
    "\n",
    "Цикл for можно использовать для действий с файлами. Запустим команду 'cat' для файлов file1 и file2\n",
    "\n",
    "`for VARIABLE in file1 file2`\n",
    "\n",
    "`do`\n",
    "\n",
    "`    cat \"$VARIABLE\"`\n",
    "\n",
    "`done`\n",
    "\n",
    "... или выводом из команд. Запустим cat для вывода из ls.\n",
    "\n",
    "`for OUTPUT in $(ls)`\n",
    "\n",
    "`do`\n",
    "\n",
    "`    cat \"$OUTPUT\"`\n",
    "\n",
    "`done`\n",
    "\n",
    "Цикл while:\n",
    "\n",
    "`while [ true ]`\n",
    "\n",
    "`do`\n",
    "\n",
    "`    echo \"тело цикла здесь...\"`\n",
    "\n",
    "`    break`\n",
    "\n",
    "`done`"
   ]
  },
  {
   "cell_type": "markdown",
   "metadata": {
    "collapsed": true
   },
   "source": [
    "# Other"
   ]
  },
  {
   "cell_type": "markdown",
   "metadata": {},
   "source": [
    "1) Background Mode - `jupter notebook &`\n",
    "\n",
    "2) Просмотр запущенных процессов - `ps aux`\n",
    "\n",
    "3) vim.\n",
    "\n",
    "4) Отправка запросов `curl \"https://en.wikipedia.org/w/api.php?action=query&titles=python&prop=revisions&rvprop=content&format=json\"`\n",
    "\n",
    "5) ps - просмотр запущенных процессов\n",
    "\n",
    "6) top/htop - мониторинг процессов\n",
    "\n",
    "\n",
    "\n",
    "#### Архивирование\n",
    "\n",
    "`zip archive.zip first_file.txt second_file.tsv`\n",
    "\n",
    "`zip -r archive_with_dir.zip ./cool_dir/`\n",
    "\n",
    "`gzip my_file.txt` - удаляет исходный файл, создаёт архив с суффиксом - `my_file.txt.gz`\n",
    "\n",
    "`gunzip my_file.txt.gz`\n",
    "\n",
    "`gunzip -k -c my_file.txt.gz` - `-k` говорит о том, что исходный файл удалять не надо, `-c` - выводит результат в `stdout`. Данный набор опций нужен настолько часто, что ему соответствует утилита `zcat`\n",
    "\n",
    "Аналогичным образом работает `bzip2` и `bunzip2`. Сильнее сжимает, но требует больше процессорного времени"
   ]
  },
  {
   "cell_type": "markdown",
   "metadata": {},
   "source": [
    "#### screen\n",
    "\n",
    "Утилита создаёт \"экран\", который продолжает работать, когда терминал закрыт.\n",
    "\n",
    "`screen -S screenname` - создать экран\n",
    "\n",
    "`screen -ls` - список запущенных скринов\n",
    "\n",
    "`screen -X -S screenname quit` - выйти из скрина\n",
    "\n",
    "Свернуть скрин: cntrl+A, cntrl+D\n",
    "\n",
    "Пролистать скрин: cntrl+A, Esc. Выход из режима пролистывания - Esc.\n",
    "\n",
    "Альтернатива: **tmux**"
   ]
  },
  {
   "cell_type": "markdown",
   "metadata": {},
   "source": [
    "#### scp\n",
    "\n",
    "scp нужна для копирования файлов с/на удалённый хост:\n",
    "\n",
    "`scp \"username@hostname:dir_to_file\" local_path_for_file`\n",
    "\n",
    "`scp local_file \"username@hostname:dir_to_file\"`\n",
    "\n",
    "#### ssh\n",
    "\n",
    "Зайти на удалённый хост: \n",
    "\n",
    "`ssh username@host`\n",
    "\n",
    "`ssh -N -f -L localhost:LOCAL_PORT:localhost:HOST_PORT username@hostname`\n",
    "\n",
    "\n",
    "#### less \n",
    "\n",
    "Просмотр содержимого файла\n",
    "\n",
    "\n",
    "#### xargs \n",
    "\n",
    "\"Разворачивание stdin в набор аргументов\" \n",
    "\n",
    "\n",
    "#### find\n",
    "\n",
    "Трудно поверить, но данная утилита помогает искать файлы. Ознакомьтесь с мануалом данной команды, он может пригодиться при выполнении самостоятельного задания\n",
    "\n",
    "##### cron\n",
    "\n",
    "Сервис для создания периодичных задач: каждую минуту/час/день. Для заведения \"задач\" - `crontab -e`. Примеры:\n",
    "\n",
    " ``` 23 */2 * * * echo \"Выполняется в 0:23, 2:23, 4:23 и т. д.\"\n",
    " 5 4 * * sun echo \"Выполняется в 4:05 в воскресенье\"\n",
    " 0 0 1 1 * echo \"С новым годом!\"\n",
    " 15 10,13 * * 1,4 echo \"Эта надпись выводится в понедельник и четверг в 10:15 и 13:15\"\n",
    " 0-59 * * * * echo \"Выполняется ежеминутно\"\n",
    " 0-59/2 * * * * echo \"Выполняется по четным минутам\"\n",
    " 1-59/2 * * * * echo \"Выполняется по нечетным минутам\"\n",
    " */5 * * * * echo \"Прошло пять минут\"```"
   ]
  },
  {
   "cell_type": "code",
   "execution_count": null,
   "metadata": {
    "collapsed": true
   },
   "outputs": [],
   "source": [
    "!mkdir another_dir\n",
    "!cd another_dit\n",
    "!for i in {0..50000}; do touch \"$i.txt\"; done; rm *.txt"
   ]
  },
  {
   "cell_type": "code",
   "execution_count": null,
   "metadata": {
    "collapsed": true
   },
   "outputs": [],
   "source": [
    "!ls -la | tail"
   ]
  },
  {
   "cell_type": "code",
   "execution_count": null,
   "metadata": {
    "collapsed": true
   },
   "outputs": [],
   "source": [
    "!find . -name \"*.txt\" | xargs rm "
   ]
  },
  {
   "cell_type": "markdown",
   "metadata": {},
   "source": [
    "<h3><a href=\"https://tproger.ru/news/how-to-exit-damned-vim/\">Из Vim не может выйти уже более миллиона человек: статистика от Stack Overflow (24 мая 2017)</a></h3>\n",
    "\n",
    "Недавно вопрос «Как выйти из редактора Vim?», опубликованный в 2012 году, достиг рекордного количества просмотров: 1 000 000. В честь этого события на Stack Overflow провели исследование и выложили статистику, которая иллюстрирует популярную проблему.\n",
    "\n",
    "<img src=\"https://lh3.googleusercontent.com/-GNcxZZi34HE/V5YcDwlB-aI/AAAAAAAAGF0/XcpCFtLRSgsW_J6DvUGHjWi8Ezj72PMdg/w530-h696-n/f506bdc3-8270-4e2f-9e83-9c36d8450136\">\n",
    "\n",
    "<img src=\"http://teaching.idallen.com/cst8207/15f/notes/data/vim_exit.jpg\">"
   ]
  },
  {
   "cell_type": "markdown",
   "metadata": {},
   "source": [
    "<h3><a href=\"https://tproger.ru/translations/dont-copy-paste-from-internet-to-terminal/\">Не вставляйте в консоль скопированный из Интернета код!</a></h3>"
   ]
  },
  {
   "cell_type": "markdown",
   "metadata": {},
   "source": [
    "# Полезные ссылки\n",
    "\n",
    "<a href=\"https://github.com/jlevy/the-art-of-command-line/blob/master/README-ru.md\">Искусство командной строки</a>\n",
    "\n",
    "<a href=\"http://datascienceatthecommandline.com/\">Data Science at the Command Line<a/>\n",
    "<img src=\"http://datascienceatthecommandline.com/assets/img/data-science-at-the-command-line.png\">"
   ]
  },
  {
   "cell_type": "code",
   "execution_count": null,
   "metadata": {
    "collapsed": true
   },
   "outputs": [],
   "source": []
  }
 ],
 "metadata": {
  "kernelspec": {
   "display_name": "Python 3",
   "language": "python",
   "name": "python3"
  },
  "language_info": {
   "codemirror_mode": {
    "name": "ipython",
    "version": 3
   },
   "file_extension": ".py",
   "mimetype": "text/x-python",
   "name": "python",
   "nbconvert_exporter": "python",
   "pygments_lexer": "ipython3",
   "version": "3.6.4"
  }
 },
 "nbformat": 4,
 "nbformat_minor": 2
}
