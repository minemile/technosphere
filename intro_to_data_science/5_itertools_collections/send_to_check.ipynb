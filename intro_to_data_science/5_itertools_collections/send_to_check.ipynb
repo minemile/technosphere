{
 "cells": [
  {
   "cell_type": "code",
   "execution_count": 14,
   "metadata": {},
   "outputs": [],
   "source": [
    "import requests\n",
    "import json"
   ]
  },
  {
   "cell_type": "code",
   "execution_count": 20,
   "metadata": {},
   "outputs": [],
   "source": [
    "ip = '35.190.208.167'\n",
    "user = 'Evstifeev'\n",
    "filename = 'sample_submission.py'\n",
    "\n",
    "with open(filename, 'rb') as f:\n",
    "        resp = requests.post('http://{}:5000/{}'.format(ip, user),\n",
    "                             files={'file': f})"
   ]
  },
  {
   "cell_type": "code",
   "execution_count": 21,
   "metadata": {},
   "outputs": [
    {
     "name": "stdout",
     "output_type": "stream",
     "text": [
      "============================= test session starts ==============================\n",
      "platform linux -- Python 3.6.4, pytest-3.4.2, py-1.5.2, pluggy-0.6.0 -- /home/d_bolkunov/anaconda3/envs/py36raw/bin/python\n",
      "cachedir: .pytest_cache\n",
      "rootdir: /home/d_bolkunov/contents, inifile:\n",
      "collecting ... collected 24 items\n",
      "\n",
      "tests/itertools/test_groupby.py::TestGroupby::test_types XPASS           [  4%]\n",
      "tests/itertools/test_groupby.py::TestGroupby::test_sizes[1-2] XPASS      [  8%]\n",
      "tests/itertools/test_groupby.py::TestGroupby::test_sizes[0-2] XPASS      [ 12%]\n",
      "tests/itertools/test_groupby.py::TestGroupby::test_values[1-2-sum] PASSED [ 16%]\n",
      "tests/itertools/test_groupby.py::TestGroupby::test_values[1-2-mean] PASSED [ 20%]\n",
      "tests/itertools/test_groupby.py::TestGroupby::test_values[0-2-sum] PASSED [ 25%]\n",
      "tests/itertools/test_groupby.py::TestGroupby::test_values[0-2-mean] PASSED [ 29%]\n",
      "tests/itertools/test_ngrams.py::TestNgrams::test_types XPASS             [ 33%]\n",
      "tests/itertools/test_ngrams.py::TestNgrams::test_sizes[some-correct0-2] XPASS [ 37%]\n",
      "tests/itertools/test_ngrams.py::TestNgrams::test_sizes[some-correct1-3] XPASS [ 41%]\n",
      "tests/itertools/test_ngrams.py::TestNgrams::test_sizes[ititititit-correct2-3] XPASS [ 45%]\n",
      "tests/itertools/test_ngrams.py::TestNgrams::test_sizes[ititititit-correct3-2] XPASS [ 50%]\n",
      "tests/itertools/test_ngrams.py::TestNgrams::test_sizes[ititititit-correct4-4] XPASS [ 54%]\n",
      "tests/itertools/test_ngrams.py::TestNgrams::test_values[some-correct0-2] PASSED [ 58%]\n",
      "tests/itertools/test_ngrams.py::TestNgrams::test_values[some-correct1-3] PASSED [ 62%]\n",
      "tests/itertools/test_ngrams.py::TestNgrams::test_values[ititititit-correct2-3] PASSED [ 66%]\n",
      "tests/itertools/test_ngrams.py::TestNgrams::test_values[ititititit-correct3-2] PASSED [ 70%]\n",
      "tests/itertools/test_ngrams.py::TestNgrams::test_values[ititititit-correct4-4] PASSED [ 75%]\n",
      "tests/itertools/test_permutations.py::TestPermutations::test_values[2] PASSED [ 79%]\n",
      "tests/itertools/test_permutations.py::TestPermutations::test_values[3] PASSED [ 83%]\n",
      "tests/itertools/test_permutations.py::TestPermutations::test_values[4] PASSED [ 87%]\n",
      "tests/itertools/test_permutations.py::TestPermutations::test_values[5] PASSED [ 91%]\n",
      "tests/itertools/test_permutations.py::TestPermutations::test_values[6] PASSED [ 95%]\n",
      "tests/itertools/test_permutations.py::TestPermutations::test_values[7] PASSED [100%]\n",
      "\n",
      "===================== 15 passed, 9 xpassed in 0.08 seconds =====================\n",
      "\n"
     ]
    }
   ],
   "source": [
    "print(json.loads(resp.text))"
   ]
  },
  {
   "cell_type": "code",
   "execution_count": null,
   "metadata": {
    "collapsed": true
   },
   "outputs": [],
   "source": [
    "# echo -e $(curl -i -X POST -F \"file=@./submission.py\" http://35.190.208.167:5000/<surname>)\n",
    "\n",
    "# <surname> - поменять надо\n",
    "# а еще название файла можно поменять, который отправляешь"
   ]
  },
  {
   "cell_type": "code",
   "execution_count": null,
   "metadata": {
    "collapsed": true
   },
   "outputs": [],
   "source": []
  }
 ],
 "metadata": {
  "kernelspec": {
   "display_name": "Python 3",
   "language": "python",
   "name": "python3"
  },
  "language_info": {
   "codemirror_mode": {
    "name": "ipython",
    "version": 3
   },
   "file_extension": ".py",
   "mimetype": "text/x-python",
   "name": "python",
   "nbconvert_exporter": "python",
   "pygments_lexer": "ipython3",
   "version": "3.6.4"
  }
 },
 "nbformat": 4,
 "nbformat_minor": 2
}
