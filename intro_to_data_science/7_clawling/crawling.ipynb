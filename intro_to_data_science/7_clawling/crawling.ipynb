{
 "cells": [
  {
   "cell_type": "markdown",
   "metadata": {},
   "source": [
    "Когда это вообще может быть нужно?"
   ]
  },
  {
   "cell_type": "code",
   "execution_count": 1,
   "metadata": {},
   "outputs": [],
   "source": [
    "import requests\n",
    "import json\n",
    "from tqdm import tqdm\n",
    "#from urllib import urlopen\n",
    "from multiprocessing.dummy import Pool as ThreadPool\n",
    "from IPython.display import display, HTML\n",
    "from lxml import etree\n",
    "#import grab\n",
    "from bs4 import BeautifulSoup"
   ]
  },
  {
   "cell_type": "code",
   "execution_count": 2,
   "metadata": {},
   "outputs": [],
   "source": [
    "BASH_URL = 'http://bash.org.ru'\n",
    "resp = requests.get(BASH_URL)"
   ]
  },
  {
   "cell_type": "code",
   "execution_count": 3,
   "metadata": {},
   "outputs": [
    {
     "data": {
      "text/plain": [
       "200"
      ]
     },
     "execution_count": 3,
     "metadata": {},
     "output_type": "execute_result"
    }
   ],
   "source": [
    "resp.status_code"
   ]
  },
  {
   "cell_type": "code",
   "execution_count": 4,
   "metadata": {},
   "outputs": [
    {
     "data": {
      "text/plain": [
       "True"
      ]
     },
     "execution_count": 4,
     "metadata": {},
     "output_type": "execute_result"
    }
   ],
   "source": [
    "resp.ok"
   ]
  },
  {
   "cell_type": "markdown",
   "metadata": {},
   "source": [
    "<a href=\"https://ru.wikipedia.org/wiki/%D0%A1%D0%BF%D0%B8%D1%81%D0%BE%D0%BA_%D0%BA%D0%BE%D0%B4%D0%BE%D0%B2_%D1%81%D0%BE%D1%81%D1%82%D0%BE%D1%8F%D0%BD%D0%B8%D1%8F_HTTP\">Список кодов состояния HTTP</a>\n",
    "\n",
    "**TLDR**: \n",
    "- 2** - всё хорошо\n",
    "- 3** - редирект\n",
    "- 4** - проблема клиента (404 - не найдено, 403 - нет доступа)\n",
    "- 5** - проблема сервера (пятисотки)"
   ]
  },
  {
   "cell_type": "code",
   "execution_count": 5,
   "metadata": {},
   "outputs": [
    {
     "data": {
      "text/plain": [
       "'<!doctype html>\\n<html id=\"godtier\">\\n<head>\\n\\t<title>Цитатник Рунета</title>\\n\\n\\t\\n\\t<meta charset=\"windows-1251\" />\\n\\n\\t<link href=\"http://bash.im/reset.css\" type=\"text/css\" rel=\"stylesheet\" />\\n\\t<meta name=\"format-detection\" content=\"telephone=no\">\\n\\t\\t\\t\\t<meta name=\"viewport\" content=\"width=device-width, initial-scale=1, user-scalable=yes\" />\\n\\t<link href=\"http://bash.im/bor25.css?20140303\" type=\"text/css\" rel=\"stylesheet\" />\\n\\t\\t\\n\\t\\t<link rel=\"alternate\" title=\"Цитатник Рунета - bash.im\" href=\"http://bash.im/rss/\" type=\"application/rss+xml\">\\n\\n\\t\\t\\t\\t<link rel=\"next\" href=\"/index/1350\" />\\t\\t\\n\\t\\n\\t\\n\\t<script src=\"https://code.jquery.com/jquery-1.8.3.min.js\" integrity=\"sha256-YcbK69I5IXQftf/mYD8WY0/KmEDCv1asggHpJk1trM8=\" crossorigin=\"anonymous\"></script>\\n\\t<script type=\"text/javascript\" src=\"http://bash.im/jquery-ui-1.9.2.dp.min.js\"></script>\\n\\t<link href=\"http://bash.im/jquery-ui-1.9.2.dp.min.css\" rel=\"stylesheet\" />\\n\\t<script type=\"text/javascript\" src=\"http://bash.im/easing.js\"></script>\\n\\n\\t<script type=\"text/javascript\" src=\"http://bash.im/bor.js?20140310\"></script>\\n\\n\\t<script type=\"text/javascript\" src=\"http://bash.im/json2.min.js\"></script>\\n\\t<script type=\"text/javascript\" src=\"http://bash.im/jq.co.js\"></script>\\n\\t<script type=\"text/javascript\">\\n    $(document).ready(function() {\\n        \\n        $.cookie(\\'ls_index\\', JSON.stringify({\\'ts\\': 1522164737, \\'cnt\\': 67526, \\'id\\': 449662}), { expires: 14, path: \\'/\\'});\\n        \\n\\n        \\n        var ls_comics = JSON.parse($.cookie(\\'ls_comics\\'));\\n        var d = 1666 - ls_comics[\\'cnt\\'];\\n        if (d > 0) $(\\'#menu-comics\\').after(\\' <em class=\"hot\">\\' + d + \\'</em>\\');\\n        \\n\\n        \\n        var ls_abyssbest = JSON.parse($.cookie(\\'ls_abyssbest\\'));\\n        var d = 3154 - ls_abyssbest[\\'cnt\\'];\\n        if (d > 0) $(\\'#menu-abyssbest\\').after(\\' <em class=\"hot\">\\' + d + \\'</em>\\');\\n        \\n    });\\n</script>\\n\\t<script src=\"https://yastatic.net/share2/share.js\" async=\"async\" charset=\"utf-8\"></script>\\n\\t\\n\\t\\t\\t\\n<script type=\"text/javascript\">\\n\\n  var _gaq = _gaq || [];\\n  _gaq.push([\\'_setAccount\\', \\'UA-3271837-1\\']);\\n  _gaq.push([\\'_setDomainName\\', \\'bash.im\\']);\\n  _gaq.push([\\'_setAllowLinker\\', true]);\\n  _gaq.push([\\'_trackPageview\\']);\\n\\n  (function() {\\n    var ga = document.createElement(\\'script\\'); ga.type = \\'text/javascript\\'; ga.async = true;\\n    ga.src = (\\'https:\\' == document.location.protocol ? \\'https://ssl\\' : \\'http://www\\') + \\'.google-analytics.com/ga.js\\';\\n    var s = document.getElementsByTagName(\\'script\\')[0]; s.parentNode.insertBefore(ga, s);\\n  })();\\n\\n</script>\\n\\t\\t\\t</head>\\n<body>\\n\\n\\n<div id=\"xsite-nav\">\\n\\t<a href=\"/\" class=\"current\"><img src=\"http://bash.im/img/icon-bor.gif\" width=\"16\" height=\"16\" />bash.im</a>\\n\\t<a href=\"http://ithappens.me/\"><img src=\"http://bash.im/img/icon-ith.gif\" width=\"16\" height=\"16\" />ithappens.me</a>\\n\\t<a href=\"http://zadolba.li/\"><img src=\"http://bash.im/img/icon-zdb.gif\" width=\"16\" height=\"16\" />zadolba.li</a>\\n</div>\\n\\n<div id=\"body\">\\n\\n\\t<div id=\"header\">\\n\\t\\t<img src=\"http://bash.im/logo.gif\" data-src2x=\"http://bash.im/logo@2x.gif\" width=\"300\" height=\"40\" alt=\"bash.im\" />\\t\\t<h1>bash.im&nbsp;— Цитатник&nbsp;Рунета</h1>\\n\\t</div>\\n\\n\\t\\n\\t<div style=\"float: right; clear: right; margin-left: 10px; width: 300px; height: 250px;\" id=\"yandex_rtb_R-A-125894-3\"></div>\\n\\n<script type=\"text/javascript\">\\n    (function(w, d, n, s, t) {\\n        w[n] = w[n] || [];\\n        w[n].push(function() {\\n            Ya.Context.AdvManager.render({\\n                blockId: \"R-A-125894-3\",\\n                renderTo: \"yandex_rtb_R-A-125894-3\",\\n                async: true\\n            });\\n        });\\n        t = d.getElementsByTagName(\"script\")[0];\\n        s = d.createElement(\"script\");\\n        s.type = \"text/javascript\";\\n        s.src = \"//an.yandex.ru/system/context.js\";\\n        s.async = true;\\n        t.parentNode.insertBefore(s, t);\\n    })(this, this.document, \"yandexContextAsyncCallbacks\");\\n</script>\\n<div id=\"menubar\">\\n\\t<div class=\"submenu\">\\n\\t<span class=\"title\">Цитаты:</span>\\n\\t<div class=\"options\">\\n\\t\\t<span class=\"nowrap\"><a href=\"/\" class=\"current\" id=\"menu-index\">новые</a>\\n\\t\\t<a href=\"/random\">случайные</a>\\n\\t\\t<a href=\"/best\">лучшие</a>\\n\\t\\t<a href=\"/byrating\">по\\xa0рейтингу</a></span>\\n\\t\\t<span class=\"nowrap\"><a href=\"/abyss\">Бездна</a>\\n\\t\\t<a href=\"/abysstop\">топ\\xa0Бездны</a>\\n\\t\\t<a href=\"/abyssbest\" id=\"menu-abyssbest\">лучшее Бездны</a></span>\\n\\t\\t<a href=\"/add\" class=\"add last\">добавить</a>\\n\\t\\t\\t</div>\\n\\t</div>\\n\\t<div class=\"submenu\">\\n\\t\\t<span class=\"title\">Смотреть:</span>\\n\\t\\t<div class=\"options\">\\n\\t\\t\\t<a href=\"/showbad\" class=\"current\">все цитаты</a>\\n\\t\\t\\t<a href=\"/hidebad\">только без минусов</a>\\n\\t\\t</div>\\n\\t</div>\\n\\t<div id=\"stats\">Утверждено <b>67526</b> цитат, сегодня <b>20</b>, ждут\\xa0очереди в\\xa0Бездне <b>170</b></div>\\n\\t<div class=\"submenu\">\\n\\t<span class=\"title\">Прочее:</span>\\n\\t<div class=\"options nowrap\">\\n\\t\\t<a href=\"/comics\" id=\"menu-comics\">комиксы</a>\\n\\t\\t<a href=\"/faq\">о\\xa0сайте</a>\\n\\t\\t<a href=\"/webmaster\">вебмастеру</a>\\t\\t<a href=\"/rss\">RSS</a>\\n\\t\\t<a href=\"http://twitter.com/b_o_r\" class=\"last\">Twitter</a>\\n\\t\\t\\t</div>\\n</div>\\n\\t\\n\\t<form name=\"search\" type=\"get\" action=\"/index\"><div id=\"search\" class=\"submenu\"><input type=\"text\" id=\"text\" name=\"text\" placeholder=\"текст или номер цитаты\" value=\"\" /><button type=\"submit\">Найти</button></div></form>\\n</div>\\n\\t\\t\\n\\n\\t\\t\\n\\n<script>\\n$(document).ready(function() {\\n        $(\".pager form\").bind(\"submit\", function(e) {\\n                var page = $(\"input:focus\").val();\\n                if (isNumeric(page)) {\\n                        if (page >= 1 && page <= 1351) {\\n                                window.location(\\'/index/\\' + page);\\n                                return true;\\n                        } else {\\n                                alert(\"Нужно указать номер страницы от 1 до 1351\");\\n                        }\\n                };\\n                return false;\\n        });\\n\\n        $(\".pager form input[type=text]\").focus(function(){\\n                this.select();\\n        });\\n});\\n</script>\\n\\n<div class=\"pager\"><form method=\"post\" action=\"/index\"><span class=\"current\"><input type=\"text\" name=\"page\" class=\"page\" pattern=\"[0-9]+\" numeric=\"integer\" min=\"1\" max=\"1351\" value=\"1351\" /></span><a href=\"/index/1350\"><span class=\"arr\">&rarr;</span><span>1350</span></a><a href=\"/index/1349\"><span>1349</span></a><span>&middot;&middot;&middot;</span><a href=\"/index/1\"><span>начало</span></a></form></div>\\n\\n\\t<div class=\"quote\">\\n\\t<div class=\"actions\">\\n\\t\\t\\t\\t\\t\\t\\t\\t<a href=\"/quote/449662/rulez\" class=\"up\" rel=\"nofollow\" onclick=\"v(\\'449662\\',0,0); return false;\">+</a>\\t\\t<span class=\"rating-o\"><span id=\"v449662\" class=\"rating\">721</span></span>\\t\\t<a href=\"/quote/449662/sux\" class=\"down\" rel=\"nofollow\" onclick=\"v(\\'449662\\',1,0); return false;\">&ndash;</a>\\n\\t\\t<a href=\"/quote/449662/bayan\" class=\"old\" id=\"vb449662\" rel=\"nofollow\" onclick=\"v(\\'449662\\',2,0); return false;\">[:||||:]</a>\\t\\t<span class=\"share ya-share2\" id=\"s449662\" class=\"ya-share2\" data-services=\"vkontakte,facebook,twitter,telegram,odnoklassniki,moimir,gplus,lj\" data-limit=\"4\" data-size=\"s\" data-popup-position=\"outer\" data-title=\"Цитата #449662\" data-url=\"http://bash.im/quote/449662\"></span>\\n\\t\\t\\t\\t\\t\\t\\t\\t\\t\\t<span class=\"date\">2018-03-27 12:12</span> <a href=\"/quote/449662\" class=\"id\">#449662</a>\\t\\t\\t\\t\\t</div>\\n\\t<div class=\"text\">Про лазер на истребителе: «По словам Стэнли, в целом, лазерная установка уже готова, однако разработчикам необходимо решить еще несколько проблем, связанных с уменьшением ее размеров, массы и потребляемой мощности.<br>Это примерно как «В целом, мы уже сейчас можем сделать электромобиль на ядерном реакторе, осталось только решить парочку проблем - сделать так, чтоб этот самый реактор помещался в моторный отсек (а не занимал четыре гектара), весил не более пары центнеров (а не как три сухогруза) и мог запитать четыре электродвигателя ( а не чайник на два литра).»</div>\\n\\t</div>\\t \\n\\t \\n\\t \\n\\t<div class=\"quote\">\\n\\t<div class=\"actions\">\\n\\t\\t\\t\\t\\t\\t\\t\\t<a href=\"/quote/449661/rulez\" class=\"up\" rel=\"nofollow\" onclick=\"v(\\'449661\\',0,0); return false;\">+</a>\\t\\t<span class=\"rating-o\"><span id=\"v449661\" class=\"rating\">428</span></span>\\t\\t<a href=\"/quote/449661/sux\" class=\"down\" rel=\"nofollow\" onclick=\"v(\\'449661\\',1,0); return false;\">&ndash;</a>\\n\\t\\t<a href=\"/quote/449661/bayan\" class=\"old\" id=\"vb449661\" rel=\"nofollow\" onclick=\"v(\\'449661\\',2,0); return false;\">[:||||:]</a>\\t\\t<span class=\"share ya-share2\" id=\"s449661\" class=\"ya-share2\" data-services=\"vkontakte,facebook,twitter,telegram,odnoklassniki,moimir,gplus,lj\" data-limit=\"4\" data-size=\"s\" data-popup-position=\"outer\" data-title=\"Цитата #449661\" data-url=\"http://bash.im/quote/449661\"></span>\\n\\t\\t\\t\\t\\t\\t\\t\\t\\t\\t<span class=\"date\">2018-03-27 12:11</span> <a href=\"/quote/449661\" class=\"id\">#449661</a>\\t\\t\\t\\t\\t</div>\\n\\t<div class=\"text\">GermannM: Сразу видно, пришла весна. В сугробах оттаял чей то портфель</div>\\n\\t</div>\\t \\n\\t \\n\\t \\n\\t<div class=\"quote\">\\n\\t<div class=\"actions\">\\n\\t\\t\\t\\t\\t\\t\\t\\t<a href=\"/quote/449660/rulez\" class=\"up\" rel=\"nofollow\" onclick=\"v(\\'449660\\',0,0); return false;\">+</a>\\t\\t<span class=\"rating-o\"><span id=\"v449660\" class=\"rating\">285</span></span>\\t\\t<a href=\"/quote/449660/sux\" class=\"down\" rel=\"nofollow\" onclick=\"v(\\'449660\\',1,0); return false;\">&ndash;</a>\\n\\t\\t<a href=\"/quote/449660/bayan\" class=\"old\" id=\"vb449660\" rel=\"nofollow\" onclick=\"v(\\'449660\\',2,0); return false;\">[:||||:]</a>\\t\\t<span class=\"share ya-share2\" id=\"s449660\" class=\"ya-share2\" data-services=\"vkontakte,facebook,twitter,telegram,odnoklassniki,moimir,gplus,lj\" data-limit=\"4\" data-size=\"s\" data-popup-position=\"outer\" data-title=\"Цитата #449660\" data-url=\"http://bash.im/quote/449660\"></span>\\n\\t\\t\\t\\t\\t\\t\\t\\t\\t\\t<span class=\"date\">2018-03-27 11:46</span> <a href=\"/quote/449660\" class=\"id\">#449660</a>\\t\\t\\t\\t\\t</div>\\n\\t<div class=\"text\">xxx: Да за одну Варфоломеевскую ночь порезали народу больше, чем за правление Грозного!<br>yyy: Все это похоже на обсуждение, кто гуманнее и порядочнее: Чикатило или Джек-Потрошитель.</div>\\n\\t</div>\\t \\n\\t \\n\\t \\n\\t<div class=\"quote\">\\n\\t<div class=\"actions\">\\n\\t\\t\\t\\t\\t\\t\\t\\t<a href=\"/quote/449659/rulez\" class=\"up\" rel=\"nofollow\" onclick=\"v(\\'449659\\',0,0); return false;\">+</a>\\t\\t<span class=\"rating-o\"><span id=\"v449659\" class=\"rating\">695</span></span>\\t\\t<a href=\"/quote/449659/sux\" class=\"down\" rel=\"nofollow\" onclick=\"v(\\'449659\\',1,0); return false;\">&ndash;</a>\\n\\t\\t<a href=\"/quote/449659/bayan\" class=\"old\" id=\"vb449659\" rel=\"nofollow\" onclick=\"v(\\'449659\\',2,0); return false;\">[:||||:]</a>\\t\\t<span class=\"share ya-share2\" id=\"s449659\" class=\"ya-share2\" data-services=\"vkontakte,facebook,twitter,telegram,odnoklassniki,moimir,gplus,lj\" data-limit=\"4\" data-size=\"s\" data-popup-position=\"outer\" data-title=\"Цитата #449659\" data-url=\"http://bash.im/quote/449659\"></span>\\n\\t\\t\\t\\t\\t\\t\\t\\t\\t\\t<span class=\"date\">2018-03-27 11:12</span> <a href=\"/quote/449659\" class=\"id\">#449659</a>\\t\\t\\t\\t\\t</div>\\n\\t<div class=\"text\">Пост о палёном алкоголе.<br><br>xxx: Алкоголь беру только в крупных супермаркетах. И чек, пока утром не проснусь сохраняю))<br><br>yyy: Если всё же утром не проснёшься, то сохранённый чек будет слабым утешением.<br></div>\\n\\t</div>\\t \\n\\t \\n\\t \\n\\t<div class=\"quote\">\\n\\t<div class=\"actions\">\\n\\t\\t\\t\\t\\t\\t\\t\\t<a href=\"/quote/449658/rulez\" class=\"up\" rel=\"nofollow\" onclick=\"v(\\'449658\\',0,0); return false;\">+</a>\\t\\t<span class=\"rating-o\"><span id=\"v449658\" class=\"rating\">647</span></span>\\t\\t<a href=\"/quote/449658/sux\" class=\"down\" rel=\"nofollow\" onclick=\"v(\\'449658\\',1,0); return false;\">&ndash;</a>\\n\\t\\t<a href=\"/quote/449658/bayan\" class=\"old\" id=\"vb449658\" rel=\"nofollow\" onclick=\"v(\\'449658\\',2,0); return false;\">[:||||:]</a>\\t\\t<span class=\"share ya-share2\" id=\"s449658\" class=\"ya-share2\" data-services=\"vkontakte,facebook,twitter,telegram,odnoklassniki,moimir,gplus,lj\" data-limit=\"4\" data-size=\"s\" data-popup-position=\"outer\" data-title=\"Цитата #449658\" data-url=\"http://bash.im/quote/449658\"></span>\\n\\t\\t\\t\\t\\t\\t\\t\\t\\t\\t<span class=\"date\">2018-03-27 11:11</span> <a href=\"/quote/449658\" class=\"id\">#449658</a>\\t\\t\\t\\t\\t</div>\\n\\t<div class=\"text\">xxx: некоторые россияне зарабатывают в секунду столько же, сколько некоторые за месяц<br><br>yyy: Очень подходит под описание двух моих соседей. Оба безработные.</div>\\n\\t</div>\\t<!-- Yandex.RTB R-A-125894-4 -->\\n<div id=\"yandex_rtb_R-A-125894-4\"></div>\\n\\n<script type=\"text/javascript\">\\n    (function(w, d, n, s, t) {\\n        w[n] = w[n] || [];\\n        w[n].push(function() {\\n            Ya.Context.AdvManager.render({\\n                blockId: \"R-A-125894-4\",\\n                renderTo: \"yandex_rtb_R-A-125894-4\",\\n                async: true\\n            });\\n        });\\n        t = d.getElementsByTagName(\"script\")[0];\\n        s = d.createElement(\"script\");\\n        s.type = \"text/javascript\";\\n        s.src = \"//an.yandex.ru/system/context.js\";\\n        s.async = true;\\n        t.parentNode.insertBefore(s, t);\\n    })(this, this.document, \"yandexContextAsyncCallbacks\");\\n</script>\\n\\n \\n\\t \\n\\t \\n\\t<div class=\"quote\">\\n\\t<div class=\"actions\">\\n\\t\\t\\t\\t\\t\\t\\t\\t<a href=\"/quote/449657/rulez\" class=\"up\" rel=\"nofollow\" onclick=\"v(\\'449657\\',0,0); return false;\">+</a>\\t\\t<span class=\"rating-o\"><span id=\"v449657\" class=\"rating\">848</span></span>\\t\\t<a href=\"/quote/449657/sux\" class=\"down\" rel=\"nofollow\" onclick=\"v(\\'449657\\',1,0); return false;\">&ndash;</a>\\n\\t\\t<a href=\"/quote/449657/bayan\" class=\"old\" id=\"vb449657\" rel=\"nofollow\" onclick=\"v(\\'449657\\',2,0); return false;\">[:||||:]</a>\\t\\t<span class=\"share ya-share2\" id=\"s449657\" class=\"ya-share2\" data-services=\"vkontakte,facebook,twitter,telegram,odnoklassniki,moimir,gplus,lj\" data-limit=\"4\" data-size=\"s\" data-popup-position=\"outer\" data-title=\"Цитата #449657\" data-url=\"http://bash.im/quote/449657\"></span>\\n\\t\\t\\t\\t\\t\\t\\t\\t\\t\\t<span class=\"date\">2018-03-27 11:11</span> <a href=\"/quote/449657\" class=\"id\">#449657</a>\\t\\t\\t\\t\\t</div>\\n\\t<div class=\"text\">xxx: В течение своего многовекового существования люди научились не очень-то доверять голосам в голове и галлюцинациям<br>yyy: Зато научились доверять голосам и галлюцинациям в чужой голове.</div>\\n\\t</div>\\t \\n\\t \\n\\t \\n\\t<div class=\"quote\">\\n\\t<div class=\"actions\">\\n\\t\\t\\t\\t\\t\\t\\t\\t<a href=\"/quote/449656/rulez\" class=\"up\" rel=\"nofollow\" onclick=\"v(\\'449656\\',0,0); return false;\">+</a>\\t\\t<span class=\"rating-o\"><span id=\"v449656\" class=\"rating\">821</span></span>\\t\\t<a href=\"/quote/449656/sux\" class=\"down\" rel=\"nofollow\" onclick=\"v(\\'449656\\',1,0); return false;\">&ndash;</a>\\n\\t\\t<a href=\"/quote/449656/bayan\" class=\"old\" id=\"vb449656\" rel=\"nofollow\" onclick=\"v(\\'449656\\',2,0); return false;\">[:||||:]</a>\\t\\t<span class=\"share ya-share2\" id=\"s449656\" class=\"ya-share2\" data-services=\"vkontakte,facebook,twitter,telegram,odnoklassniki,moimir,gplus,lj\" data-limit=\"4\" data-size=\"s\" data-popup-position=\"outer\" data-title=\"Цитата #449656\" data-url=\"http://bash.im/quote/449656\"></span>\\n\\t\\t\\t\\t\\t\\t\\t\\t\\t\\t<span class=\"date\">2018-03-27 10:46</span> <a href=\"/quote/449656\" class=\"id\">#449656</a>\\t\\t\\t\\t\\t</div>\\n\\t<div class=\"text\">Проходя мимо аудитории, замдекана услышал, как студентки обсуждали свои циклы, совершенно не стесняясь ни одногруппников ни открытой двери. Возмущённый таким поведением, он вошёл в кабинет с вопросом: &quot;Чем вы тут занимаетесь?!&quot;. &quot;Программируем&quot; - хором ответили девочки.</div>\\n\\t</div>\\t \\n\\t \\n\\t \\n\\t<div class=\"quote\">\\n\\t<div class=\"actions\">\\n\\t\\t\\t\\t\\t\\t\\t\\t<a href=\"/quote/449655/rulez\" class=\"up\" rel=\"nofollow\" onclick=\"v(\\'449655\\',0,0); return false;\">+</a>\\t\\t<span class=\"rating-o\"><span id=\"v449655\" class=\"rating\">677</span></span>\\t\\t<a href=\"/quote/449655/sux\" class=\"down\" rel=\"nofollow\" onclick=\"v(\\'449655\\',1,0); return false;\">&ndash;</a>\\n\\t\\t<a href=\"/quote/449655/bayan\" class=\"old\" id=\"vb449655\" rel=\"nofollow\" onclick=\"v(\\'449655\\',2,0); return false;\">[:||||:]</a>\\t\\t<span class=\"share ya-share2\" id=\"s449655\" class=\"ya-share2\" data-services=\"vkontakte,facebook,twitter,telegram,odnoklassniki,moimir,gplus,lj\" data-limit=\"4\" data-size=\"s\" data-popup-position=\"outer\" data-title=\"Цитата #449655\" data-url=\"http://bash.im/quote/449655\"></span>\\n\\t\\t\\t\\t\\t\\t\\t\\t\\t\\t<span class=\"date\">2018-03-27 10:13</span> <a href=\"/quote/449655\" class=\"id\">#449655</a>\\t\\t\\t\\t\\t</div>\\n\\t<div class=\"text\">Об организации отчётности в компании:<br>xxx: я записал в редмайн задачу &quot;Запись задач в редмайн - 4 часа&quot;, но мне сказали больше так не делать</div>\\n\\t</div>\\t \\n\\t \\n\\t \\n\\t<div class=\"quote\">\\n\\t<div class=\"actions\">\\n\\t\\t\\t\\t\\t\\t\\t\\t<a href=\"/quote/449654/rulez\" class=\"up\" rel=\"nofollow\" onclick=\"v(\\'449654\\',0,0); return false;\">+</a>\\t\\t<span class=\"rating-o\"><span id=\"v449654\" class=\"rating\">115</span></span>\\t\\t<a href=\"/quote/449654/sux\" class=\"down\" rel=\"nofollow\" onclick=\"v(\\'449654\\',1,0); return false;\">&ndash;</a>\\n\\t\\t<a href=\"/quote/449654/bayan\" class=\"old\" id=\"vb449654\" rel=\"nofollow\" onclick=\"v(\\'449654\\',2,0); return false;\">[:||||:]</a>\\t\\t<span class=\"share ya-share2\" id=\"s449654\" class=\"ya-share2\" data-services=\"vkontakte,facebook,twitter,telegram,odnoklassniki,moimir,gplus,lj\" data-limit=\"4\" data-size=\"s\" data-popup-position=\"outer\" data-title=\"Цитата #449654\" data-url=\"http://bash.im/quote/449654\"></span>\\n\\t\\t\\t\\t\\t\\t\\t\\t\\t\\t<span class=\"date\">2018-03-27 10:12</span> <a href=\"/quote/449654\" class=\"id\">#449654</a>\\t\\t\\t\\t\\t</div>\\n\\t<div class=\"text\">xxx: Магазины, шоппинг...<br>xxx: Мы вот как ходили в лавки да на торжища, так и продолжаем.</div>\\n\\t</div>\\t \\n\\t \\n\\t \\n\\t<div class=\"quote\">\\n\\t<div class=\"actions\">\\n\\t\\t\\t\\t\\t\\t\\t\\t<a href=\"/quote/449653/rulez\" class=\"up\" rel=\"nofollow\" onclick=\"v(\\'449653\\',0,0); return false;\">+</a>\\t\\t<span class=\"rating-o\"><span id=\"v449653\" class=\"rating\">465</span></span>\\t\\t<a href=\"/quote/449653/sux\" class=\"down\" rel=\"nofollow\" onclick=\"v(\\'449653\\',1,0); return false;\">&ndash;</a>\\n\\t\\t<a href=\"/quote/449653/bayan\" class=\"old\" id=\"vb449653\" rel=\"nofollow\" onclick=\"v(\\'449653\\',2,0); return false;\">[:||||:]</a>\\t\\t<span class=\"share ya-share2\" id=\"s449653\" class=\"ya-share2\" data-services=\"vkontakte,facebook,twitter,telegram,odnoklassniki,moimir,gplus,lj\" data-limit=\"4\" data-size=\"s\" data-popup-position=\"outer\" data-title=\"Цитата #449653\" data-url=\"http://bash.im/quote/449653\"></span>\\n\\t\\t\\t\\t\\t\\t\\t\\t\\t\\t<span class=\"date\">2018-03-27 09:45</span> <a href=\"/quote/449653\" class=\"id\">#449653</a>\\t\\t\\t\\t\\t</div>\\n\\t<div class=\"text\">ёёё: У меня тут сейчас было прекрасное: начальница обсуждала загруженность преподавателей кафедры на следующий год. Они там совмещают много всего неофициально или полуофициально.<br><br>Начальница: У вас сколько ЖИВЫХ людей?<br><br>Хороший вопрос сотруднику кафедры, половина занятий у которой проходит в моргах.</div>\\n\\t</div>\\t \\n\\t \\n\\t \\n\\t<div class=\"quote\">\\n\\t<div class=\"actions\">\\n\\t\\t\\t\\t\\t\\t\\t\\t<a href=\"/quote/449652/rulez\" class=\"up\" rel=\"nofollow\" onclick=\"v(\\'449652\\',0,0); return false;\">+</a>\\t\\t<span class=\"rating-o\"><span id=\"v449652\" class=\"rating\">476</span></span>\\t\\t<a href=\"/quote/449652/sux\" class=\"down\" rel=\"nofollow\" onclick=\"v(\\'449652\\',1,0); return false;\">&ndash;</a>\\n\\t\\t<a href=\"/quote/449652/bayan\" class=\"old\" id=\"vb449652\" rel=\"nofollow\" onclick=\"v(\\'449652\\',2,0); return false;\">[:||||:]</a>\\t\\t<span class=\"share ya-share2\" id=\"s449652\" class=\"ya-share2\" data-services=\"vkontakte,facebook,twitter,telegram,odnoklassniki,moimir,gplus,lj\" data-limit=\"4\" data-size=\"s\" data-popup-position=\"outer\" data-title=\"Цитата #449652\" data-url=\"http://bash.im/quote/449652\"></span>\\n\\t\\t\\t\\t\\t\\t\\t\\t\\t\\t<span class=\"date\">2018-03-27 09:45</span> <a href=\"/quote/449652\" class=\"id\">#449652</a>\\t\\t\\t\\t\\t</div>\\n\\t<div class=\"text\">xxx: легко быть экспертом в том, что не является твоей работой))</div>\\n\\t</div>\\t \\n\\t \\n\\t \\n\\t<div class=\"quote\">\\n\\t<div class=\"actions\">\\n\\t\\t\\t\\t\\t\\t\\t\\t<a href=\"/quote/449651/rulez\" class=\"up\" rel=\"nofollow\" onclick=\"v(\\'449651\\',0,0); return false;\">+</a>\\t\\t<span class=\"rating-o\"><span id=\"v449651\" class=\"rating\">277</span></span>\\t\\t<a href=\"/quote/449651/sux\" class=\"down\" rel=\"nofollow\" onclick=\"v(\\'449651\\',1,0); return false;\">&ndash;</a>\\n\\t\\t<a href=\"/quote/449651/bayan\" class=\"old\" id=\"vb449651\" rel=\"nofollow\" onclick=\"v(\\'449651\\',2,0); return false;\">[:||||:]</a>\\t\\t<span class=\"share ya-share2\" id=\"s449651\" class=\"ya-share2\" data-services=\"vkontakte,facebook,twitter,telegram,odnoklassniki,moimir,gplus,lj\" data-limit=\"4\" data-size=\"s\" data-popup-position=\"outer\" data-title=\"Цитата #449651\" data-url=\"http://bash.im/quote/449651\"></span>\\n\\t\\t\\t\\t\\t\\t\\t\\t\\t\\t<span class=\"date\">2018-03-27 09:44</span> <a href=\"/quote/449651\" class=\"id\">#449651</a>\\t\\t\\t\\t\\t</div>\\n\\t<div class=\"text\">xxx: У меня по фотографиям в загране и визах можно рассказывать историю о милом мальчике, который связался с плохой компанией, начал торговать крэком, отмотал срок, откинулся, но не исправился</div>\\n\\t</div>\\t \\n\\t \\n\\t \\n\\t<div class=\"quote\">\\n\\t<div class=\"actions\">\\n\\t\\t\\t\\t\\t\\t\\t\\t<a href=\"/quote/449650/rulez\" class=\"up\" rel=\"nofollow\" onclick=\"v(\\'449650\\',0,0); return false;\">+</a>\\t\\t<span class=\"rating-o\"><span id=\"v449650\" class=\"rating\">562</span></span>\\t\\t<a href=\"/quote/449650/sux\" class=\"down\" rel=\"nofollow\" onclick=\"v(\\'449650\\',1,0); return false;\">&ndash;</a>\\n\\t\\t<a href=\"/quote/449650/bayan\" class=\"old\" id=\"vb449650\" rel=\"nofollow\" onclick=\"v(\\'449650\\',2,0); return false;\">[:||||:]</a>\\t\\t<span class=\"share ya-share2\" id=\"s449650\" class=\"ya-share2\" data-services=\"vkontakte,facebook,twitter,telegram,odnoklassniki,moimir,gplus,lj\" data-limit=\"4\" data-size=\"s\" data-popup-position=\"outer\" data-title=\"Цитата #449650\" data-url=\"http://bash.im/quote/449650\"></span>\\n\\t\\t\\t\\t\\t\\t\\t\\t\\t\\t<span class=\"date\">2018-03-27 09:12</span> <a href=\"/quote/449650\" class=\"id\">#449650</a>\\t\\t\\t\\t\\t</div>\\n\\t<div class=\"text\">ххх: Я видел в западной фармакопее такую лекформу: леденцы с фентанилом, их детям дают если например руку сломали, они леденец сосут, получают обезболивающее и их можно перебинтовать.<br>ууу: можно делать солёные огурцы с гепатопротектором.</div>\\n\\t</div>\\t \\n\\t \\n\\t \\n\\t<div class=\"quote\">\\n\\t<div class=\"actions\">\\n\\t\\t\\t\\t\\t\\t\\t\\t<a href=\"/quote/449649/rulez\" class=\"up\" rel=\"nofollow\" onclick=\"v(\\'449649\\',0,0); return false;\">+</a>\\t\\t<span class=\"rating-o\"><span id=\"v449649\" class=\"rating\">555</span></span>\\t\\t<a href=\"/quote/449649/sux\" class=\"down\" rel=\"nofollow\" onclick=\"v(\\'449649\\',1,0); return false;\">&ndash;</a>\\n\\t\\t<a href=\"/quote/449649/bayan\" class=\"old\" id=\"vb449649\" rel=\"nofollow\" onclick=\"v(\\'449649\\',2,0); return false;\">[:||||:]</a>\\t\\t<span class=\"share ya-share2\" id=\"s449649\" class=\"ya-share2\" data-services=\"vkontakte,facebook,twitter,telegram,odnoklassniki,moimir,gplus,lj\" data-limit=\"4\" data-size=\"s\" data-popup-position=\"outer\" data-title=\"Цитата #449649\" data-url=\"http://bash.im/quote/449649\"></span>\\n\\t\\t\\t\\t\\t\\t\\t\\t\\t\\t<span class=\"date\">2018-03-27 09:11</span> <a href=\"/quote/449649\" class=\"id\">#449649</a>\\t\\t\\t\\t\\t</div>\\n\\t<div class=\"text\">Rrr: Вы предлагаете поставить в школе 5-координатный ЧПУ-станок за «дофигаденег», чтобы пятиклашки на него могли пару раз посмотреть? Ибо:<br>1) Кто всерьез будет учиться на нем работать, ведь всем надо «поступать только в ВУЗ»;<br>2) Кто будет их учить? Ведь зарплата оператора ЧПУ-станка (или технолога) школе не по-карману.<br><br>Sss: 3. И куда девать сколько потенциальных операторов 5-координатных станков?</div>\\n\\t</div>\\t \\n\\t \\n\\t \\n\\t<div class=\"quote\">\\n\\t<div class=\"actions\">\\n\\t\\t\\t\\t\\t\\t\\t\\t<a href=\"/quote/449648/rulez\" class=\"up\" rel=\"nofollow\" onclick=\"v(\\'449648\\',0,0); return false;\">+</a>\\t\\t<span class=\"rating-o\"><span id=\"v449648\" class=\"rating\">249</span></span>\\t\\t<a href=\"/quote/449648/sux\" class=\"down\" rel=\"nofollow\" onclick=\"v(\\'449648\\',1,0); return false;\">&ndash;</a>\\n\\t\\t<a href=\"/quote/449648/bayan\" class=\"old\" id=\"vb449648\" rel=\"nofollow\" onclick=\"v(\\'449648\\',2,0); return false;\">[:||||:]</a>\\t\\t<span class=\"share ya-share2\" id=\"s449648\" class=\"ya-share2\" data-services=\"vkontakte,facebook,twitter,telegram,odnoklassniki,moimir,gplus,lj\" data-limit=\"4\" data-size=\"s\" data-popup-position=\"outer\" data-title=\"Цитата #449648\" data-url=\"http://bash.im/quote/449648\"></span>\\n\\t\\t\\t\\t\\t\\t\\t\\t\\t\\t<span class=\"date\">2018-03-27 09:11</span> <a href=\"/quote/449648\" class=\"id\">#449648</a>\\t\\t\\t\\t\\t</div>\\n\\t<div class=\"text\">Из обсуждения большого взрыва<br><br>&gt; Но если не было ничего, то что взорвалось? Я даже не спрашиваю почему бабахнуло.<br><br>&gt; до сих пор бабахает, кстати. Просто пространство-время уже есть, и бабахи выходят микроскопические. А там где пространства-времени нет — бабахи могут привести к инфляции и опа — ещё вселенная получилась<br>и вообще, квантовая механика как бы говорит нам, что «ничего» — понятие бессмысленное</div>\\n\\t</div>\\t \\n\\t \\n\\t \\n\\t<div class=\"quote\">\\n\\t<div class=\"actions\">\\n\\t\\t\\t\\t\\t\\t\\t\\t<a href=\"/quote/449647/rulez\" class=\"up\" rel=\"nofollow\" onclick=\"v(\\'449647\\',0,0); return false;\">+</a>\\t\\t<span class=\"rating-o\"><span id=\"v449647\" class=\"rating\">750</span></span>\\t\\t<a href=\"/quote/449647/sux\" class=\"down\" rel=\"nofollow\" onclick=\"v(\\'449647\\',1,0); return false;\">&ndash;</a>\\n\\t\\t<a href=\"/quote/449647/bayan\" class=\"old\" id=\"vb449647\" rel=\"nofollow\" onclick=\"v(\\'449647\\',2,0); return false;\">[:||||:]</a>\\t\\t<span class=\"share ya-share2\" id=\"s449647\" class=\"ya-share2\" data-services=\"vkontakte,facebook,twitter,telegram,odnoklassniki,moimir,gplus,lj\" data-limit=\"4\" data-size=\"s\" data-popup-position=\"outer\" data-title=\"Цитата #449647\" data-url=\"http://bash.im/quote/449647\"></span>\\n\\t\\t\\t\\t\\t\\t\\t\\t\\t\\t<span class=\"date\">2018-03-27 08:46</span> <a href=\"/quote/449647\" class=\"id\">#449647</a>\\t\\t\\t\\t\\t</div>\\n\\t<div class=\"text\">Нужны отдельные ответвления &quot;Скорой&quot;: во-первых, &quot;Скорая&quot; моральной поддержки, чтобы к бабулечкам на скачок давления приехать, проявить человеческое внимание, послушать, как &quot;сорок лет на заводе проработала, муж к полюбовнице свалил, сын пьянь, а внуки только смерти ее дожидаются&quot;, максимум укольчик или прокапать, во-вторых, &quot;Скорая&quot; воспитательная, когда четырнадцатилетний кабанчик домой пьяный пришел, а его мама, шоб неповадно было, требует промывание желудка малышу сделать, в-третьих, &quot;Скорая&quot; на реальную нуждаемость в экстренной медицинской помощи, которую уже ни бабулечки, ни мамы пьяных кабанчиков отвлекать не будут.</div>\\n\\t</div>\\t \\n\\t \\n\\t \\n\\t<div class=\"quote\">\\n\\t<div class=\"actions\">\\n\\t\\t\\t\\t\\t\\t\\t\\t<a href=\"/quote/449646/rulez\" class=\"up\" rel=\"nofollow\" onclick=\"v(\\'449646\\',0,0); return false;\">+</a>\\t\\t<span class=\"rating-o\"><span id=\"v449646\" class=\"rating\">577</span></span>\\t\\t<a href=\"/quote/449646/sux\" class=\"down\" rel=\"nofollow\" onclick=\"v(\\'449646\\',1,0); return false;\">&ndash;</a>\\n\\t\\t<a href=\"/quote/449646/bayan\" class=\"old\" id=\"vb449646\" rel=\"nofollow\" onclick=\"v(\\'449646\\',2,0); return false;\">[:||||:]</a>\\t\\t<span class=\"share ya-share2\" id=\"s449646\" class=\"ya-share2\" data-services=\"vkontakte,facebook,twitter,telegram,odnoklassniki,moimir,gplus,lj\" data-limit=\"4\" data-size=\"s\" data-popup-position=\"outer\" data-title=\"Цитата #449646\" data-url=\"http://bash.im/quote/449646\"></span>\\n\\t\\t\\t\\t\\t\\t\\t\\t\\t\\t<span class=\"date\">2018-03-27 08:45</span> <a href=\"/quote/449646\" class=\"id\">#449646</a>\\t\\t\\t\\t\\t</div>\\n\\t<div class=\"text\">&lt;Потери Би&gt; Глядя на асфальт после оттепели, создаётся впечатление, что для наших дорог снегопад страшней бомбёжки.</div>\\n\\t</div>\\t \\n\\t \\n\\t \\n\\t<div class=\"quote\">\\n\\t<div class=\"actions\">\\n\\t\\t\\t\\t\\t\\t\\t\\t<a href=\"/quote/449645/rulez\" class=\"up\" rel=\"nofollow\" onclick=\"v(\\'449645\\',0,0); return false;\">+</a>\\t\\t<span class=\"rating-o\"><span id=\"v449645\" class=\"rating\">577</span></span>\\t\\t<a href=\"/quote/449645/sux\" class=\"down\" rel=\"nofollow\" onclick=\"v(\\'449645\\',1,0); return false;\">&ndash;</a>\\n\\t\\t<a href=\"/quote/449645/bayan\" class=\"old\" id=\"vb449645\" rel=\"nofollow\" onclick=\"v(\\'449645\\',2,0); return false;\">[:||||:]</a>\\t\\t<span class=\"share ya-share2\" id=\"s449645\" class=\"ya-share2\" data-services=\"vkontakte,facebook,twitter,telegram,odnoklassniki,moimir,gplus,lj\" data-limit=\"4\" data-size=\"s\" data-popup-position=\"outer\" data-title=\"Цитата #449645\" data-url=\"http://bash.im/quote/449645\"></span>\\n\\t\\t\\t\\t\\t\\t\\t\\t\\t\\t<span class=\"date\">2018-03-27 08:12</span> <a href=\"/quote/449645\" class=\"id\">#449645</a>\\t\\t\\t\\t\\t</div>\\n\\t<div class=\"text\">Боги маркетинга от Firefox: &quot;Эта веб-страница замедляет ваш браузер.&quot;<br>Раньше говорили, что браузер, с@ка, тормозит.<br></div>\\n\\t</div>\\t \\n\\t \\n\\t \\n\\t<div class=\"quote\">\\n\\t<div class=\"actions\">\\n\\t\\t\\t\\t\\t\\t\\t\\t<a href=\"/quote/449644/rulez\" class=\"up\" rel=\"nofollow\" onclick=\"v(\\'449644\\',0,0); return false;\">+</a>\\t\\t<span class=\"rating-o\"><span id=\"v449644\" class=\"rating\">945</span></span>\\t\\t<a href=\"/quote/449644/sux\" class=\"down\" rel=\"nofollow\" onclick=\"v(\\'449644\\',1,0); return false;\">&ndash;</a>\\n\\t\\t<a href=\"/quote/449644/bayan\" class=\"old\" id=\"vb449644\" rel=\"nofollow\" onclick=\"v(\\'449644\\',2,0); return false;\">[:||||:]</a>\\t\\t<span class=\"share ya-share2\" id=\"s449644\" class=\"ya-share2\" data-services=\"vkontakte,facebook,twitter,telegram,odnoklassniki,moimir,gplus,lj\" data-limit=\"4\" data-size=\"s\" data-popup-position=\"outer\" data-title=\"Цитата #449644\" data-url=\"http://bash.im/quote/449644\"></span>\\n\\t\\t\\t\\t\\t\\t\\t\\t\\t\\t<span class=\"date\">2018-03-27 08:11</span> <a href=\"/quote/449644\" class=\"id\">#449644</a>\\t\\t\\t\\t\\t</div>\\n\\t<div class=\"text\">Сижу вечером никого не трогаю, книжку читаю. Прилетает муж, начинает раздеваться: &quot;Все малая уснула, я готов&quot;. Я аж книжку выронила, предвкушаю продолжение, снял майку, наклонился, шепчет:<br>М: - Давай прямо сейчас... а то я забуду<br>я: - Эээм? Оо<br>М: - что??? я ж тебе полчаса назад сказал, у меня спина болит, нужно мазь втереть, давай сейчас, а то потом забуду ))) извращенка ненасытная)))</div>\\n\\t</div>\\t \\n\\t \\n\\t \\n\\t<div class=\"quote\">\\n\\t<div class=\"actions\">\\n\\t\\t\\t\\t\\t\\t\\t\\t<a href=\"/quote/449643/rulez\" class=\"up\" rel=\"nofollow\" onclick=\"v(\\'449643\\',0,0); return false;\">+</a>\\t\\t<span class=\"rating-o\"><span id=\"v449643\" class=\"rating\">382</span></span>\\t\\t<a href=\"/quote/449643/sux\" class=\"down\" rel=\"nofollow\" onclick=\"v(\\'449643\\',1,0); return false;\">&ndash;</a>\\n\\t\\t<a href=\"/quote/449643/bayan\" class=\"old\" id=\"vb449643\" rel=\"nofollow\" onclick=\"v(\\'449643\\',2,0); return false;\">[:||||:]</a>\\t\\t<span class=\"share ya-share2\" id=\"s449643\" class=\"ya-share2\" data-services=\"vkontakte,facebook,twitter,telegram,odnoklassniki,moimir,gplus,lj\" data-limit=\"4\" data-size=\"s\" data-popup-position=\"outer\" data-title=\"Цитата #449643\" data-url=\"http://bash.im/quote/449643\"></span>\\n\\t\\t\\t\\t\\t\\t\\t\\t\\t\\t<span class=\"date\">2018-03-27 08:11</span> <a href=\"/quote/449643\" class=\"id\">#449643</a>\\t\\t\\t\\t\\t</div>\\n\\t<div class=\"text\">Утром в скайпе нам сказали, что приедет гендир. Все прибрались, начальство не приехало.<br><br>Корпоративный чат, сидим в опенспейсе.<br><br>секретарь: Коллеги, завтра в первой половине дня ожидается приезд гендира. Просьба навести порядок на своих рабочих местах, а также соблюдать чистоту и порядок на кухне. Спасибо!<br>x: это уловка, чтоб мы убирались<br>начальник вслух: расскажешь это на бирже труда</div>\\n\\t</div>\\t \\n\\t<!-- Yandex.RTB R-A-125894-10 -->\\n<div id=\"yandex_rtb_R-A-125894-10\"></div>\\n\\n<script type=\"text/javascript\">\\n    (function(w, d, n, s, t) {\\n        w[n] = w[n] || [];\\n        w[n].push(function() {\\n            Ya.Context.AdvManager.render({\\n                blockId: \"R-A-125894-10\",\\n                renderTo: \"yandex_rtb_R-A-125894-10\",\\n                async: true\\n            });\\n        });\\n        t = d.getElementsByTagName(\"script\")[0];\\n        s = d.createElement(\"script\");\\n        s.type = \"text/javascript\";\\n        s.src = \"//an.yandex.ru/system/context.js\";\\n        s.async = true;\\n        t.parentNode.insertBefore(s, t);\\n    })(this, this.document, \"yandexContextAsyncCallbacks\");\\n</script>\\n\\n \\n\\t \\n\\t<div class=\"quote\">\\n\\t<div class=\"actions\">\\n\\t\\t\\t\\t\\t\\t\\t\\t<a href=\"/quote/449642/rulez\" class=\"up\" rel=\"nofollow\" onclick=\"v(\\'449642\\',0,0); return false;\">+</a>\\t\\t<span class=\"rating-o\"><span id=\"v449642\" class=\"rating\">1430</span></span>\\t\\t<a href=\"/quote/449642/sux\" class=\"down\" rel=\"nofollow\" onclick=\"v(\\'449642\\',1,0); return false;\">&ndash;</a>\\n\\t\\t<a href=\"/quote/449642/bayan\" class=\"old\" id=\"vb449642\" rel=\"nofollow\" onclick=\"v(\\'449642\\',2,0); return false;\">[:||||:]</a>\\t\\t<span class=\"share ya-share2\" id=\"s449642\" class=\"ya-share2\" data-services=\"vkontakte,facebook,twitter,telegram,odnoklassniki,moimir,gplus,lj\" data-limit=\"4\" data-size=\"s\" data-popup-position=\"outer\" data-title=\"Цитата #449642\" data-url=\"http://bash.im/quote/449642\"></span>\\n\\t\\t\\t\\t\\t\\t\\t\\t\\t\\t<span class=\"date\">2018-03-26 12:45</span> <a href=\"/quote/449642\" class=\"id\">#449642</a>\\t\\t\\t\\t\\t</div>\\n\\t<div class=\"text\">111: Не помню, как называется, гибрид крыжовника и смородины. Очень вкусно.<br>222: Крыжодина?<br>333: Сморжовник.</div>\\n\\t</div>\\t \\n\\t \\n\\t \\n\\t<div class=\"quote\">\\n\\t<div class=\"actions\">\\n\\t\\t\\t\\t\\t\\t\\t\\t<a href=\"/quote/449641/rulez\" class=\"up\" rel=\"nofollow\" onclick=\"v(\\'449641\\',0,0); return false;\">+</a>\\t\\t<span class=\"rating-o\"><span id=\"v449641\" class=\"rating\">6025</span></span>\\t\\t<a href=\"/quote/449641/sux\" class=\"down\" rel=\"nofollow\" onclick=\"v(\\'449641\\',1,0); return false;\">&ndash;</a>\\n\\t\\t<a href=\"/quote/449641/bayan\" class=\"old\" id=\"vb449641\" rel=\"nofollow\" onclick=\"v(\\'449641\\',2,0); return false;\">[:||||:]</a>\\t\\t<span class=\"share ya-share2\" id=\"s449641\" class=\"ya-share2\" data-services=\"vkontakte,facebook,twitter,telegram,odnoklassniki,moimir,gplus,lj\" data-limit=\"4\" data-size=\"s\" data-popup-position=\"outer\" data-title=\"Цитата #449641\" data-url=\"http://bash.im/quote/449641\"></span>\\n\\t\\t\\t\\t\\t\\t\\t\\t\\t\\t<span class=\"date\">2018-03-26 12:45</span> <a href=\"/quote/449641\" class=\"id\">#449641</a>\\t\\t\\t\\t\\t</div>\\n\\t<div class=\"text\">В первом часу ночи я пошла в душ, оставив рабочий компьютер включенным.<br>Кошка открыла скайп и отправила моему боссу сообщение: &quot;цука&quot;. Этого ей показалось мало и она ему позвонила. Босс решил, что если я звоню в такое время, значит дело действительно &quot;цука&quot; и принял звонок. Дальше, по его словам, первое, что он увидел - была пушистая кошачья жопа, которя была видна очень чётко и во всех подробностях. Это я тоже смогла оценить, так как мне потом прислали скриншот на память. Затем кошка ткнула носом в камеру, написала: &quot;фыф&quot; и сбросила звонок.</div>\\n\\t</div>\\t \\n\\t \\n\\t \\n\\t<div class=\"quote\">\\n\\t<div class=\"actions\">\\n\\t\\t\\t\\t\\t\\t\\t\\t<a href=\"/quote/449640/rulez\" class=\"up\" rel=\"nofollow\" onclick=\"v(\\'449640\\',0,0); return false;\">+</a>\\t\\t<span class=\"rating-o\"><span id=\"v449640\" class=\"rating\">994</span></span>\\t\\t<a href=\"/quote/449640/sux\" class=\"down\" rel=\"nofollow\" onclick=\"v(\\'449640\\',1,0); return false;\">&ndash;</a>\\n\\t\\t<a href=\"/quote/449640/bayan\" class=\"old\" id=\"vb449640\" rel=\"nofollow\" onclick=\"v(\\'449640\\',2,0); return false;\">[:||||:]</a>\\t\\t<span class=\"share ya-share2\" id=\"s449640\" class=\"ya-share2\" data-services=\"vkontakte,facebook,twitter,telegram,odnoklassniki,moimir,gplus,lj\" data-limit=\"4\" data-size=\"s\" data-popup-position=\"outer\" data-title=\"Цитата #449640\" data-url=\"http://bash.im/quote/449640\"></span>\\n\\t\\t\\t\\t\\t\\t\\t\\t\\t\\t<span class=\"date\">2018-03-26 12:13</span> <a href=\"/quote/449640\" class=\"id\">#449640</a>\\t\\t\\t\\t\\t</div>\\n\\t<div class=\"text\">xxx: Два раза заварить чай для себя, ещё раз для чайного гриба и после этого кинуть чаинки в банку с вешенкой.<br>xxx: Вот это жадность, а вы так, немного прижимистые.</div>\\n\\t</div>\\t \\n\\t \\n\\t \\n\\t<div class=\"quote\">\\n\\t<div class=\"actions\">\\n\\t\\t\\t\\t\\t\\t\\t\\t<a href=\"/quote/449639/rulez\" class=\"up\" rel=\"nofollow\" onclick=\"v(\\'449639\\',0,0); return false;\">+</a>\\t\\t<span class=\"rating-o\"><span id=\"v449639\" class=\"rating\">1994</span></span>\\t\\t<a href=\"/quote/449639/sux\" class=\"down\" rel=\"nofollow\" onclick=\"v(\\'449639\\',1,0); return false;\">&ndash;</a>\\n\\t\\t<a href=\"/quote/449639/bayan\" class=\"old\" id=\"vb449639\" rel=\"nofollow\" onclick=\"v(\\'449639\\',2,0); return false;\">[:||||:]</a>\\t\\t<span class=\"share ya-share2\" id=\"s449639\" class=\"ya-share2\" data-services=\"vkontakte,facebook,twitter,telegram,odnoklassniki,moimir,gplus,lj\" data-limit=\"4\" data-size=\"s\" data-popup-position=\"outer\" data-title=\"Цитата #449639\" data-url=\"http://bash.im/quote/449639\"></span>\\n\\t\\t\\t\\t\\t\\t\\t\\t\\t\\t<span class=\"date\">2018-03-26 11:45</span> <a href=\"/quote/449639\" class=\"id\">#449639</a>\\t\\t\\t\\t\\t</div>\\n\\t<div class=\"text\">Деть 10 лет, подходит бочком, на часах 21.30:<br>- Мам, мне такое задание сложное задали...<br>Я (бодро): Математику? Тащи, сейчас решим.<br>- Не, мам, ооооочень сложное.<br>- Английский, что ли? Сейчас разберемся.<br>- Не, это не связано с уроками.<br>- ??!<br>- Мне надо сделать фруктовый салат и сфотографировать!<br>Я (открываю рот с воодушевлением)<br>- Нет, мам, с интернета скачать фото не получится, учительница сказала, чтоб мы тарелки с салатом в руках держали.<br><br>Поперлась в круглосуточный за фруктами.</div>\\n\\t</div>\\t \\n\\t \\n\\t \\n\\t<div class=\"quote\">\\n\\t<div class=\"actions\">\\n\\t\\t\\t\\t\\t\\t\\t\\t<a href=\"/quote/449638/rulez\" class=\"up\" rel=\"nofollow\" onclick=\"v(\\'449638\\',0,0); return false;\">+</a>\\t\\t<span class=\"rating-o\"><span id=\"v449638\" class=\"rating\">1102</span></span>\\t\\t<a href=\"/quote/449638/sux\" class=\"down\" rel=\"nofollow\" onclick=\"v(\\'449638\\',1,0); return false;\">&ndash;</a>\\n\\t\\t<a href=\"/quote/449638/bayan\" class=\"old\" id=\"vb449638\" rel=\"nofollow\" onclick=\"v(\\'449638\\',2,0); return false;\">[:||||:]</a>\\t\\t<span class=\"share ya-share2\" id=\"s449638\" class=\"ya-share2\" data-services=\"vkontakte,facebook,twitter,telegram,odnoklassniki,moimir,gplus,lj\" data-limit=\"4\" data-size=\"s\" data-popup-position=\"outer\" data-title=\"Цитата #449638\" data-url=\"http://bash.im/quote/449638\"></span>\\n\\t\\t\\t\\t\\t\\t\\t\\t\\t\\t<span class=\"date\">2018-03-26 11:45</span> <a href=\"/quote/449638\" class=\"id\">#449638</a>\\t\\t\\t\\t\\t</div>\\n\\t<div class=\"text\">Спросил у техлида что это у него в коде за обратная стрелочная функция ( &lt;= ).<br>Он с серьёзным видом заявил, что это великое знание, открываемое только самым упорным из падаванов.<br>Потом поржал и порекомендовал побольше отдыхать.<br>&quot;Меньше или равно&quot; это.</div>\\n\\t</div>\\t \\n\\t \\n\\t \\n\\t<div class=\"quote\">\\n\\t<div class=\"actions\">\\n\\t\\t\\t\\t\\t\\t\\t\\t<a href=\"/quote/449637/rulez\" class=\"up\" rel=\"nofollow\" onclick=\"v(\\'449637\\',0,0); return false;\">+</a>\\t\\t<span class=\"rating-o\"><span id=\"v449637\" class=\"rating\">733</span></span>\\t\\t<a href=\"/quote/449637/sux\" class=\"down\" rel=\"nofollow\" onclick=\"v(\\'449637\\',1,0); return false;\">&ndash;</a>\\n\\t\\t<a href=\"/quote/449637/bayan\" class=\"old\" id=\"vb449637\" rel=\"nofollow\" onclick=\"v(\\'449637\\',2,0); return false;\">[:||||:]</a>\\t\\t<span class=\"share ya-share2\" id=\"s449637\" class=\"ya-share2\" data-services=\"vkontakte,facebook,twitter,telegram,odnoklassniki,moimir,gplus,lj\" data-limit=\"4\" data-size=\"s\" data-popup-position=\"outer\" data-title=\"Цитата #449637\" data-url=\"http://bash.im/quote/449637\"></span>\\n\\t\\t\\t\\t\\t\\t\\t\\t\\t\\t<span class=\"date\">2018-03-26 11:13</span> <a href=\"/quote/449637\" class=\"id\">#449637</a>\\t\\t\\t\\t\\t</div>\\n\\t<div class=\"text\">XXX: Только что понял, как летит время. Еще 4 года назад мои коллеги (чуть старше меня) обсуждали куда пойдут пиво пить на выходные. А теперь обмениваются наклейками в магнит)</div>\\n\\t</div>\\t \\n\\t \\n\\t \\n\\t<div class=\"quote\">\\n\\t<div class=\"actions\">\\n\\t\\t\\t\\t\\t\\t\\t\\t<a href=\"/quote/449636/rulez\" class=\"up\" rel=\"nofollow\" onclick=\"v(\\'449636\\',0,0); return false;\">+</a>\\t\\t<span class=\"rating-o\"><span id=\"v449636\" class=\"rating\">1242</span></span>\\t\\t<a href=\"/quote/449636/sux\" class=\"down\" rel=\"nofollow\" onclick=\"v(\\'449636\\',1,0); return false;\">&ndash;</a>\\n\\t\\t<a href=\"/quote/449636/bayan\" class=\"old\" id=\"vb449636\" rel=\"nofollow\" onclick=\"v(\\'449636\\',2,0); return false;\">[:||||:]</a>\\t\\t<span class=\"share ya-share2\" id=\"s449636\" class=\"ya-share2\" data-services=\"vkontakte,facebook,twitter,telegram,odnoklassniki,moimir,gplus,lj\" data-limit=\"4\" data-size=\"s\" data-popup-position=\"outer\" data-title=\"Цитата #449636\" data-url=\"http://bash.im/quote/449636\"></span>\\n\\t\\t\\t\\t\\t\\t\\t\\t\\t\\t<span class=\"date\">2018-03-26 11:12</span> <a href=\"/quote/449636\" class=\"id\">#449636</a>\\t\\t\\t\\t\\t</div>\\n\\t<div class=\"text\">xxx: можешь поменять лампочку?<br>yyy: вообще да. прямо сейчас?<br>xxx: да необязательно, оно не горит. собственно, в этом и проблема...</div>\\n\\t</div>\\t \\n\\t \\n\\t \\n\\t<div class=\"quote\">\\n\\t<div class=\"actions\">\\n\\t\\t\\t\\t\\t\\t\\t\\t<a href=\"/quote/449635/rulez\" class=\"up\" rel=\"nofollow\" onclick=\"v(\\'449635\\',0,0); return false;\">+</a>\\t\\t<span class=\"rating-o\"><span id=\"v449635\" class=\"rating\">813</span></span>\\t\\t<a href=\"/quote/449635/sux\" class=\"down\" rel=\"nofollow\" onclick=\"v(\\'449635\\',1,0); return false;\">&ndash;</a>\\n\\t\\t<a href=\"/quote/449635/bayan\" class=\"old\" id=\"vb449635\" rel=\"nofollow\" onclick=\"v(\\'449635\\',2,0); return false;\">[:||||:]</a>\\t\\t<span class=\"share ya-share2\" id=\"s449635\" class=\"ya-share2\" data-services=\"vkontakte,facebook,twitter,telegram,odnoklassniki,moimir,gplus,lj\" data-limit=\"4\" data-size=\"s\" data-popup-position=\"outer\" data-title=\"Цитата #449635\" data-url=\"http://bash.im/quote/449635\"></span>\\n\\t\\t\\t\\t\\t\\t\\t\\t\\t\\t<span class=\"date\">2018-03-26 10:46</span> <a href=\"/quote/449635\" class=\"id\">#449635</a>\\t\\t\\t\\t\\t</div>\\n\\t<div class=\"text\">Апофеоз рекламы: захотел на ютубе посмотреть трейлер к фильму Мстители:Война Бесконечности - пришлось сначала посмотреть рекламу - трейлер к фильму Тихоокеанский рубеж</div>\\n\\t</div>\\t \\n\\t \\n\\t \\n\\t<div class=\"quote\">\\n\\t<div class=\"actions\">\\n\\t\\t\\t\\t\\t\\t\\t\\t<a href=\"/quote/449634/rulez\" class=\"up\" rel=\"nofollow\" onclick=\"v(\\'449634\\',0,0); return false;\">+</a>\\t\\t<span class=\"rating-o\"><span id=\"v449634\" class=\"rating\">618</span></span>\\t\\t<a href=\"/quote/449634/sux\" class=\"down\" rel=\"nofollow\" onclick=\"v(\\'449634\\',1,0); return false;\">&ndash;</a>\\n\\t\\t<a href=\"/quote/449634/bayan\" class=\"old\" id=\"vb449634\" rel=\"nofollow\" onclick=\"v(\\'449634\\',2,0); return false;\">[:||||:]</a>\\t\\t<span class=\"share ya-share2\" id=\"s449634\" class=\"ya-share2\" data-services=\"vkontakte,facebook,twitter,telegram,odnoklassniki,moimir,gplus,lj\" data-limit=\"4\" data-size=\"s\" data-popup-position=\"outer\" data-title=\"Цитата #449634\" data-url=\"http://bash.im/quote/449634\"></span>\\n\\t\\t\\t\\t\\t\\t\\t\\t\\t\\t<span class=\"date\">2018-03-26 10:13</span> <a href=\"/quote/449634\" class=\"id\">#449634</a>\\t\\t\\t\\t\\t</div>\\n\\t<div class=\"text\">&gt;&gt; P. S. я аттеист<br><br>Аттеист - атеист, прошедший аттестацию?</div>\\n\\t</div>\\t \\n\\t \\n\\t \\n\\t<div class=\"quote\">\\n\\t<div class=\"actions\">\\n\\t\\t\\t\\t\\t\\t\\t\\t<a href=\"/quote/449633/rulez\" class=\"up\" rel=\"nofollow\" onclick=\"v(\\'449633\\',0,0); return false;\">+</a>\\t\\t<span class=\"rating-o\"><span id=\"v449633\" class=\"rating\">938</span></span>\\t\\t<a href=\"/quote/449633/sux\" class=\"down\" rel=\"nofollow\" onclick=\"v(\\'449633\\',1,0); return false;\">&ndash;</a>\\n\\t\\t<a href=\"/quote/449633/bayan\" class=\"old\" id=\"vb449633\" rel=\"nofollow\" onclick=\"v(\\'449633\\',2,0); return false;\">[:||||:]</a>\\t\\t<span class=\"share ya-share2\" id=\"s449633\" class=\"ya-share2\" data-services=\"vkontakte,facebook,twitter,telegram,odnoklassniki,moimir,gplus,lj\" data-limit=\"4\" data-size=\"s\" data-popup-position=\"outer\" data-title=\"Цитата #449633\" data-url=\"http://bash.im/quote/449633\"></span>\\n\\t\\t\\t\\t\\t\\t\\t\\t\\t\\t<span class=\"date\">2018-03-26 10:12</span> <a href=\"/quote/449633\" class=\"id\">#449633</a>\\t\\t\\t\\t\\t</div>\\n\\t<div class=\"text\">На вооружение флота США поступила ядерная подлодка с геймпадом от Xbox 360<br><br>xxx: Нажал &quot;В&quot; и вышел из подлодки.<br><br>yyy: Press X to win</div>\\n\\t</div>\\t \\n\\t \\n\\t \\n\\t<div class=\"quote\">\\n\\t<div class=\"actions\">\\n\\t\\t\\t\\t\\t\\t\\t\\t<a href=\"/quote/449632/rulez\" class=\"up\" rel=\"nofollow\" onclick=\"v(\\'449632\\',0,0); return false;\">+</a>\\t\\t<span class=\"rating-o\"><span id=\"v449632\" class=\"rating\">300</span></span>\\t\\t<a href=\"/quote/449632/sux\" class=\"down\" rel=\"nofollow\" onclick=\"v(\\'449632\\',1,0); return false;\">&ndash;</a>\\n\\t\\t<a href=\"/quote/449632/bayan\" class=\"old\" id=\"vb449632\" rel=\"nofollow\" onclick=\"v(\\'449632\\',2,0); return false;\">[:||||:]</a>\\t\\t<span class=\"share ya-share2\" id=\"s449632\" class=\"ya-share2\" data-services=\"vkontakte,facebook,twitter,telegram,odnoklassniki,moimir,gplus,lj\" data-limit=\"4\" data-size=\"s\" data-popup-position=\"outer\" data-title=\"Цитата #449632\" data-url=\"http://bash.im/quote/449632\"></span>\\n\\t\\t\\t\\t\\t\\t\\t\\t\\t\\t<span class=\"date\">2018-03-26 10:11</span> <a href=\"/quote/449632\" class=\"id\">#449632</a>\\t\\t\\t\\t\\t</div>\\n\\t<div class=\"text\">xxx: почему бутерброды падают маслом вниз?<br>yyy: потому что у тебя руки из жопы</div>\\n\\t</div>\\t \\n\\t \\n\\t \\n\\t<div class=\"quote\">\\n\\t<div class=\"actions\">\\n\\t\\t\\t\\t\\t\\t\\t\\t<a href=\"/quote/449631/rulez\" class=\"up\" rel=\"nofollow\" onclick=\"v(\\'449631\\',0,0); return false;\">+</a>\\t\\t<span class=\"rating-o\"><span id=\"v449631\" class=\"rating\"> ... </span></span>\\t\\t<a href=\"/quote/449631/sux\" class=\"down\" rel=\"nofollow\" onclick=\"v(\\'449631\\',1,0); return false;\">&ndash;</a>\\n\\t\\t<a href=\"/quote/449631/bayan\" class=\"old\" id=\"vb449631\" rel=\"nofollow\" onclick=\"v(\\'449631\\',2,0); return false;\">[:||||:]</a>\\t\\t<span class=\"share ya-share2\" id=\"s449631\" class=\"ya-share2\" data-services=\"vkontakte,facebook,twitter,telegram,odnoklassniki,moimir,gplus,lj\" data-limit=\"4\" data-size=\"s\" data-popup-position=\"outer\" data-title=\"Цитата #449631\" data-url=\"http://bash.im/quote/449631\"></span>\\n\\t\\t\\t\\t\\t\\t\\t\\t\\t\\t<span class=\"date\">2018-03-26 09:46</span> <a href=\"/quote/449631\" class=\"id\">#449631</a>\\t\\t\\t\\t\\t</div>\\n\\t<div class=\"text\">xxx: вся наша жизнь какой-то гон<br>yyy: спазмалгон, финалгон, клингон...</div>\\n\\t</div>\\t \\n\\t \\n\\t \\n\\t<div class=\"quote\">\\n\\t<div class=\"actions\">\\n\\t\\t\\t\\t\\t\\t\\t\\t<a href=\"/quote/449630/rulez\" class=\"up\" rel=\"nofollow\" onclick=\"v(\\'449630\\',0,0); return false;\">+</a>\\t\\t<span class=\"rating-o\"><span id=\"v449630\" class=\"rating\"> ... </span></span>\\t\\t<a href=\"/quote/449630/sux\" class=\"down\" rel=\"nofollow\" onclick=\"v(\\'449630\\',1,0); return false;\">&ndash;</a>\\n\\t\\t<a href=\"/quote/449630/bayan\" class=\"old\" id=\"vb449630\" rel=\"nofollow\" onclick=\"v(\\'449630\\',2,0); return false;\">[:||||:]</a>\\t\\t<span class=\"share ya-share2\" id=\"s449630\" class=\"ya-share2\" data-services=\"vkontakte,facebook,twitter,telegram,odnoklassniki,moimir,gplus,lj\" data-limit=\"4\" data-size=\"s\" data-popup-position=\"outer\" data-title=\"Цитата #449630\" data-url=\"http://bash.im/quote/449630\"></span>\\n\\t\\t\\t\\t\\t\\t\\t\\t\\t\\t<span class=\"date\">2018-03-26 09:45</span> <a href=\"/quote/449630\" class=\"id\">#449630</a>\\t\\t\\t\\t\\t</div>\\n\\t<div class=\"text\">- И целью существования человека я вижу поддержание и совершенствование смысла и порядка в себе и вокруг себя.<br>- Метать бисер перед свиньями, например?</div>\\n\\t</div>\\t \\n\\t \\n\\t \\n\\t<div class=\"quote\">\\n\\t<div class=\"actions\">\\n\\t\\t\\t\\t\\t\\t\\t\\t<a href=\"/quote/449629/rulez\" class=\"up\" rel=\"nofollow\" onclick=\"v(\\'449629\\',0,0); return false;\">+</a>\\t\\t<span class=\"rating-o\"><span id=\"v449629\" class=\"rating\">702</span></span>\\t\\t<a href=\"/quote/449629/sux\" class=\"down\" rel=\"nofollow\" onclick=\"v(\\'449629\\',1,0); return false;\">&ndash;</a>\\n\\t\\t<a href=\"/quote/449629/bayan\" class=\"old\" id=\"vb449629\" rel=\"nofollow\" onclick=\"v(\\'449629\\',2,0); return false;\">[:||||:]</a>\\t\\t<span class=\"share ya-share2\" id=\"s449629\" class=\"ya-share2\" data-services=\"vkontakte,facebook,twitter,telegram,odnoklassniki,moimir,gplus,lj\" data-limit=\"4\" data-size=\"s\" data-popup-position=\"outer\" data-title=\"Цитата #449629\" data-url=\"http://bash.im/quote/449629\"></span>\\n\\t\\t\\t\\t\\t\\t\\t\\t\\t\\t<span class=\"date\">2018-03-26 09:13</span> <a href=\"/quote/449629\" class=\"id\">#449629</a>\\t\\t\\t\\t\\t</div>\\n\\t<div class=\"text\">crokc: Если ты не будешь за собой следить то через пять лет тебе придется платить за секс<br>минимум батарейками!)</div>\\n\\t</div>\\t \\n\\t \\n\\t \\n\\t<div class=\"quote\">\\n\\t<div class=\"actions\">\\n\\t\\t\\t\\t\\t\\t\\t\\t<a href=\"/quote/449628/rulez\" class=\"up\" rel=\"nofollow\" onclick=\"v(\\'449628\\',0,0); return false;\">+</a>\\t\\t<span class=\"rating-o\"><span id=\"v449628\" class=\"rating\">492</span></span>\\t\\t<a href=\"/quote/449628/sux\" class=\"down\" rel=\"nofollow\" onclick=\"v(\\'449628\\',1,0); return false;\">&ndash;</a>\\n\\t\\t<a href=\"/quote/449628/bayan\" class=\"old\" id=\"vb449628\" rel=\"nofollow\" onclick=\"v(\\'449628\\',2,0); return false;\">[:||||:]</a>\\t\\t<span class=\"share ya-share2\" id=\"s449628\" class=\"ya-share2\" data-services=\"vkontakte,facebook,twitter,telegram,odnoklassniki,moimir,gplus,lj\" data-limit=\"4\" data-size=\"s\" data-popup-position=\"outer\" data-title=\"Цитата #449628\" data-url=\"http://bash.im/quote/449628\"></span>\\n\\t\\t\\t\\t\\t\\t\\t\\t\\t\\t<span class=\"date\">2018-03-26 09:12</span> <a href=\"/quote/449628\" class=\"id\">#449628</a>\\t\\t\\t\\t\\t</div>\\n\\t<div class=\"text\">xxx: а может бог как сервер. допустим есть, но на земле так много людей, что он просто ложится под обилием запросов.</div>\\n\\t</div>\\t \\n\\t \\n\\t \\n\\t<div class=\"quote\">\\n\\t<div class=\"actions\">\\n\\t\\t\\t\\t\\t\\t\\t\\t<a href=\"/quote/449627/rulez\" class=\"up\" rel=\"nofollow\" onclick=\"v(\\'449627\\',0,0); return false;\">+</a>\\t\\t<span class=\"rating-o\"><span id=\"v449627\" class=\"rating\">881</span></span>\\t\\t<a href=\"/quote/449627/sux\" class=\"down\" rel=\"nofollow\" onclick=\"v(\\'449627\\',1,0); return false;\">&ndash;</a>\\n\\t\\t<a href=\"/quote/449627/bayan\" class=\"old\" id=\"vb449627\" rel=\"nofollow\" onclick=\"v(\\'449627\\',2,0); return false;\">[:||||:]</a>\\t\\t<span class=\"share ya-share2\" id=\"s449627\" class=\"ya-share2\" data-services=\"vkontakte,facebook,twitter,telegram,odnoklassniki,moimir,gplus,lj\" data-limit=\"4\" data-size=\"s\" data-popup-position=\"outer\" data-title=\"Цитата #449627\" data-url=\"http://bash.im/quote/449627\"></span>\\n\\t\\t\\t\\t\\t\\t\\t\\t\\t\\t<span class=\"date\">2018-03-26 08:46</span> <a href=\"/quote/449627\" class=\"id\">#449627</a>\\t\\t\\t\\t\\t</div>\\n\\t<div class=\"text\">Руководитель: Коротко, одним словом напишите, чем Вы занимались в первом квартале<br>Я: Ничем</div>\\n\\t</div>\\t \\n\\t \\n\\t \\n\\t<div class=\"quote\">\\n\\t<div class=\"actions\">\\n\\t\\t\\t\\t\\t\\t\\t\\t<a href=\"/quote/449626/rulez\" class=\"up\" rel=\"nofollow\" onclick=\"v(\\'449626\\',0,0); return false;\">+</a>\\t\\t<span class=\"rating-o\"><span id=\"v449626\" class=\"rating\">575</span></span>\\t\\t<a href=\"/quote/449626/sux\" class=\"down\" rel=\"nofollow\" onclick=\"v(\\'449626\\',1,0); return false;\">&ndash;</a>\\n\\t\\t<a href=\"/quote/449626/bayan\" class=\"old\" id=\"vb449626\" rel=\"nofollow\" onclick=\"v(\\'449626\\',2,0); return false;\">[:||||:]</a>\\t\\t<span class=\"share ya-share2\" id=\"s449626\" class=\"ya-share2\" data-services=\"vkontakte,facebook,twitter,telegram,odnoklassniki,moimir,gplus,lj\" data-limit=\"4\" data-size=\"s\" data-popup-position=\"outer\" data-title=\"Цитата #449626\" data-url=\"http://bash.im/quote/449626\"></span>\\n\\t\\t\\t\\t\\t\\t\\t\\t\\t\\t<span class=\"date\">2018-03-26 08:45</span> <a href=\"/quote/449626\" class=\"id\">#449626</a>\\t\\t\\t\\t\\t</div>\\n\\t<div class=\"text\">ххх: В моем озорном детстве был одноногий мальчик - переиграл на железке.<br>ууу: В моём босоногом детстве четверых раздавило обрушившимся грунтом: копали «штаб» в речном обрыве. Один убился всего со второго этажа стройки. Одного убило о стену порывом ветра, рванувшим «тарзанку» (это было тоже на стройке). Одному пробило череп железными качелями (выжил). Один упал на битое стекло (37 швов, повезло, что на спине). Кто больше?</div>\\n\\t</div>\\t \\n\\t \\n\\t \\n\\t<div class=\"quote\">\\n\\t<div class=\"actions\">\\n\\t\\t\\t\\t\\t\\t\\t\\t<a href=\"/quote/449625/rulez\" class=\"up\" rel=\"nofollow\" onclick=\"v(\\'449625\\',0,0); return false;\">+</a>\\t\\t<span class=\"rating-o\"><span id=\"v449625\" class=\"rating\">1633</span></span>\\t\\t<a href=\"/quote/449625/sux\" class=\"down\" rel=\"nofollow\" onclick=\"v(\\'449625\\',1,0); return false;\">&ndash;</a>\\n\\t\\t<a href=\"/quote/449625/bayan\" class=\"old\" id=\"vb449625\" rel=\"nofollow\" onclick=\"v(\\'449625\\',2,0); return false;\">[:||||:]</a>\\t\\t<span class=\"share ya-share2\" id=\"s449625\" class=\"ya-share2\" data-services=\"vkontakte,facebook,twitter,telegram,odnoklassniki,moimir,gplus,lj\" data-limit=\"4\" data-size=\"s\" data-popup-position=\"outer\" data-title=\"Цитата #449625\" data-url=\"http://bash.im/quote/449625\"></span>\\n\\t\\t\\t\\t\\t\\t\\t\\t\\t\\t<span class=\"date\">2018-03-26 08:12</span> <a href=\"/quote/449625\" class=\"id\">#449625</a>\\t\\t\\t\\t\\t</div>\\n\\t<div class=\"text\">Дико понравилась фраза из ЖЖ про дебаты: &quot;Ну как бросился... Предварительно, конечно, прокричал «держите меня семеро» и, убедившись, что держат, ринулся в бой.&quot;</div>\\n\\t</div>\\t \\n\\t \\n\\t \\n\\t<div class=\"quote\">\\n\\t<div class=\"actions\">\\n\\t\\t\\t\\t\\t\\t\\t\\t<a href=\"/quote/449624/rulez\" class=\"up\" rel=\"nofollow\" onclick=\"v(\\'449624\\',0,0); return false;\">+</a>\\t\\t<span class=\"rating-o\"><span id=\"v449624\" class=\"rating\">490</span></span>\\t\\t<a href=\"/quote/449624/sux\" class=\"down\" rel=\"nofollow\" onclick=\"v(\\'449624\\',1,0); return false;\">&ndash;</a>\\n\\t\\t<a href=\"/quote/449624/bayan\" class=\"old\" id=\"vb449624\" rel=\"nofollow\" onclick=\"v(\\'449624\\',2,0); return false;\">[:||||:]</a>\\t\\t<span class=\"share ya-share2\" id=\"s449624\" class=\"ya-share2\" data-services=\"vkontakte,facebook,twitter,telegram,odnoklassniki,moimir,gplus,lj\" data-limit=\"4\" data-size=\"s\" data-popup-position=\"outer\" data-title=\"Цитата #449624\" data-url=\"http://bash.im/quote/449624\"></span>\\n\\t\\t\\t\\t\\t\\t\\t\\t\\t\\t<span class=\"date\">2018-03-26 08:12</span> <a href=\"/quote/449624\" class=\"id\">#449624</a>\\t\\t\\t\\t\\t</div>\\n\\t<div class=\"text\">Вайбер — это как Одноклассники, только мессенджер</div>\\n\\t</div>\\t \\n\\t \\n\\t \\n\\t<div class=\"quote\">\\n\\t<div class=\"actions\">\\n\\t\\t\\t\\t\\t\\t\\t\\t<a href=\"/quote/449623/rulez\" class=\"up\" rel=\"nofollow\" onclick=\"v(\\'449623\\',0,0); return false;\">+</a>\\t\\t<span class=\"rating-o\"><span id=\"v449623\" class=\"rating\">371</span></span>\\t\\t<a href=\"/quote/449623/sux\" class=\"down\" rel=\"nofollow\" onclick=\"v(\\'449623\\',1,0); return false;\">&ndash;</a>\\n\\t\\t<a href=\"/quote/449623/bayan\" class=\"old\" id=\"vb449623\" rel=\"nofollow\" onclick=\"v(\\'449623\\',2,0); return false;\">[:||||:]</a>\\t\\t<span class=\"share ya-share2\" id=\"s449623\" class=\"ya-share2\" data-services=\"vkontakte,facebook,twitter,telegram,odnoklassniki,moimir,gplus,lj\" data-limit=\"4\" data-size=\"s\" data-popup-position=\"outer\" data-title=\"Цитата #449623\" data-url=\"http://bash.im/quote/449623\"></span>\\n\\t\\t\\t\\t\\t\\t\\t\\t\\t\\t<span class=\"date\">2018-03-26 08:11</span> <a href=\"/quote/449623\" class=\"id\">#449623</a>\\t\\t\\t\\t\\t</div>\\n\\t<div class=\"text\">х: Получил нынче руководство по заведению торговых точек в SAP...<br>у: И как оно?<br>х: Кажется, немы всерьёз решили заставить нас Родину любить, в лице 1с. Там почти 60 страниц лютой жести, на каждой четвёртой-пятой красным капсом инфа, за что будет ахтунг.</div>\\n\\t</div>\\t \\n\\t \\n\\t<!-- Yandex.RTB R-A-125894-5 -->\\n<div id=\"yandex_rtb_R-A-125894-5\"></div>\\n\\n<script type=\"text/javascript\">\\n    (function(w, d, n, s, t) {\\n        w[n] = w[n] || [];\\n        w[n].push(function() {\\n            Ya.Context.AdvManager.render({\\n                blockId: \"R-A-125894-5\",\\n                renderTo: \"yandex_rtb_R-A-125894-5\",\\n                async: true\\n            });\\n        });\\n        t = d.getElementsByTagName(\"script\")[0];\\n        s = d.createElement(\"script\");\\n        s.type = \"text/javascript\";\\n        s.src = \"//an.yandex.ru/system/context.js\";\\n        s.async = true;\\n        t.parentNode.insertBefore(s, t);\\n    })(this, this.document, \"yandexContextAsyncCallbacks\");\\n</script>\\n\\n \\n\\t<div class=\"quote\">\\n\\t<div class=\"actions\">\\n\\t\\t\\t\\t\\t\\t\\t\\t<a href=\"/quote/449622/rulez\" class=\"up\" rel=\"nofollow\" onclick=\"v(\\'449622\\',0,0); return false;\">+</a>\\t\\t<span class=\"rating-o\"><span id=\"v449622\" class=\"rating\">1316</span></span>\\t\\t<a href=\"/quote/449622/sux\" class=\"down\" rel=\"nofollow\" onclick=\"v(\\'449622\\',1,0); return false;\">&ndash;</a>\\n\\t\\t<a href=\"/quote/449622/bayan\" class=\"old\" id=\"vb449622\" rel=\"nofollow\" onclick=\"v(\\'449622\\',2,0); return false;\">[:||||:]</a>\\t\\t<span class=\"share ya-share2\" id=\"s449622\" class=\"ya-share2\" data-services=\"vkontakte,facebook,twitter,telegram,odnoklassniki,moimir,gplus,lj\" data-limit=\"4\" data-size=\"s\" data-popup-position=\"outer\" data-title=\"Цитата #449622\" data-url=\"http://bash.im/quote/449622\"></span>\\n\\t\\t\\t\\t\\t\\t\\t\\t\\t\\t<span class=\"date\">2018-03-25 08:45</span> <a href=\"/quote/449622\" class=\"id\">#449622</a>\\t\\t\\t\\t\\t</div>\\n\\t<div class=\"text\">&quot;В Одесской области выпал желтый снег&quot;.<br><br>xxx: Что тут скажешь? Только старое доброе - не ешьте его.</div>\\n\\t</div>\\t \\n\\t \\n\\t \\n\\t<div class=\"quote\">\\n\\t<div class=\"actions\">\\n\\t\\t\\t\\t\\t\\t\\t\\t<a href=\"/quote/449621/rulez\" class=\"up\" rel=\"nofollow\" onclick=\"v(\\'449621\\',0,0); return false;\">+</a>\\t\\t<span class=\"rating-o\"><span id=\"v449621\" class=\"rating\">2457</span></span>\\t\\t<a href=\"/quote/449621/sux\" class=\"down\" rel=\"nofollow\" onclick=\"v(\\'449621\\',1,0); return false;\">&ndash;</a>\\n\\t\\t<a href=\"/quote/449621/bayan\" class=\"old\" id=\"vb449621\" rel=\"nofollow\" onclick=\"v(\\'449621\\',2,0); return false;\">[:||||:]</a>\\t\\t<span class=\"share ya-share2\" id=\"s449621\" class=\"ya-share2\" data-services=\"vkontakte,facebook,twitter,telegram,odnoklassniki,moimir,gplus,lj\" data-limit=\"4\" data-size=\"s\" data-popup-position=\"outer\" data-title=\"Цитата #449621\" data-url=\"http://bash.im/quote/449621\"></span>\\n\\t\\t\\t\\t\\t\\t\\t\\t\\t\\t<span class=\"date\">2018-03-25 08:45</span> <a href=\"/quote/449621\" class=\"id\">#449621</a>\\t\\t\\t\\t\\t</div>\\n\\t<div class=\"text\">xxx: Что поделать, переходный возраст у меня<br>yyy: Ксю, у тебя переходный возраст давным-давно закончился!<br>xxx: Хочешь сказать, что я просто так дура???</div>\\n\\t</div>\\t \\n\\t \\n\\t \\n\\t<div class=\"quote\">\\n\\t<div class=\"actions\">\\n\\t\\t\\t\\t\\t\\t\\t\\t<a href=\"/quote/449620/rulez\" class=\"up\" rel=\"nofollow\" onclick=\"v(\\'449620\\',0,0); return false;\">+</a>\\t\\t<span class=\"rating-o\"><span id=\"v449620\" class=\"rating\">307</span></span>\\t\\t<a href=\"/quote/449620/sux\" class=\"down\" rel=\"nofollow\" onclick=\"v(\\'449620\\',1,0); return false;\">&ndash;</a>\\n\\t\\t<a href=\"/quote/449620/bayan\" class=\"old\" id=\"vb449620\" rel=\"nofollow\" onclick=\"v(\\'449620\\',2,0); return false;\">[:||||:]</a>\\t\\t<span class=\"share ya-share2\" id=\"s449620\" class=\"ya-share2\" data-services=\"vkontakte,facebook,twitter,telegram,odnoklassniki,moimir,gplus,lj\" data-limit=\"4\" data-size=\"s\" data-popup-position=\"outer\" data-title=\"Цитата #449620\" data-url=\"http://bash.im/quote/449620\"></span>\\n\\t\\t\\t\\t\\t\\t\\t\\t\\t\\t<span class=\"date\">2018-03-25 08:44</span> <a href=\"/quote/449620\" class=\"id\">#449620</a>\\t\\t\\t\\t\\t</div>\\n\\t<div class=\"text\">Sam258: Как быстро меняется жизнь:<br>раньше я пил по субботам, но коньяк...<br>теперь пью каждый день, но дюфалак...</div>\\n\\t</div>\\t \\n\\t \\n\\t \\n\\t<div class=\"quote\">\\n\\t<div class=\"actions\">\\n\\t\\t\\t\\t\\t\\t\\t\\t<a href=\"/quote/449619/rulez\" class=\"up\" rel=\"nofollow\" onclick=\"v(\\'449619\\',0,0); return false;\">+</a>\\t\\t<span class=\"rating-o\"><span id=\"v449619\" class=\"rating\">1446</span></span>\\t\\t<a href=\"/quote/449619/sux\" class=\"down\" rel=\"nofollow\" onclick=\"v(\\'449619\\',1,0); return false;\">&ndash;</a>\\n\\t\\t<a href=\"/quote/449619/bayan\" class=\"old\" id=\"vb449619\" rel=\"nofollow\" onclick=\"v(\\'449619\\',2,0); return false;\">[:||||:]</a>\\t\\t<span class=\"share ya-share2\" id=\"s449619\" class=\"ya-share2\" data-services=\"vkontakte,facebook,twitter,telegram,odnoklassniki,moimir,gplus,lj\" data-limit=\"4\" data-size=\"s\" data-popup-position=\"outer\" data-title=\"Цитата #449619\" data-url=\"http://bash.im/quote/449619\"></span>\\n\\t\\t\\t\\t\\t\\t\\t\\t\\t\\t<span class=\"date\">2018-03-25 08:12</span> <a href=\"/quote/449619\" class=\"id\">#449619</a>\\t\\t\\t\\t\\t</div>\\n\\t<div class=\"text\">Обсуждение статьи о новых боевых ракетах<br>vngv: &quot;Наша новая ракета летит по непредсказуемой траектории.&quot; Никто еще не переделывал фразу &quot;На кого бог пошлет&quot; настолько творчески.</div>\\n\\t</div>\\t \\n\\t \\n\\t \\n\\t<div class=\"quote\">\\n\\t<div class=\"actions\">\\n\\t\\t\\t\\t\\t\\t\\t\\t<a href=\"/quote/449618/rulez\" class=\"up\" rel=\"nofollow\" onclick=\"v(\\'449618\\',0,0); return false;\">+</a>\\t\\t<span class=\"rating-o\"><span id=\"v449618\" class=\"rating\">877</span></span>\\t\\t<a href=\"/quote/449618/sux\" class=\"down\" rel=\"nofollow\" onclick=\"v(\\'449618\\',1,0); return false;\">&ndash;</a>\\n\\t\\t<a href=\"/quote/449618/bayan\" class=\"old\" id=\"vb449618\" rel=\"nofollow\" onclick=\"v(\\'449618\\',2,0); return false;\">[:||||:]</a>\\t\\t<span class=\"share ya-share2\" id=\"s449618\" class=\"ya-share2\" data-services=\"vkontakte,facebook,twitter,telegram,odnoklassniki,moimir,gplus,lj\" data-limit=\"4\" data-size=\"s\" data-popup-position=\"outer\" data-title=\"Цитата #449618\" data-url=\"http://bash.im/quote/449618\"></span>\\n\\t\\t\\t\\t\\t\\t\\t\\t\\t\\t<span class=\"date\">2018-03-25 08:12</span> <a href=\"/quote/449618\" class=\"id\">#449618</a>\\t\\t\\t\\t\\t</div>\\n\\t<div class=\"text\">На днях номер телефона пробил, владелец: Муаддибов Муаддиб Шайхулудович. Я сказал, что явная левота, а мне &#039;а с чего ты взял? Пиши как есть, мало ли имён странных.&#039;</div>\\n\\t</div>\\t \\n\\t \\n\\t \\n\\t<div class=\"quote\">\\n\\t<div class=\"actions\">\\n\\t\\t\\t\\t\\t\\t\\t\\t<a href=\"/quote/449617/rulez\" class=\"up\" rel=\"nofollow\" onclick=\"v(\\'449617\\',0,0); return false;\">+</a>\\t\\t<span class=\"rating-o\"><span id=\"v449617\" class=\"rating\">1296</span></span>\\t\\t<a href=\"/quote/449617/sux\" class=\"down\" rel=\"nofollow\" onclick=\"v(\\'449617\\',1,0); return false;\">&ndash;</a>\\n\\t\\t<a href=\"/quote/449617/bayan\" class=\"old\" id=\"vb449617\" rel=\"nofollow\" onclick=\"v(\\'449617\\',2,0); return false;\">[:||||:]</a>\\t\\t<span class=\"share ya-share2\" id=\"s449617\" class=\"ya-share2\" data-services=\"vkontakte,facebook,twitter,telegram,odnoklassniki,moimir,gplus,lj\" data-limit=\"4\" data-size=\"s\" data-popup-position=\"outer\" data-title=\"Цитата #449617\" data-url=\"http://bash.im/quote/449617\"></span>\\n\\t\\t\\t\\t\\t\\t\\t\\t\\t\\t<span class=\"date\">2018-03-24 09:12</span> <a href=\"/quote/449617\" class=\"id\">#449617</a>\\t\\t\\t\\t\\t</div>\\n\\t<div class=\"text\">1. Ты раков ел?<br>2. Да<br>1. А кто по гороскопу?<br>2. Ты мне в каннибализме предлагаешь расписаться?</div>\\n\\t</div>\\t \\n\\t \\n\\t \\n\\t<div class=\"quote\">\\n\\t<div class=\"actions\">\\n\\t\\t\\t\\t\\t\\t\\t\\t<a href=\"/quote/449616/rulez\" class=\"up\" rel=\"nofollow\" onclick=\"v(\\'449616\\',0,0); return false;\">+</a>\\t\\t<span class=\"rating-o\"><span id=\"v449616\" class=\"rating\">1710</span></span>\\t\\t<a href=\"/quote/449616/sux\" class=\"down\" rel=\"nofollow\" onclick=\"v(\\'449616\\',1,0); return false;\">&ndash;</a>\\n\\t\\t<a href=\"/quote/449616/bayan\" class=\"old\" id=\"vb449616\" rel=\"nofollow\" onclick=\"v(\\'449616\\',2,0); return false;\">[:||||:]</a>\\t\\t<span class=\"share ya-share2\" id=\"s449616\" class=\"ya-share2\" data-services=\"vkontakte,facebook,twitter,telegram,odnoklassniki,moimir,gplus,lj\" data-limit=\"4\" data-size=\"s\" data-popup-position=\"outer\" data-title=\"Цитата #449616\" data-url=\"http://bash.im/quote/449616\"></span>\\n\\t\\t\\t\\t\\t\\t\\t\\t\\t\\t<span class=\"date\">2018-03-24 08:46</span> <a href=\"/quote/449616\" class=\"id\">#449616</a>\\t\\t\\t\\t\\t</div>\\n\\t<div class=\"text\">&lt;Вызнаменатель&gt; Спать полезно. Только во сне можно узнать, что если заварить флешку как чай и выпить, то быстро усвоишь хранящуюся в ней информацию.</div>\\n\\t</div>\\t \\n\\t \\n\\t \\n\\t<div class=\"quote\">\\n\\t<div class=\"actions\">\\n\\t\\t\\t\\t\\t\\t\\t\\t<a href=\"/quote/449615/rulez\" class=\"up\" rel=\"nofollow\" onclick=\"v(\\'449615\\',0,0); return false;\">+</a>\\t\\t<span class=\"rating-o\"><span id=\"v449615\" class=\"rating\">671</span></span>\\t\\t<a href=\"/quote/449615/sux\" class=\"down\" rel=\"nofollow\" onclick=\"v(\\'449615\\',1,0); return false;\">&ndash;</a>\\n\\t\\t<a href=\"/quote/449615/bayan\" class=\"old\" id=\"vb449615\" rel=\"nofollow\" onclick=\"v(\\'449615\\',2,0); return false;\">[:||||:]</a>\\t\\t<span class=\"share ya-share2\" id=\"s449615\" class=\"ya-share2\" data-services=\"vkontakte,facebook,twitter,telegram,odnoklassniki,moimir,gplus,lj\" data-limit=\"4\" data-size=\"s\" data-popup-position=\"outer\" data-title=\"Цитата #449615\" data-url=\"http://bash.im/quote/449615\"></span>\\n\\t\\t\\t\\t\\t\\t\\t\\t\\t\\t<span class=\"date\">2018-03-24 08:45</span> <a href=\"/quote/449615\" class=\"id\">#449615</a>\\t\\t\\t\\t\\t</div>\\n\\t<div class=\"text\">Megurine_Luka: ты знаешь что такое &quot;просак&quot;?<br>vamp: то, о чём ты хочешь сказать, это такой пошлый миф<br>vamp: а вот что это такое на самом деле: 1) (устар.) приспособление для кручения верёвок, 2) (совр.) неприятное, неловкое положение; конфуз<br>Megurine_Luka: да?<br>Megurine_Luka: ничеси<br>vamp: Megurine_Luka попал впросак насчёт значения слова &quot;просак&quot; :)</div>\\n\\t</div>\\t \\n\\t \\n\\t \\n\\t<div class=\"quote\">\\n\\t<div class=\"actions\">\\n\\t\\t\\t\\t\\t\\t\\t\\t<a href=\"/quote/449614/rulez\" class=\"up\" rel=\"nofollow\" onclick=\"v(\\'449614\\',0,0); return false;\">+</a>\\t\\t<span class=\"rating-o\"><span id=\"v449614\" class=\"rating\">2132</span></span>\\t\\t<a href=\"/quote/449614/sux\" class=\"down\" rel=\"nofollow\" onclick=\"v(\\'449614\\',1,0); return false;\">&ndash;</a>\\n\\t\\t<a href=\"/quote/449614/bayan\" class=\"old\" id=\"vb449614\" rel=\"nofollow\" onclick=\"v(\\'449614\\',2,0); return false;\">[:||||:]</a>\\t\\t<span class=\"share ya-share2\" id=\"s449614\" class=\"ya-share2\" data-services=\"vkontakte,facebook,twitter,telegram,odnoklassniki,moimir,gplus,lj\" data-limit=\"4\" data-size=\"s\" data-popup-position=\"outer\" data-title=\"Цитата #449614\" data-url=\"http://bash.im/quote/449614\"></span>\\n\\t\\t\\t\\t\\t\\t\\t\\t\\t\\t<span class=\"date\">2018-03-24 08:12</span> <a href=\"/quote/449614\" class=\"id\">#449614</a>\\t\\t\\t\\t\\t</div>\\n\\t<div class=\"text\">&quot;На салатовой ветке московского метро открылись три новые станции&quot;.<br><br>xxx: Станции &quot;Оливье&quot;, &quot;Винегрет&quot;, &quot;Цезарь&quot;.</div>\\n\\t</div>\\t \\n\\t \\n\\t \\n\\t<div class=\"quote\">\\n\\t<div class=\"actions\">\\n\\t\\t\\t\\t\\t\\t\\t\\t<a href=\"/quote/449613/rulez\" class=\"up\" rel=\"nofollow\" onclick=\"v(\\'449613\\',0,0); return false;\">+</a>\\t\\t<span class=\"rating-o\"><span id=\"v449613\" class=\"rating\">1151</span></span>\\t\\t<a href=\"/quote/449613/sux\" class=\"down\" rel=\"nofollow\" onclick=\"v(\\'449613\\',1,0); return false;\">&ndash;</a>\\n\\t\\t<a href=\"/quote/449613/bayan\" class=\"old\" id=\"vb449613\" rel=\"nofollow\" onclick=\"v(\\'449613\\',2,0); return false;\">[:||||:]</a>\\t\\t<span class=\"share ya-share2\" id=\"s449613\" class=\"ya-share2\" data-services=\"vkontakte,facebook,twitter,telegram,odnoklassniki,moimir,gplus,lj\" data-limit=\"4\" data-size=\"s\" data-popup-position=\"outer\" data-title=\"Цитата #449613\" data-url=\"http://bash.im/quote/449613\"></span>\\n\\t\\t\\t\\t\\t\\t\\t\\t\\t\\t<span class=\"date\">2018-03-24 08:12</span> <a href=\"/quote/449613\" class=\"id\">#449613</a>\\t\\t\\t\\t\\t</div>\\n\\t<div class=\"text\">xxx: В браке за шоколадку уже не дают - на такое только свободные незатраханные дамы способны.<br>yyy: Да ладно вам. Некоторые дамы в браке уже не дают, а берут, поэтому шоколадка нужна мужу - силы восстанавливать.</div>\\n\\t</div>\\t \\n\\t \\n\\t \\n\\n\\n<div class=\"pager\"><form method=\"post\" action=\"/index\"><span class=\"current\"><input type=\"text\" name=\"page\" class=\"page\" pattern=\"[0-9]+\" numeric=\"integer\" min=\"1\" max=\"1351\" value=\"1351\" /></span><a href=\"/index/1350\"><span class=\"arr\">&rarr;</span><span>1350</span></a><a href=\"/index/1349\"><span>1349</span></a><span>&middot;&middot;&middot;</span><a href=\"/index/1\"><span>начало</span></a></form></div>\\n\\n\\n\\t<div class=\"inside\"><div class=\"submenu\">\\n\\t<span class=\"title\">Цитаты:</span>\\n\\t<div class=\"options\">\\n\\t\\t<span class=\"nowrap\"><a href=\"/\" class=\"current\" id=\"menu-index\">новые</a>\\n\\t\\t<a href=\"/random\">случайные</a>\\n\\t\\t<a href=\"/best\">лучшие</a>\\n\\t\\t<a href=\"/byrating\">по\\xa0рейтингу</a></span>\\n\\t\\t<span class=\"nowrap\"><a href=\"/abyss\">Бездна</a>\\n\\t\\t<a href=\"/abysstop\">топ\\xa0Бездны</a>\\n\\t\\t<a href=\"/abyssbest\" id=\"menu-abyssbest\">лучшее Бездны</a></span>\\n\\t\\t<a href=\"/add\" class=\"add last\">добавить</a>\\n\\t\\t\\t</div>\\n\\t</div></div>\\n\\t<div id=\"footer\">\\n\\t\\t\\t\\t<div class=\"counters\">\\n\\t\\t\\t<!--LiveInternet logo--><a href=\"http://www.liveinternet.ru/click\" target=_blank><img src=\"http://counter.yadro.ru/logo?15.1\" border=0 title=\"LiveInternet\" alt=\"\" width=88 height=31></a><!--/LiveInternet-->\\n\\t\\t\\t<!--Rating@Mail.ru LOGO--><a target=_top href=\"http://top.mail.ru/jump?from=901403\"><img src=\"http://top.list.ru/counter?id=901403;t=49;l=1\" border=0 height=31 width=88 alt=\"Рейтинг@Mail.ru\"/></a><!--/LOGO-->\\n\\t\\t\\t<a href=\"http://www.yandex.ru/cy?base=0&host=bash.im\"><img src=\"http://www.yandex.ru/cycounter?bash.im\" width=\"88\" height=\"31\" alt=\"Индекс Цитирования Яndex\" border=\"0\"></a>\\n\\t\\t\\t\\t\\t</div>\\n\\t\\t<p>Проект компании Chattyfish Ltd.</p>\\n\\t\\t<p>Идея проекта &copy; bash.org. Реализация и плюшки &copy; 2004—2018, команда bash.im.</p>\\n\\t\\t<p>Использование сайта подразумевает согласие с&nbsp;<a href=\"/eula\">пользовательским соглашением</a>. <b>18+</b></p>\\n\\t\\t<p><a href=\"http://chatty.fish/bash.im\">Информация для рекламодателей</a>. По&nbsp;другим&nbsp;поводам: <a href=\"&#109;&#097;&#105;&#108;&#116;&#111;&#058;%20&#115;&#117;&#112;&#112;%6f&#114;%74%40%62&#097;&#115;%68%2e%69%6d\">&#115;&#117;&#112;&#112;&#111;&#114;&#116;@&#098;&#097;&#115;&#104;&#046;&#105;&#109;</a>.</p>\\n\\n\\t\\t<div style=\"clear: both;\"></div>\\n\\t</div>\\n\\n</div>\\n\\n<!--Rating@Mail.ru COUNTER--><script language=\"JavaScript\" type=\"text/javascript\"><!--\\nd=document;var a=\\'\\';a+=\\';r=\\'+escape(d.referrer)\\njs=10//--></script><script language=\"JavaScript1.1\" type=\"text/javascript\"><!--\\na+=\\';j=\\'+navigator.javaEnabled()\\njs=11//--></script><script language=\"JavaScript1.2\" type=\"text/javascript\"><!--\\ns=screen;a+=\\';s=\\'+s.width+\\'*\\'+s.height\\na+=\\';d=\\'+(s.colorDepth?s.colorDepth:s.pixelDepth)\\njs=12//--></script><script language=\"JavaScript1.3\" type=\"text/javascript\"><!--\\njs=13//--></script><script language=\"JavaScript\" type=\"text/javascript\"><!--\\nd.write(\\'<img src=\"http://top.list.ru/counter\\'+\\n\\'?id=901403;js=\\'+js+a+\\';rand=\\'+Math.random()+\\n\\'\" height=1 width=1/>\\')\\nif(11<js)d.write(\\'<\\'+\\'!-- \\')//--></script><noscript><img\\nsrc=\"http://top.list.ru/counter?js=na;id=901403\"\\nheight=1 width=1 alt=\"\"/></noscript><script language=\"JavaScript\" type=\"text/javascript\"><!--\\nif(11<js)d.write(\\'--\\'+\\'>\\')//--></script><!--/COUNTER-->\\n\\n<!--LiveInternet counter--><script type=\"text/javascript\"><!--\\ndocument.write(\"<img src=\\'http://counter.yadro.ru/hit?r\"+\\nescape(document.referrer)+((typeof(screen)==\"undefined\")?\"\":\\n\";s\"+screen.width+\"*\"+screen.height+\"*\"+(screen.colorDepth?\\nscreen.colorDepth:screen.pixelDepth))+\";u\"+escape(document.URL)+\\n\";\"+Math.random()+\\n\"\\' width=1 height=1 alt=\\'\\'>\")//--></script><!--/LiveInternet-->\\n\\n\\n<!-- Yandex.Metrika counter non-mobile --><script type=\"text/javascript\">(function (d, w, c) { (w[c] = w[c] || []).push(function() { try { w.yaCounter18640348 = new Ya.Metrika({id:18640348, webvisor:true, clickmap:true, trackLinks:true, accurateTrackBounce:true}); } catch(e) { } }); var n = d.getElementsByTagName(\"script\")[0], s = d.createElement(\"script\"), f = function () { n.parentNode.insertBefore(s, n); }; s.type = \"text/javascript\"; s.async = true; s.src = (d.location.protocol == \"https:\" ? \"https:\" : \"http:\") + \"//mc.yandex.ru/metrika/watch.js\"; if (w.opera == \"[object Opera]\") { d.addEventListener(\"DOMContentLoaded\", f, false); } else { f(); } })(document, window, \"yandex_metrika_callbacks\");</script><noscript><div><img src=\"//mc.yandex.ru/watch/18640348\" style=\"position:absolute; left:-9999px;\" alt=\"\" /></div></noscript><!-- /Yandex.Metrika counter -->\\n\\n\\n</body>\\n</html>'"
      ]
     },
     "execution_count": 5,
     "metadata": {},
     "output_type": "execute_result"
    }
   ],
   "source": [
    "resp.text"
   ]
  },
  {
   "cell_type": "code",
   "execution_count": 6,
   "metadata": {
    "scrolled": true
   },
   "outputs": [],
   "source": [
    "# HTML(resp.text)"
   ]
  },
  {
   "cell_type": "markdown",
   "metadata": {},
   "source": [
    "## User-Agents"
   ]
  },
  {
   "cell_type": "markdown",
   "metadata": {},
   "source": [
    "https://www.dafont.com/"
   ]
  },
  {
   "cell_type": "markdown",
   "metadata": {},
   "source": [
    "<img src=\"https://www.ntu.edu.sg/home/ehchua/programming/webprogramming/images/HTTP_RequestMessageExample.png\">"
   ]
  },
  {
   "cell_type": "markdown",
   "metadata": {},
   "source": [
    "<img src=\"https://docs.microsoft.com/ru-ru/aspnet/web-api/overview/advanced/http-cookies/_static/image1.png\">"
   ]
  },
  {
   "cell_type": "code",
   "execution_count": 7,
   "metadata": {},
   "outputs": [],
   "source": [
    "resp = requests.get('https://www.dafont.com/')"
   ]
  },
  {
   "cell_type": "code",
   "execution_count": 8,
   "metadata": {},
   "outputs": [
    {
     "data": {
      "text/plain": [
       "200"
      ]
     },
     "execution_count": 8,
     "metadata": {},
     "output_type": "execute_result"
    }
   ],
   "source": [
    "resp.status_code"
   ]
  },
  {
   "cell_type": "code",
   "execution_count": 9,
   "metadata": {},
   "outputs": [
    {
     "ename": "NameError",
     "evalue": "name 'HTML' is not defined",
     "output_type": "error",
     "traceback": [
      "\u001b[0;31m---------------------------------------------------------------------------\u001b[0m",
      "\u001b[0;31mNameError\u001b[0m                                 Traceback (most recent call last)",
      "\u001b[0;32m<ipython-input-9-f4ad78df9534>\u001b[0m in \u001b[0;36m<module>\u001b[0;34m()\u001b[0m\n\u001b[0;32m----> 1\u001b[0;31m \u001b[0mHTML\u001b[0m\u001b[0;34m(\u001b[0m\u001b[0mresp\u001b[0m\u001b[0;34m.\u001b[0m\u001b[0mtext\u001b[0m\u001b[0;34m)\u001b[0m\u001b[0;34m\u001b[0m\u001b[0m\n\u001b[0m",
      "\u001b[0;31mNameError\u001b[0m: name 'HTML' is not defined"
     ]
    }
   ],
   "source": [
    "HTML(resp.text)"
   ]
  },
  {
   "cell_type": "code",
   "execution_count": 10,
   "metadata": {},
   "outputs": [
    {
     "data": {
      "text/plain": [
       "''"
      ]
     },
     "execution_count": 10,
     "metadata": {},
     "output_type": "execute_result"
    }
   ],
   "source": [
    "resp.text"
   ]
  },
  {
   "cell_type": "code",
   "execution_count": 11,
   "metadata": {},
   "outputs": [
    {
     "ename": "ModuleNotFoundError",
     "evalue": "No module named 'fake_useragent'",
     "output_type": "error",
     "traceback": [
      "\u001b[0;31m---------------------------------------------------------------------------\u001b[0m",
      "\u001b[0;31mModuleNotFoundError\u001b[0m                       Traceback (most recent call last)",
      "\u001b[0;32m<ipython-input-11-53bb937c0492>\u001b[0m in \u001b[0;36m<module>\u001b[0;34m()\u001b[0m\n\u001b[0;32m----> 1\u001b[0;31m \u001b[0;32mfrom\u001b[0m \u001b[0mfake_useragent\u001b[0m \u001b[0;32mimport\u001b[0m \u001b[0mUserAgent\u001b[0m\u001b[0;34m\u001b[0m\u001b[0m\n\u001b[0m\u001b[1;32m      2\u001b[0m \u001b[0mua\u001b[0m \u001b[0;34m=\u001b[0m \u001b[0mUserAgent\u001b[0m\u001b[0;34m(\u001b[0m\u001b[0;34m)\u001b[0m\u001b[0;34m\u001b[0m\u001b[0m\n\u001b[1;32m      3\u001b[0m \u001b[0;34m\u001b[0m\u001b[0m\n\u001b[1;32m      4\u001b[0m headers = {\n\u001b[1;32m      5\u001b[0m     \u001b[0;34m'User-Agent'\u001b[0m\u001b[0;34m:\u001b[0m \u001b[0mua\u001b[0m\u001b[0;34m.\u001b[0m\u001b[0mchrome\u001b[0m\u001b[0;34m\u001b[0m\u001b[0m\n",
      "\u001b[0;31mModuleNotFoundError\u001b[0m: No module named 'fake_useragent'"
     ]
    }
   ],
   "source": [
    "from fake_useragent import UserAgent\n",
    "ua = UserAgent()\n",
    "\n",
    "headers = {\n",
    "    'User-Agent': ua.chrome\n",
    "}"
   ]
  },
  {
   "cell_type": "code",
   "execution_count": 12,
   "metadata": {},
   "outputs": [
    {
     "ename": "NameError",
     "evalue": "name 'headers' is not defined",
     "output_type": "error",
     "traceback": [
      "\u001b[0;31m---------------------------------------------------------------------------\u001b[0m",
      "\u001b[0;31mNameError\u001b[0m                                 Traceback (most recent call last)",
      "\u001b[0;32m<ipython-input-12-aa03763bed7e>\u001b[0m in \u001b[0;36m<module>\u001b[0;34m()\u001b[0m\n\u001b[0;32m----> 1\u001b[0;31m \u001b[0mresp\u001b[0m \u001b[0;34m=\u001b[0m \u001b[0mrequests\u001b[0m\u001b[0;34m.\u001b[0m\u001b[0mget\u001b[0m\u001b[0;34m(\u001b[0m\u001b[0;34m'https://www.dafont.com/'\u001b[0m\u001b[0;34m,\u001b[0m \u001b[0mheaders\u001b[0m\u001b[0;34m=\u001b[0m\u001b[0mheaders\u001b[0m\u001b[0;34m)\u001b[0m\u001b[0;34m\u001b[0m\u001b[0m\n\u001b[0m",
      "\u001b[0;31mNameError\u001b[0m: name 'headers' is not defined"
     ]
    }
   ],
   "source": [
    "resp = requests.get('https://www.dafont.com/', headers=headers)"
   ]
  },
  {
   "cell_type": "code",
   "execution_count": null,
   "metadata": {
    "collapsed": true
   },
   "outputs": [],
   "source": [
    "resp.text"
   ]
  },
  {
   "cell_type": "markdown",
   "metadata": {},
   "source": [
    "## API"
   ]
  },
  {
   "cell_type": "code",
   "execution_count": 14,
   "metadata": {},
   "outputs": [
    {
     "data": {
      "text/plain": [
       "{'args': {'my_arg': 'test'},\n",
       " 'headers': {'Accept': '*/*',\n",
       "  'Accept-Encoding': 'gzip, deflate',\n",
       "  'Connection': 'close',\n",
       "  'Host': 'httpbin.org',\n",
       "  'User-Agent': 'python-requests/2.18.4'},\n",
       " 'origin': '188.44.42.220',\n",
       " 'url': 'https://httpbin.org/get?my_arg=test'}"
      ]
     },
     "execution_count": 14,
     "metadata": {},
     "output_type": "execute_result"
    }
   ],
   "source": [
    "requests.get('https://httpbin.org/get?my_arg=test').json()"
   ]
  },
  {
   "cell_type": "markdown",
   "metadata": {},
   "source": [
    "Хорошо бы из данных теперь что-то достать.\n",
    "\n",
    "Регулярные выражения?..\n",
    "\n",
    "<img src=\"https://i.pinimg.com/originals/f4/e8/35/f4e835a17ffc770a69f632d257b77473.png\">\n",
    "\n",
    "1) CSS-selectors\n",
    "\n",
    "2) <a href=\"http://msiter.ru/tutorials/xpath/syntax\">XPath</a>\n",
    "\n",
    "3) Semantic (class_name)"
   ]
  },
  {
   "cell_type": "code",
   "execution_count": 18,
   "metadata": {},
   "outputs": [],
   "source": [
    "resp = requests.get(BASH_URL)\n",
    "bs = BeautifulSoup(resp.text, 'lxml')"
   ]
  },
  {
   "cell_type": "markdown",
   "metadata": {},
   "source": [
    "Можем вытащить ссылки"
   ]
  },
  {
   "cell_type": "code",
   "execution_count": 20,
   "metadata": {},
   "outputs": [
    {
     "name": "stdout",
     "output_type": "stream",
     "text": [
      "/\n",
      "http://ithappens.me/\n",
      "http://zadolba.li/\n",
      "/\n",
      "/random\n",
      "/best\n",
      "/byrating\n",
      "/abyss\n",
      "/abysstop\n",
      "/abyssbest\n"
     ]
    }
   ],
   "source": [
    "for x in bs.find_all('a')[:10]:\n",
    "    print (x.get('href'))"
   ]
  },
  {
   "cell_type": "markdown",
   "metadata": {},
   "source": [
    "Ссылки относительные. Не всегда это удобно. И не нужно их склеивать руками (вспоминаем про `os.path.join`)"
   ]
  },
  {
   "cell_type": "code",
   "execution_count": 24,
   "metadata": {},
   "outputs": [
    {
     "ename": "ModuleNotFoundError",
     "evalue": "No module named 'urlparse'",
     "output_type": "error",
     "traceback": [
      "\u001b[0;31m---------------------------------------------------------------------------\u001b[0m",
      "\u001b[0;31mModuleNotFoundError\u001b[0m                       Traceback (most recent call last)",
      "\u001b[0;32m<ipython-input-24-353e36558b8e>\u001b[0m in \u001b[0;36m<module>\u001b[0;34m()\u001b[0m\n\u001b[0;32m----> 1\u001b[0;31m \u001b[0;32mfrom\u001b[0m \u001b[0murlparse\u001b[0m \u001b[0;32mimport\u001b[0m \u001b[0murljoin\u001b[0m\u001b[0;34m,\u001b[0m \u001b[0munquote\u001b[0m\u001b[0;34m,\u001b[0m \u001b[0mparse_qs\u001b[0m\u001b[0;34m\u001b[0m\u001b[0m\n\u001b[0m",
      "\u001b[0;31mModuleNotFoundError\u001b[0m: No module named 'urlparse'"
     ]
    }
   ],
   "source": [
    "from urlparse import urljoin, unquote, parse_qs"
   ]
  },
  {
   "cell_type": "code",
   "execution_count": 25,
   "metadata": {},
   "outputs": [
    {
     "ename": "NameError",
     "evalue": "name 'urljoin' is not defined",
     "output_type": "error",
     "traceback": [
      "\u001b[0;31m---------------------------------------------------------------------------\u001b[0m",
      "\u001b[0;31mNameError\u001b[0m                                 Traceback (most recent call last)",
      "\u001b[0;32m<ipython-input-25-6cd8d80282ff>\u001b[0m in \u001b[0;36m<module>\u001b[0;34m()\u001b[0m\n\u001b[1;32m      1\u001b[0m \u001b[0;32mfor\u001b[0m \u001b[0mx\u001b[0m \u001b[0;32min\u001b[0m \u001b[0mbs\u001b[0m\u001b[0;34m.\u001b[0m\u001b[0mfind_all\u001b[0m\u001b[0;34m(\u001b[0m\u001b[0;34m'a'\u001b[0m\u001b[0;34m)\u001b[0m\u001b[0;34m[\u001b[0m\u001b[0;34m:\u001b[0m\u001b[0;36m10\u001b[0m\u001b[0;34m]\u001b[0m\u001b[0;34m:\u001b[0m\u001b[0;34m\u001b[0m\u001b[0m\n\u001b[0;32m----> 2\u001b[0;31m     \u001b[0mprint\u001b[0m \u001b[0;34m(\u001b[0m\u001b[0murljoin\u001b[0m\u001b[0;34m(\u001b[0m\u001b[0mBASH_URL\u001b[0m\u001b[0;34m,\u001b[0m \u001b[0mx\u001b[0m\u001b[0;34m.\u001b[0m\u001b[0mget\u001b[0m\u001b[0;34m(\u001b[0m\u001b[0;34m'href'\u001b[0m\u001b[0;34m)\u001b[0m\u001b[0;34m)\u001b[0m\u001b[0;34m)\u001b[0m\u001b[0;34m\u001b[0m\u001b[0m\n\u001b[0m",
      "\u001b[0;31mNameError\u001b[0m: name 'urljoin' is not defined"
     ]
    }
   ],
   "source": [
    "for x in bs.find_all('a')[:10]:\n",
    "    print (urljoin(BASH_URL, x.get('href')))"
   ]
  },
  {
   "cell_type": "markdown",
   "metadata": {},
   "source": [
    "Можем сразу вытащить текст. Не идеально"
   ]
  },
  {
   "cell_type": "code",
   "execution_count": 26,
   "metadata": {},
   "outputs": [
    {
     "ename": "SyntaxError",
     "evalue": "invalid syntax (<ipython-input-26-e6adfdc83134>, line 1)",
     "output_type": "error",
     "traceback": [
      "\u001b[0;36m  File \u001b[0;32m\"<ipython-input-26-e6adfdc83134>\"\u001b[0;36m, line \u001b[0;32m1\u001b[0m\n\u001b[0;31m    print bs.text.replace('\\n\\n', '\\n')\u001b[0m\n\u001b[0m           ^\u001b[0m\n\u001b[0;31mSyntaxError\u001b[0m\u001b[0;31m:\u001b[0m invalid syntax\n"
     ]
    }
   ],
   "source": [
    "print bs.text.replace('\\n\\n', '\\n')"
   ]
  },
  {
   "cell_type": "markdown",
   "metadata": {},
   "source": [
    "Простое решение, которое покроет 90% случаев:"
   ]
  },
  {
   "cell_type": "code",
   "execution_count": null,
   "metadata": {
    "collapsed": true
   },
   "outputs": [],
   "source": [
    "for x in bs('script'):\n",
    "    x.extract()"
   ]
  },
  {
   "cell_type": "code",
   "execution_count": null,
   "metadata": {
    "collapsed": true
   },
   "outputs": [],
   "source": [
    "print bs.text.replace('\\n\\n', '\\n')"
   ]
  },
  {
   "cell_type": "markdown",
   "metadata": {},
   "source": [
    "Скорее всего, нам нужен не весь текст (Регистрация, Меню, etc)"
   ]
  },
  {
   "cell_type": "code",
   "execution_count": null,
   "metadata": {
    "collapsed": true
   },
   "outputs": [],
   "source": [
    "bs.find_all('div', 'text')[:3]"
   ]
  },
  {
   "cell_type": "code",
   "execution_count": null,
   "metadata": {
    "collapsed": true
   },
   "outputs": [],
   "source": [
    "for x in bs.find_all('div', 'text')[:3]:\n",
    "    print x.text\n",
    "    print '-' * 80"
   ]
  },
  {
   "cell_type": "markdown",
   "metadata": {},
   "source": [
    "Похоже, мы потеряли переносы строк"
   ]
  },
  {
   "cell_type": "code",
   "execution_count": null,
   "metadata": {
    "collapsed": true
   },
   "outputs": [],
   "source": [
    "for x in bs.find_all('div', 'text')[:3]:\n",
    "    print x\n",
    "    print '-' * 80"
   ]
  },
  {
   "cell_type": "code",
   "execution_count": null,
   "metadata": {
    "collapsed": true
   },
   "outputs": [],
   "source": [
    "for br in bs.find_all(\"br\"):\n",
    "    br.replace_with(\"\\n\")"
   ]
  },
  {
   "cell_type": "code",
   "execution_count": null,
   "metadata": {
    "collapsed": true
   },
   "outputs": [],
   "source": [
    "for x in bs.find_all('div', 'text')[:3]:\n",
    "    print x.text\n",
    "    print '-' * 80"
   ]
  },
  {
   "cell_type": "markdown",
   "metadata": {},
   "source": [
    "# unquote, parse_qs"
   ]
  },
  {
   "cell_type": "code",
   "execution_count": null,
   "metadata": {
    "collapsed": true
   },
   "outputs": [],
   "source": [
    "WIKI_URL = 'http://ru.wikipedia.org'\n",
    "resp = requests.get(WIKI_URL)\n",
    "bs = BeautifulSoup(resp.content, 'lxml')"
   ]
  },
  {
   "cell_type": "code",
   "execution_count": null,
   "metadata": {
    "collapsed": true
   },
   "outputs": [],
   "source": [
    "for x in bs.find_all('a')[:5]:\n",
    "    if x.get('href'):\n",
    "        print urljoin(WIKI_URL, x['href']), x.text\n",
    "        print "
   ]
  },
  {
   "cell_type": "code",
   "execution_count": null,
   "metadata": {
    "collapsed": true
   },
   "outputs": [],
   "source": [
    "for x in bs.find_all('a')[:5]:\n",
    "    if x.get('href'):\n",
    "        print unquote(urljoin(WIKI_URL, x['href'])), x.text\n",
    "        print "
   ]
  },
  {
   "cell_type": "code",
   "execution_count": null,
   "metadata": {
    "collapsed": true
   },
   "outputs": [],
   "source": [
    "for x in bs.find_all('a'):\n",
    "    if x.get('href') and '?' in x.get('href'):\n",
    "        print urljoin(WIKI_URL, x['href'])\n",
    "        print unquote(urljoin(WIKI_URL, x['href']))\n",
    "        print json.dumps(parse_qs(urljoin(WIKI_URL, x['href'])), indent=2, ensure_ascii=False)\n",
    "        break"
   ]
  },
  {
   "cell_type": "markdown",
   "metadata": {},
   "source": [
    "## Redirects"
   ]
  },
  {
   "cell_type": "code",
   "execution_count": null,
   "metadata": {
    "collapsed": true
   },
   "outputs": [],
   "source": [
    "r = requests.get('http://github.com', allow_redirects=False)\n",
    "r.status_code"
   ]
  },
  {
   "cell_type": "code",
   "execution_count": null,
   "metadata": {
    "collapsed": true
   },
   "outputs": [],
   "source": [
    "r = requests.head('http://github.com', allow_redirects=True)\n",
    "r.url"
   ]
  },
  {
   "cell_type": "code",
   "execution_count": null,
   "metadata": {
    "collapsed": true
   },
   "outputs": [],
   "source": [
    "r.history"
   ]
  },
  {
   "cell_type": "markdown",
   "metadata": {},
   "source": [
    "Редиректы через js - это <a href=\"https://stackoverflow.com/a/21396837\">больная боль</a>"
   ]
  },
  {
   "cell_type": "markdown",
   "metadata": {},
   "source": [
    "## Social"
   ]
  },
  {
   "cell_type": "markdown",
   "metadata": {},
   "source": [
    "Вы можете себе облегчить жизнь, если посмотрите, как изменяется путь и GET-параметры в зависимости от ваших действий\n",
    "\n",
    "https://www.kinopoisk.ru/top/lists/1/filtr/v/sort/order/"
   ]
  },
  {
   "cell_type": "code",
   "execution_count": null,
   "metadata": {
    "collapsed": true
   },
   "outputs": [],
   "source": [
    "resp = requests.get('https://www.kinopoisk.ru/top/lists/1/filtr/v/sort/order/')\n",
    "bs = BeautifulSoup(resp.text)\n",
    "len([float(x.get('value')) for x in bs.find_all('div', 'WidgetStars')])"
   ]
  },
  {
   "cell_type": "code",
   "execution_count": null,
   "metadata": {
    "collapsed": true,
    "scrolled": true
   },
   "outputs": [],
   "source": [
    "resp = requests.get('https://www.kinopoisk.ru/top/lists/1/filtr/v/sort/order/perpage/200/')\n",
    "bs = BeautifulSoup(resp.text)\n",
    "len([float(x.get('value')) for x in bs.find_all('div', 'WidgetStars')])"
   ]
  },
  {
   "cell_type": "code",
   "execution_count": null,
   "metadata": {
    "collapsed": true
   },
   "outputs": [],
   "source": [
    "print bs.findAll('tr')[4].prettify()"
   ]
  },
  {
   "cell_type": "code",
   "execution_count": null,
   "metadata": {
    "collapsed": true
   },
   "outputs": [],
   "source": [
    "# HTML(resp.text)"
   ]
  },
  {
   "cell_type": "code",
   "execution_count": null,
   "metadata": {
    "collapsed": true
   },
   "outputs": [],
   "source": [
    "resp = requests.get('https://brandshop.ru/new/')\n",
    "bs = BeautifulSoup(resp.text)\n",
    "len(bs.find_all('div', 'product'))"
   ]
  },
  {
   "cell_type": "code",
   "execution_count": null,
   "metadata": {
    "collapsed": true
   },
   "outputs": [],
   "source": [
    "resp = requests.get('https://brandshop.ru/new/?limit=1000')\n",
    "bs = BeautifulSoup(resp.text)\n",
    "len(bs.find_all('div', 'product'))"
   ]
  },
  {
   "cell_type": "markdown",
   "metadata": {},
   "source": [
    "Скачивание данных - i/o-операция. Большую часть времени ваш процессор не выполняет никаких задач, потому что ждёт, пока данные придут по сети\n",
    "\n",
    "<img src=\"https://qph.ec.quoracdn.net/main-qimg-123fabd6813bdc59da5fe392d37b3314.webp\">"
   ]
  },
  {
   "cell_type": "code",
   "execution_count": 27,
   "metadata": {},
   "outputs": [
    {
     "name": "stderr",
     "output_type": "stream",
     "text": [
      " 17%|█▋        | 17/100 [00:11<00:57,  1.44it/s]"
     ]
    },
    {
     "ename": "KeyboardInterrupt",
     "evalue": "",
     "output_type": "error",
     "traceback": [
      "\u001b[0;31m---------------------------------------------------------------------------\u001b[0m",
      "\u001b[0;31mTypeError\u001b[0m                                 Traceback (most recent call last)",
      "\u001b[0;32m~/anaconda3/lib/python3.6/site-packages/urllib3/connectionpool.py\u001b[0m in \u001b[0;36m_make_request\u001b[0;34m(self, conn, method, url, timeout, chunked, **httplib_request_kw)\u001b[0m\n\u001b[1;32m    379\u001b[0m             \u001b[0;32mtry\u001b[0m\u001b[0;34m:\u001b[0m  \u001b[0;31m# Python 2.7, use buffering of HTTP responses\u001b[0m\u001b[0;34m\u001b[0m\u001b[0m\n\u001b[0;32m--> 380\u001b[0;31m                 \u001b[0mhttplib_response\u001b[0m \u001b[0;34m=\u001b[0m \u001b[0mconn\u001b[0m\u001b[0;34m.\u001b[0m\u001b[0mgetresponse\u001b[0m\u001b[0;34m(\u001b[0m\u001b[0mbuffering\u001b[0m\u001b[0;34m=\u001b[0m\u001b[0;32mTrue\u001b[0m\u001b[0;34m)\u001b[0m\u001b[0;34m\u001b[0m\u001b[0m\n\u001b[0m\u001b[1;32m    381\u001b[0m             \u001b[0;32mexcept\u001b[0m \u001b[0mTypeError\u001b[0m\u001b[0;34m:\u001b[0m  \u001b[0;31m# Python 2.6 and older, Python 3\u001b[0m\u001b[0;34m\u001b[0m\u001b[0m\n",
      "\u001b[0;31mTypeError\u001b[0m: getresponse() got an unexpected keyword argument 'buffering'",
      "\nDuring handling of the above exception, another exception occurred:\n",
      "\u001b[0;31mKeyboardInterrupt\u001b[0m                         Traceback (most recent call last)",
      "\u001b[0;32m<ipython-input-27-ebde7e3614e0>\u001b[0m in \u001b[0;36m<module>\u001b[0;34m()\u001b[0m\n\u001b[1;32m      2\u001b[0m \u001b[0mend_post\u001b[0m \u001b[0;34m=\u001b[0m \u001b[0;36m349200\u001b[0m\u001b[0;34m\u001b[0m\u001b[0m\n\u001b[1;32m      3\u001b[0m \u001b[0;32mfor\u001b[0m \u001b[0mx\u001b[0m \u001b[0;32min\u001b[0m \u001b[0mtqdm\u001b[0m\u001b[0;34m(\u001b[0m\u001b[0mrange\u001b[0m\u001b[0;34m(\u001b[0m\u001b[0mstart_post\u001b[0m\u001b[0;34m,\u001b[0m \u001b[0mend_post\u001b[0m\u001b[0;34m,\u001b[0m \u001b[0;36m2\u001b[0m\u001b[0;34m)\u001b[0m\u001b[0;34m)\u001b[0m\u001b[0;34m:\u001b[0m\u001b[0;34m\u001b[0m\u001b[0m\n\u001b[0;32m----> 4\u001b[0;31m     \u001b[0mresp\u001b[0m \u001b[0;34m=\u001b[0m \u001b[0mrequests\u001b[0m\u001b[0;34m.\u001b[0m\u001b[0mget\u001b[0m\u001b[0;34m(\u001b[0m\u001b[0;34m'https://habrahabr.ru/post/%d/'\u001b[0m \u001b[0;34m%\u001b[0m \u001b[0mx\u001b[0m\u001b[0;34m)\u001b[0m\u001b[0;34m\u001b[0m\u001b[0m\n\u001b[0m",
      "\u001b[0;32m~/anaconda3/lib/python3.6/site-packages/requests/api.py\u001b[0m in \u001b[0;36mget\u001b[0;34m(url, params, **kwargs)\u001b[0m\n\u001b[1;32m     70\u001b[0m \u001b[0;34m\u001b[0m\u001b[0m\n\u001b[1;32m     71\u001b[0m     \u001b[0mkwargs\u001b[0m\u001b[0;34m.\u001b[0m\u001b[0msetdefault\u001b[0m\u001b[0;34m(\u001b[0m\u001b[0;34m'allow_redirects'\u001b[0m\u001b[0;34m,\u001b[0m \u001b[0;32mTrue\u001b[0m\u001b[0;34m)\u001b[0m\u001b[0;34m\u001b[0m\u001b[0m\n\u001b[0;32m---> 72\u001b[0;31m     \u001b[0;32mreturn\u001b[0m \u001b[0mrequest\u001b[0m\u001b[0;34m(\u001b[0m\u001b[0;34m'get'\u001b[0m\u001b[0;34m,\u001b[0m \u001b[0murl\u001b[0m\u001b[0;34m,\u001b[0m \u001b[0mparams\u001b[0m\u001b[0;34m=\u001b[0m\u001b[0mparams\u001b[0m\u001b[0;34m,\u001b[0m \u001b[0;34m**\u001b[0m\u001b[0mkwargs\u001b[0m\u001b[0;34m)\u001b[0m\u001b[0;34m\u001b[0m\u001b[0m\n\u001b[0m\u001b[1;32m     73\u001b[0m \u001b[0;34m\u001b[0m\u001b[0m\n\u001b[1;32m     74\u001b[0m \u001b[0;34m\u001b[0m\u001b[0m\n",
      "\u001b[0;32m~/anaconda3/lib/python3.6/site-packages/requests/api.py\u001b[0m in \u001b[0;36mrequest\u001b[0;34m(method, url, **kwargs)\u001b[0m\n\u001b[1;32m     56\u001b[0m     \u001b[0;31m# cases, and look like a memory leak in others.\u001b[0m\u001b[0;34m\u001b[0m\u001b[0;34m\u001b[0m\u001b[0m\n\u001b[1;32m     57\u001b[0m     \u001b[0;32mwith\u001b[0m \u001b[0msessions\u001b[0m\u001b[0;34m.\u001b[0m\u001b[0mSession\u001b[0m\u001b[0;34m(\u001b[0m\u001b[0;34m)\u001b[0m \u001b[0;32mas\u001b[0m \u001b[0msession\u001b[0m\u001b[0;34m:\u001b[0m\u001b[0;34m\u001b[0m\u001b[0m\n\u001b[0;32m---> 58\u001b[0;31m         \u001b[0;32mreturn\u001b[0m \u001b[0msession\u001b[0m\u001b[0;34m.\u001b[0m\u001b[0mrequest\u001b[0m\u001b[0;34m(\u001b[0m\u001b[0mmethod\u001b[0m\u001b[0;34m=\u001b[0m\u001b[0mmethod\u001b[0m\u001b[0;34m,\u001b[0m \u001b[0murl\u001b[0m\u001b[0;34m=\u001b[0m\u001b[0murl\u001b[0m\u001b[0;34m,\u001b[0m \u001b[0;34m**\u001b[0m\u001b[0mkwargs\u001b[0m\u001b[0;34m)\u001b[0m\u001b[0;34m\u001b[0m\u001b[0m\n\u001b[0m\u001b[1;32m     59\u001b[0m \u001b[0;34m\u001b[0m\u001b[0m\n\u001b[1;32m     60\u001b[0m \u001b[0;34m\u001b[0m\u001b[0m\n",
      "\u001b[0;32m~/anaconda3/lib/python3.6/site-packages/requests/sessions.py\u001b[0m in \u001b[0;36mrequest\u001b[0;34m(self, method, url, params, data, headers, cookies, files, auth, timeout, allow_redirects, proxies, hooks, stream, verify, cert, json)\u001b[0m\n\u001b[1;32m    506\u001b[0m         }\n\u001b[1;32m    507\u001b[0m         \u001b[0msend_kwargs\u001b[0m\u001b[0;34m.\u001b[0m\u001b[0mupdate\u001b[0m\u001b[0;34m(\u001b[0m\u001b[0msettings\u001b[0m\u001b[0;34m)\u001b[0m\u001b[0;34m\u001b[0m\u001b[0m\n\u001b[0;32m--> 508\u001b[0;31m         \u001b[0mresp\u001b[0m \u001b[0;34m=\u001b[0m \u001b[0mself\u001b[0m\u001b[0;34m.\u001b[0m\u001b[0msend\u001b[0m\u001b[0;34m(\u001b[0m\u001b[0mprep\u001b[0m\u001b[0;34m,\u001b[0m \u001b[0;34m**\u001b[0m\u001b[0msend_kwargs\u001b[0m\u001b[0;34m)\u001b[0m\u001b[0;34m\u001b[0m\u001b[0m\n\u001b[0m\u001b[1;32m    509\u001b[0m \u001b[0;34m\u001b[0m\u001b[0m\n\u001b[1;32m    510\u001b[0m         \u001b[0;32mreturn\u001b[0m \u001b[0mresp\u001b[0m\u001b[0;34m\u001b[0m\u001b[0m\n",
      "\u001b[0;32m~/anaconda3/lib/python3.6/site-packages/requests/sessions.py\u001b[0m in \u001b[0;36msend\u001b[0;34m(self, request, **kwargs)\u001b[0m\n\u001b[1;32m    638\u001b[0m \u001b[0;34m\u001b[0m\u001b[0m\n\u001b[1;32m    639\u001b[0m         \u001b[0;31m# Resolve redirects if allowed.\u001b[0m\u001b[0;34m\u001b[0m\u001b[0;34m\u001b[0m\u001b[0m\n\u001b[0;32m--> 640\u001b[0;31m         \u001b[0mhistory\u001b[0m \u001b[0;34m=\u001b[0m \u001b[0;34m[\u001b[0m\u001b[0mresp\u001b[0m \u001b[0;32mfor\u001b[0m \u001b[0mresp\u001b[0m \u001b[0;32min\u001b[0m \u001b[0mgen\u001b[0m\u001b[0;34m]\u001b[0m \u001b[0;32mif\u001b[0m \u001b[0mallow_redirects\u001b[0m \u001b[0;32melse\u001b[0m \u001b[0;34m[\u001b[0m\u001b[0;34m]\u001b[0m\u001b[0;34m\u001b[0m\u001b[0m\n\u001b[0m\u001b[1;32m    641\u001b[0m \u001b[0;34m\u001b[0m\u001b[0m\n\u001b[1;32m    642\u001b[0m         \u001b[0;31m# Shuffle things around if there's history.\u001b[0m\u001b[0;34m\u001b[0m\u001b[0;34m\u001b[0m\u001b[0m\n",
      "\u001b[0;32m~/anaconda3/lib/python3.6/site-packages/requests/sessions.py\u001b[0m in \u001b[0;36m<listcomp>\u001b[0;34m(.0)\u001b[0m\n\u001b[1;32m    638\u001b[0m \u001b[0;34m\u001b[0m\u001b[0m\n\u001b[1;32m    639\u001b[0m         \u001b[0;31m# Resolve redirects if allowed.\u001b[0m\u001b[0;34m\u001b[0m\u001b[0;34m\u001b[0m\u001b[0m\n\u001b[0;32m--> 640\u001b[0;31m         \u001b[0mhistory\u001b[0m \u001b[0;34m=\u001b[0m \u001b[0;34m[\u001b[0m\u001b[0mresp\u001b[0m \u001b[0;32mfor\u001b[0m \u001b[0mresp\u001b[0m \u001b[0;32min\u001b[0m \u001b[0mgen\u001b[0m\u001b[0;34m]\u001b[0m \u001b[0;32mif\u001b[0m \u001b[0mallow_redirects\u001b[0m \u001b[0;32melse\u001b[0m \u001b[0;34m[\u001b[0m\u001b[0;34m]\u001b[0m\u001b[0;34m\u001b[0m\u001b[0m\n\u001b[0m\u001b[1;32m    641\u001b[0m \u001b[0;34m\u001b[0m\u001b[0m\n\u001b[1;32m    642\u001b[0m         \u001b[0;31m# Shuffle things around if there's history.\u001b[0m\u001b[0;34m\u001b[0m\u001b[0;34m\u001b[0m\u001b[0m\n",
      "\u001b[0;32m~/anaconda3/lib/python3.6/site-packages/requests/sessions.py\u001b[0m in \u001b[0;36mresolve_redirects\u001b[0;34m(self, resp, req, stream, timeout, verify, cert, proxies, yield_requests, **adapter_kwargs)\u001b[0m\n\u001b[1;32m    216\u001b[0m                     \u001b[0mproxies\u001b[0m\u001b[0;34m=\u001b[0m\u001b[0mproxies\u001b[0m\u001b[0;34m,\u001b[0m\u001b[0;34m\u001b[0m\u001b[0m\n\u001b[1;32m    217\u001b[0m                     \u001b[0mallow_redirects\u001b[0m\u001b[0;34m=\u001b[0m\u001b[0;32mFalse\u001b[0m\u001b[0;34m,\u001b[0m\u001b[0;34m\u001b[0m\u001b[0m\n\u001b[0;32m--> 218\u001b[0;31m                     \u001b[0;34m**\u001b[0m\u001b[0madapter_kwargs\u001b[0m\u001b[0;34m\u001b[0m\u001b[0m\n\u001b[0m\u001b[1;32m    219\u001b[0m                 )\n\u001b[1;32m    220\u001b[0m \u001b[0;34m\u001b[0m\u001b[0m\n",
      "\u001b[0;32m~/anaconda3/lib/python3.6/site-packages/requests/sessions.py\u001b[0m in \u001b[0;36msend\u001b[0;34m(self, request, **kwargs)\u001b[0m\n\u001b[1;32m    616\u001b[0m \u001b[0;34m\u001b[0m\u001b[0m\n\u001b[1;32m    617\u001b[0m         \u001b[0;31m# Send the request\u001b[0m\u001b[0;34m\u001b[0m\u001b[0;34m\u001b[0m\u001b[0m\n\u001b[0;32m--> 618\u001b[0;31m         \u001b[0mr\u001b[0m \u001b[0;34m=\u001b[0m \u001b[0madapter\u001b[0m\u001b[0;34m.\u001b[0m\u001b[0msend\u001b[0m\u001b[0;34m(\u001b[0m\u001b[0mrequest\u001b[0m\u001b[0;34m,\u001b[0m \u001b[0;34m**\u001b[0m\u001b[0mkwargs\u001b[0m\u001b[0;34m)\u001b[0m\u001b[0;34m\u001b[0m\u001b[0m\n\u001b[0m\u001b[1;32m    619\u001b[0m \u001b[0;34m\u001b[0m\u001b[0m\n\u001b[1;32m    620\u001b[0m         \u001b[0;31m# Total elapsed time of the request (approximately)\u001b[0m\u001b[0;34m\u001b[0m\u001b[0;34m\u001b[0m\u001b[0m\n",
      "\u001b[0;32m~/anaconda3/lib/python3.6/site-packages/requests/adapters.py\u001b[0m in \u001b[0;36msend\u001b[0;34m(self, request, stream, timeout, verify, cert, proxies)\u001b[0m\n\u001b[1;32m    438\u001b[0m                     \u001b[0mdecode_content\u001b[0m\u001b[0;34m=\u001b[0m\u001b[0;32mFalse\u001b[0m\u001b[0;34m,\u001b[0m\u001b[0;34m\u001b[0m\u001b[0m\n\u001b[1;32m    439\u001b[0m                     \u001b[0mretries\u001b[0m\u001b[0;34m=\u001b[0m\u001b[0mself\u001b[0m\u001b[0;34m.\u001b[0m\u001b[0mmax_retries\u001b[0m\u001b[0;34m,\u001b[0m\u001b[0;34m\u001b[0m\u001b[0m\n\u001b[0;32m--> 440\u001b[0;31m                     \u001b[0mtimeout\u001b[0m\u001b[0;34m=\u001b[0m\u001b[0mtimeout\u001b[0m\u001b[0;34m\u001b[0m\u001b[0m\n\u001b[0m\u001b[1;32m    441\u001b[0m                 )\n\u001b[1;32m    442\u001b[0m \u001b[0;34m\u001b[0m\u001b[0m\n",
      "\u001b[0;32m~/anaconda3/lib/python3.6/site-packages/urllib3/connectionpool.py\u001b[0m in \u001b[0;36murlopen\u001b[0;34m(self, method, url, body, headers, retries, redirect, assert_same_host, timeout, pool_timeout, release_conn, chunked, body_pos, **response_kw)\u001b[0m\n\u001b[1;32m    599\u001b[0m                                                   \u001b[0mtimeout\u001b[0m\u001b[0;34m=\u001b[0m\u001b[0mtimeout_obj\u001b[0m\u001b[0;34m,\u001b[0m\u001b[0;34m\u001b[0m\u001b[0m\n\u001b[1;32m    600\u001b[0m                                                   \u001b[0mbody\u001b[0m\u001b[0;34m=\u001b[0m\u001b[0mbody\u001b[0m\u001b[0;34m,\u001b[0m \u001b[0mheaders\u001b[0m\u001b[0;34m=\u001b[0m\u001b[0mheaders\u001b[0m\u001b[0;34m,\u001b[0m\u001b[0;34m\u001b[0m\u001b[0m\n\u001b[0;32m--> 601\u001b[0;31m                                                   chunked=chunked)\n\u001b[0m\u001b[1;32m    602\u001b[0m \u001b[0;34m\u001b[0m\u001b[0m\n\u001b[1;32m    603\u001b[0m             \u001b[0;31m# If we're going to release the connection in ``finally:``, then\u001b[0m\u001b[0;34m\u001b[0m\u001b[0;34m\u001b[0m\u001b[0m\n",
      "\u001b[0;32m~/anaconda3/lib/python3.6/site-packages/urllib3/connectionpool.py\u001b[0m in \u001b[0;36m_make_request\u001b[0;34m(self, conn, method, url, timeout, chunked, **httplib_request_kw)\u001b[0m\n\u001b[1;32m    381\u001b[0m             \u001b[0;32mexcept\u001b[0m \u001b[0mTypeError\u001b[0m\u001b[0;34m:\u001b[0m  \u001b[0;31m# Python 2.6 and older, Python 3\u001b[0m\u001b[0;34m\u001b[0m\u001b[0m\n\u001b[1;32m    382\u001b[0m                 \u001b[0;32mtry\u001b[0m\u001b[0;34m:\u001b[0m\u001b[0;34m\u001b[0m\u001b[0m\n\u001b[0;32m--> 383\u001b[0;31m                     \u001b[0mhttplib_response\u001b[0m \u001b[0;34m=\u001b[0m \u001b[0mconn\u001b[0m\u001b[0;34m.\u001b[0m\u001b[0mgetresponse\u001b[0m\u001b[0;34m(\u001b[0m\u001b[0;34m)\u001b[0m\u001b[0;34m\u001b[0m\u001b[0m\n\u001b[0m\u001b[1;32m    384\u001b[0m                 \u001b[0;32mexcept\u001b[0m \u001b[0mException\u001b[0m \u001b[0;32mas\u001b[0m \u001b[0me\u001b[0m\u001b[0;34m:\u001b[0m\u001b[0;34m\u001b[0m\u001b[0m\n\u001b[1;32m    385\u001b[0m                     \u001b[0;31m# Remove the TypeError from the exception chain in Python 3;\u001b[0m\u001b[0;34m\u001b[0m\u001b[0;34m\u001b[0m\u001b[0m\n",
      "\u001b[0;32m~/anaconda3/lib/python3.6/http/client.py\u001b[0m in \u001b[0;36mgetresponse\u001b[0;34m(self)\u001b[0m\n\u001b[1;32m   1329\u001b[0m         \u001b[0;32mtry\u001b[0m\u001b[0;34m:\u001b[0m\u001b[0;34m\u001b[0m\u001b[0m\n\u001b[1;32m   1330\u001b[0m             \u001b[0;32mtry\u001b[0m\u001b[0;34m:\u001b[0m\u001b[0;34m\u001b[0m\u001b[0m\n\u001b[0;32m-> 1331\u001b[0;31m                 \u001b[0mresponse\u001b[0m\u001b[0;34m.\u001b[0m\u001b[0mbegin\u001b[0m\u001b[0;34m(\u001b[0m\u001b[0;34m)\u001b[0m\u001b[0;34m\u001b[0m\u001b[0m\n\u001b[0m\u001b[1;32m   1332\u001b[0m             \u001b[0;32mexcept\u001b[0m \u001b[0mConnectionError\u001b[0m\u001b[0;34m:\u001b[0m\u001b[0;34m\u001b[0m\u001b[0m\n\u001b[1;32m   1333\u001b[0m                 \u001b[0mself\u001b[0m\u001b[0;34m.\u001b[0m\u001b[0mclose\u001b[0m\u001b[0;34m(\u001b[0m\u001b[0;34m)\u001b[0m\u001b[0;34m\u001b[0m\u001b[0m\n",
      "\u001b[0;32m~/anaconda3/lib/python3.6/http/client.py\u001b[0m in \u001b[0;36mbegin\u001b[0;34m(self)\u001b[0m\n\u001b[1;32m    295\u001b[0m         \u001b[0;31m# read until we get a non-100 response\u001b[0m\u001b[0;34m\u001b[0m\u001b[0;34m\u001b[0m\u001b[0m\n\u001b[1;32m    296\u001b[0m         \u001b[0;32mwhile\u001b[0m \u001b[0;32mTrue\u001b[0m\u001b[0;34m:\u001b[0m\u001b[0;34m\u001b[0m\u001b[0m\n\u001b[0;32m--> 297\u001b[0;31m             \u001b[0mversion\u001b[0m\u001b[0;34m,\u001b[0m \u001b[0mstatus\u001b[0m\u001b[0;34m,\u001b[0m \u001b[0mreason\u001b[0m \u001b[0;34m=\u001b[0m \u001b[0mself\u001b[0m\u001b[0;34m.\u001b[0m\u001b[0m_read_status\u001b[0m\u001b[0;34m(\u001b[0m\u001b[0;34m)\u001b[0m\u001b[0;34m\u001b[0m\u001b[0m\n\u001b[0m\u001b[1;32m    298\u001b[0m             \u001b[0;32mif\u001b[0m \u001b[0mstatus\u001b[0m \u001b[0;34m!=\u001b[0m \u001b[0mCONTINUE\u001b[0m\u001b[0;34m:\u001b[0m\u001b[0;34m\u001b[0m\u001b[0m\n\u001b[1;32m    299\u001b[0m                 \u001b[0;32mbreak\u001b[0m\u001b[0;34m\u001b[0m\u001b[0m\n",
      "\u001b[0;32m~/anaconda3/lib/python3.6/http/client.py\u001b[0m in \u001b[0;36m_read_status\u001b[0;34m(self)\u001b[0m\n\u001b[1;32m    256\u001b[0m \u001b[0;34m\u001b[0m\u001b[0m\n\u001b[1;32m    257\u001b[0m     \u001b[0;32mdef\u001b[0m \u001b[0m_read_status\u001b[0m\u001b[0;34m(\u001b[0m\u001b[0mself\u001b[0m\u001b[0;34m)\u001b[0m\u001b[0;34m:\u001b[0m\u001b[0;34m\u001b[0m\u001b[0m\n\u001b[0;32m--> 258\u001b[0;31m         \u001b[0mline\u001b[0m \u001b[0;34m=\u001b[0m \u001b[0mstr\u001b[0m\u001b[0;34m(\u001b[0m\u001b[0mself\u001b[0m\u001b[0;34m.\u001b[0m\u001b[0mfp\u001b[0m\u001b[0;34m.\u001b[0m\u001b[0mreadline\u001b[0m\u001b[0;34m(\u001b[0m\u001b[0m_MAXLINE\u001b[0m \u001b[0;34m+\u001b[0m \u001b[0;36m1\u001b[0m\u001b[0;34m)\u001b[0m\u001b[0;34m,\u001b[0m \u001b[0;34m\"iso-8859-1\"\u001b[0m\u001b[0;34m)\u001b[0m\u001b[0;34m\u001b[0m\u001b[0m\n\u001b[0m\u001b[1;32m    259\u001b[0m         \u001b[0;32mif\u001b[0m \u001b[0mlen\u001b[0m\u001b[0;34m(\u001b[0m\u001b[0mline\u001b[0m\u001b[0;34m)\u001b[0m \u001b[0;34m>\u001b[0m \u001b[0m_MAXLINE\u001b[0m\u001b[0;34m:\u001b[0m\u001b[0;34m\u001b[0m\u001b[0m\n\u001b[1;32m    260\u001b[0m             \u001b[0;32mraise\u001b[0m \u001b[0mLineTooLong\u001b[0m\u001b[0;34m(\u001b[0m\u001b[0;34m\"status line\"\u001b[0m\u001b[0;34m)\u001b[0m\u001b[0;34m\u001b[0m\u001b[0m\n",
      "\u001b[0;32m~/anaconda3/lib/python3.6/socket.py\u001b[0m in \u001b[0;36mreadinto\u001b[0;34m(self, b)\u001b[0m\n\u001b[1;32m    584\u001b[0m         \u001b[0;32mwhile\u001b[0m \u001b[0;32mTrue\u001b[0m\u001b[0;34m:\u001b[0m\u001b[0;34m\u001b[0m\u001b[0m\n\u001b[1;32m    585\u001b[0m             \u001b[0;32mtry\u001b[0m\u001b[0;34m:\u001b[0m\u001b[0;34m\u001b[0m\u001b[0m\n\u001b[0;32m--> 586\u001b[0;31m                 \u001b[0;32mreturn\u001b[0m \u001b[0mself\u001b[0m\u001b[0;34m.\u001b[0m\u001b[0m_sock\u001b[0m\u001b[0;34m.\u001b[0m\u001b[0mrecv_into\u001b[0m\u001b[0;34m(\u001b[0m\u001b[0mb\u001b[0m\u001b[0;34m)\u001b[0m\u001b[0;34m\u001b[0m\u001b[0m\n\u001b[0m\u001b[1;32m    587\u001b[0m             \u001b[0;32mexcept\u001b[0m \u001b[0mtimeout\u001b[0m\u001b[0;34m:\u001b[0m\u001b[0;34m\u001b[0m\u001b[0m\n\u001b[1;32m    588\u001b[0m                 \u001b[0mself\u001b[0m\u001b[0;34m.\u001b[0m\u001b[0m_timeout_occurred\u001b[0m \u001b[0;34m=\u001b[0m \u001b[0;32mTrue\u001b[0m\u001b[0;34m\u001b[0m\u001b[0m\n",
      "\u001b[0;32m~/anaconda3/lib/python3.6/site-packages/urllib3/contrib/pyopenssl.py\u001b[0m in \u001b[0;36mrecv_into\u001b[0;34m(self, *args, **kwargs)\u001b[0m\n\u001b[1;32m    278\u001b[0m     \u001b[0;32mdef\u001b[0m \u001b[0mrecv_into\u001b[0m\u001b[0;34m(\u001b[0m\u001b[0mself\u001b[0m\u001b[0;34m,\u001b[0m \u001b[0;34m*\u001b[0m\u001b[0margs\u001b[0m\u001b[0;34m,\u001b[0m \u001b[0;34m**\u001b[0m\u001b[0mkwargs\u001b[0m\u001b[0;34m)\u001b[0m\u001b[0;34m:\u001b[0m\u001b[0;34m\u001b[0m\u001b[0m\n\u001b[1;32m    279\u001b[0m         \u001b[0;32mtry\u001b[0m\u001b[0;34m:\u001b[0m\u001b[0;34m\u001b[0m\u001b[0m\n\u001b[0;32m--> 280\u001b[0;31m             \u001b[0;32mreturn\u001b[0m \u001b[0mself\u001b[0m\u001b[0;34m.\u001b[0m\u001b[0mconnection\u001b[0m\u001b[0;34m.\u001b[0m\u001b[0mrecv_into\u001b[0m\u001b[0;34m(\u001b[0m\u001b[0;34m*\u001b[0m\u001b[0margs\u001b[0m\u001b[0;34m,\u001b[0m \u001b[0;34m**\u001b[0m\u001b[0mkwargs\u001b[0m\u001b[0;34m)\u001b[0m\u001b[0;34m\u001b[0m\u001b[0m\n\u001b[0m\u001b[1;32m    281\u001b[0m         \u001b[0;32mexcept\u001b[0m \u001b[0mOpenSSL\u001b[0m\u001b[0;34m.\u001b[0m\u001b[0mSSL\u001b[0m\u001b[0;34m.\u001b[0m\u001b[0mSysCallError\u001b[0m \u001b[0;32mas\u001b[0m \u001b[0me\u001b[0m\u001b[0;34m:\u001b[0m\u001b[0;34m\u001b[0m\u001b[0m\n\u001b[1;32m    282\u001b[0m             \u001b[0;32mif\u001b[0m \u001b[0mself\u001b[0m\u001b[0;34m.\u001b[0m\u001b[0msuppress_ragged_eofs\u001b[0m \u001b[0;32mand\u001b[0m \u001b[0me\u001b[0m\u001b[0;34m.\u001b[0m\u001b[0margs\u001b[0m \u001b[0;34m==\u001b[0m \u001b[0;34m(\u001b[0m\u001b[0;34m-\u001b[0m\u001b[0;36m1\u001b[0m\u001b[0;34m,\u001b[0m \u001b[0;34m'Unexpected EOF'\u001b[0m\u001b[0;34m)\u001b[0m\u001b[0;34m:\u001b[0m\u001b[0;34m\u001b[0m\u001b[0m\n",
      "\u001b[0;32m~/anaconda3/lib/python3.6/site-packages/OpenSSL/SSL.py\u001b[0m in \u001b[0;36mrecv_into\u001b[0;34m(self, buffer, nbytes, flags)\u001b[0m\n\u001b[1;32m   1712\u001b[0m             \u001b[0mresult\u001b[0m \u001b[0;34m=\u001b[0m \u001b[0m_lib\u001b[0m\u001b[0;34m.\u001b[0m\u001b[0mSSL_peek\u001b[0m\u001b[0;34m(\u001b[0m\u001b[0mself\u001b[0m\u001b[0;34m.\u001b[0m\u001b[0m_ssl\u001b[0m\u001b[0;34m,\u001b[0m \u001b[0mbuf\u001b[0m\u001b[0;34m,\u001b[0m \u001b[0mnbytes\u001b[0m\u001b[0;34m)\u001b[0m\u001b[0;34m\u001b[0m\u001b[0m\n\u001b[1;32m   1713\u001b[0m         \u001b[0;32melse\u001b[0m\u001b[0;34m:\u001b[0m\u001b[0;34m\u001b[0m\u001b[0m\n\u001b[0;32m-> 1714\u001b[0;31m             \u001b[0mresult\u001b[0m \u001b[0;34m=\u001b[0m \u001b[0m_lib\u001b[0m\u001b[0;34m.\u001b[0m\u001b[0mSSL_read\u001b[0m\u001b[0;34m(\u001b[0m\u001b[0mself\u001b[0m\u001b[0;34m.\u001b[0m\u001b[0m_ssl\u001b[0m\u001b[0;34m,\u001b[0m \u001b[0mbuf\u001b[0m\u001b[0;34m,\u001b[0m \u001b[0mnbytes\u001b[0m\u001b[0;34m)\u001b[0m\u001b[0;34m\u001b[0m\u001b[0m\n\u001b[0m\u001b[1;32m   1715\u001b[0m         \u001b[0mself\u001b[0m\u001b[0;34m.\u001b[0m\u001b[0m_raise_ssl_error\u001b[0m\u001b[0;34m(\u001b[0m\u001b[0mself\u001b[0m\u001b[0;34m.\u001b[0m\u001b[0m_ssl\u001b[0m\u001b[0;34m,\u001b[0m \u001b[0mresult\u001b[0m\u001b[0;34m)\u001b[0m\u001b[0;34m\u001b[0m\u001b[0m\n\u001b[1;32m   1716\u001b[0m \u001b[0;34m\u001b[0m\u001b[0m\n",
      "\u001b[0;31mKeyboardInterrupt\u001b[0m: "
     ]
    }
   ],
   "source": [
    "start_post = 349000\n",
    "end_post = 349200\n",
    "for x in tqdm(range(start_post, end_post, 2)):\n",
    "    resp = requests.get('https://habrahabr.ru/post/%d/' % x)"
   ]
  },
  {
   "cell_type": "code",
   "execution_count": 28,
   "metadata": {},
   "outputs": [
    {
     "name": "stdout",
     "output_type": "stream",
     "text": [
      "CPU times: user 3.07 s, sys: 479 ms, total: 3.55 s\n",
      "Wall time: 8.05 s\n"
     ]
    }
   ],
   "source": [
    "%%time\n",
    "t = ThreadPool(16)\n",
    "r = t.map(lambda x: requests.get('https://habrahabr.ru/post/%d/' % x), \n",
    "          range(start_post, end_post, 2))\n",
    "t.close()\n",
    "t.join()"
   ]
  },
  {
   "cell_type": "markdown",
   "metadata": {},
   "source": [
    "### Selenium\n",
    "\n",
    "https://sites.google.com/a/chromium.org/chromedriver/downloads"
   ]
  },
  {
   "cell_type": "code",
   "execution_count": null,
   "metadata": {
    "collapsed": true
   },
   "outputs": [],
   "source": [
    "BEATLES = 'https://music.yandex.ru/artist/35004/tracks'\n",
    "resp = requests.get(BEATLES, headers=headers)\n",
    "bs = BeautifulSoup(resp.content, 'lxml')"
   ]
  },
  {
   "cell_type": "code",
   "execution_count": null,
   "metadata": {
    "collapsed": true
   },
   "outputs": [],
   "source": [
    "bs.find_all('div', 'd-track')"
   ]
  },
  {
   "cell_type": "code",
   "execution_count": null,
   "metadata": {
    "collapsed": true
   },
   "outputs": [],
   "source": [
    "import re"
   ]
  },
  {
   "cell_type": "code",
   "execution_count": null,
   "metadata": {
    "collapsed": true
   },
   "outputs": [],
   "source": [
    "context_len = 200\n",
    "for x in re.finditer('Yesterday', resp.content):\n",
    "    print resp.content[x.start() - context_len : x.end() + context_len]\n",
    "    print "
   ]
  },
  {
   "cell_type": "code",
   "execution_count": null,
   "metadata": {
    "collapsed": true
   },
   "outputs": [],
   "source": [
    "len(bs.find_all('a', 'track__title'))"
   ]
  },
  {
   "cell_type": "code",
   "execution_count": null,
   "metadata": {
    "collapsed": true
   },
   "outputs": [],
   "source": [
    "track_set = {x.get('href') for x in bs.find_all('a', 'track__title')}\n",
    "list(track_set)[:5]"
   ]
  },
  {
   "cell_type": "code",
   "execution_count": null,
   "metadata": {
    "collapsed": true
   },
   "outputs": [],
   "source": [
    "len(track_set)"
   ]
  },
  {
   "cell_type": "code",
   "execution_count": null,
   "metadata": {
    "collapsed": true
   },
   "outputs": [],
   "source": [
    "from selenium import webdriver"
   ]
  },
  {
   "cell_type": "code",
   "execution_count": null,
   "metadata": {
    "collapsed": true
   },
   "outputs": [],
   "source": [
    "driver = webdriver.Chrome('/Users/v.fedorenko/chromedriver')\n",
    "driver.get(BEATLES)"
   ]
  },
  {
   "cell_type": "code",
   "execution_count": null,
   "metadata": {
    "collapsed": true,
    "scrolled": true
   },
   "outputs": [],
   "source": [
    "track_ids = set()\n",
    "driver.execute_script(\"window.scrollTo(0, 0)\")\n",
    "height = driver.find_element_by_class_name('lightlist_tracks').size.get('height')\n",
    "for step in tqdm(range(0, height+200, 300)):\n",
    "    driver.execute_script(\"window.scrollTo(0, %s)\" % step)\n",
    "    driver.refresh()\n",
    "    for x in driver.find_elements_by_class_name('d-track__title'):\n",
    "        track_ids.add(x.get_attribute('href'))"
   ]
  },
  {
   "cell_type": "code",
   "execution_count": null,
   "metadata": {
    "collapsed": true
   },
   "outputs": [],
   "source": [
    "len(track_ids)"
   ]
  },
  {
   "cell_type": "markdown",
   "metadata": {
    "collapsed": true
   },
   "source": [
    "## Прокси"
   ]
  },
  {
   "cell_type": "code",
   "execution_count": 30,
   "metadata": {},
   "outputs": [
    {
     "name": "stdout",
     "output_type": "stream",
     "text": [
      "188.44.42.220\n"
     ]
    }
   ],
   "source": [
    "resp = requests.get('https://www.expressvpn.com/ru/what-is-my-ip')\n",
    "bs = BeautifulSoup(resp.content, 'lxml')\n",
    "print (bs.find('div', 'detail-value').text)"
   ]
  },
  {
   "cell_type": "code",
   "execution_count": 32,
   "metadata": {},
   "outputs": [
    {
     "name": "stdout",
     "output_type": "stream",
     "text": [
      "5.9.78.89\n"
     ]
    }
   ],
   "source": [
    "# https://hidemy.name/ru/proxy-list/?type=hs#list\n",
    "proxies = {\n",
    "    'http': 'http://5.9.78.89:3128',\n",
    "    'https': 'https://5.9.78.89:3128'\n",
    "}\n",
    "resp = requests.get('https://www.expressvpn.com/ru/what-is-my-ip', proxies=proxies)\n",
    "bs = BeautifulSoup(resp.content, 'lxml')\n",
    "print (bs.find('div', 'detail-value').text)"
   ]
  },
  {
   "cell_type": "markdown",
   "metadata": {},
   "source": [
    "## Cookies"
   ]
  },
  {
   "cell_type": "code",
   "execution_count": null,
   "metadata": {
    "collapsed": true
   },
   "outputs": [],
   "source": [
    "resp = requests.get('http://habrahabr.ru')\n",
    "bs = BeautifulSoup(resp.content, 'lxml')\n",
    "print bs.find('button', 'btn_navbar_user-dropdown')"
   ]
  },
  {
   "cell_type": "code",
   "execution_count": null,
   "metadata": {
    "collapsed": true
   },
   "outputs": [],
   "source": [
    "COOKIES = ''\n",
    "cookies = dict(map(lambda x: x.strip().split('='), COOKIES.split(';')))\n",
    "cookies"
   ]
  },
  {
   "cell_type": "code",
   "execution_count": null,
   "metadata": {
    "collapsed": true
   },
   "outputs": [],
   "source": [
    "resp = requests.get('http://habrahabr.ru', cookies=cookies)\n",
    "bs = BeautifulSoup(resp.content, 'lxml')\n",
    "print bs.find('button', 'btn_navbar_user-dropdown').get('title')"
   ]
  },
  {
   "cell_type": "code",
   "execution_count": null,
   "metadata": {
    "collapsed": true
   },
   "outputs": [],
   "source": []
  },
  {
   "cell_type": "code",
   "execution_count": null,
   "metadata": {
    "collapsed": true
   },
   "outputs": [],
   "source": []
  },
  {
   "cell_type": "markdown",
   "metadata": {},
   "source": [
    "Некоторые советы:\n",
    "\n",
    "- Сохраняйте страницы в БД, чтобы не перекачивать их с самого начала, есть ваш процесс упадёт\n",
    "- Доставайте из страниц всю полезную информаицю или сохраняте оригинал html\n",
    "- Надеемся на лучшее (можем найти нужный div, у которого уникальный class), готовимся к худшему (копируем или гуглим XPath-запросы) \n",
    "- Перед тем как краулить - потратье пару минут на то, чтобы поработать с сайтом\n",
    "- Не забывайте, что ваша библиотека делает запросы не совсем так, как ваш браузер: может потребоваться передача всех заголовков (юзерагент, ваши куки)\n",
    "- Прокси\n",
    "- Многопоточность. Количество потоков определяется опытным путём\n",
    "- Если много интерактивных элементов: selenium или пытаться по инструментам разработчика отследить логику запросов за дополнительным контентом\n",
    "- Помнить, что мы можем обкачивать или много страниц с одного сайта, или много страниц с разных. Если качать с одного - проще заметить проблемы:\n",
    "- - код ответа 200, но сообщение о блокировке IP\n",
    "- - сайт говорит, что данные в одной кодировке, а на самом деле они в другой\n",
    "- - подумать о нормализации урлов (нужно ли сохранять схему (http, https), нужно ли www.). Например, это разные урлы?\n",
    "- - - `\"ya.ru\", \"ya.ru/\", \"ya.ru/?\", \"http://ya.ru\", \"https://wwww.ya.ru\", \"ya.ru/?utm_source=vk\", \"ya.ru/?query=parsing\",`"
   ]
  },
  {
   "cell_type": "code",
   "execution_count": null,
   "metadata": {
    "collapsed": true
   },
   "outputs": [],
   "source": []
  },
  {
   "cell_type": "code",
   "execution_count": null,
   "metadata": {
    "collapsed": true
   },
   "outputs": [],
   "source": []
  },
  {
   "cell_type": "code",
   "execution_count": null,
   "metadata": {
    "collapsed": true
   },
   "outputs": [],
   "source": []
  }
 ],
 "metadata": {
  "kernelspec": {
   "display_name": "Python 3",
   "language": "python",
   "name": "python3"
  },
  "language_info": {
   "codemirror_mode": {
    "name": "ipython",
    "version": 3
   },
   "file_extension": ".py",
   "mimetype": "text/x-python",
   "name": "python",
   "nbconvert_exporter": "python",
   "pygments_lexer": "ipython3",
   "version": "3.6.4"
  }
 },
 "nbformat": 4,
 "nbformat_minor": 2
}
